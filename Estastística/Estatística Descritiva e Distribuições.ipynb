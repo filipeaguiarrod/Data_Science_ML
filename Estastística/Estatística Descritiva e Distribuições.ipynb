{
 "cells": [
  {
   "cell_type": "markdown",
   "metadata": {},
   "source": [
    "# Estatística Descritiva e Distribuições\n",
    "![](https://i.pinimg.com/originals/a8/09/94/a8099418b2137e113c808fff5df2dc2a.gif)"
   ]
  },
  {
   "cell_type": "code",
   "execution_count": 7,
   "metadata": {},
   "outputs": [],
   "source": [
    "# vamos importar algumas bibliotecas que serão utilizadas no exercício!\n",
    "import numpy as np\n",
    "import scipy.stats as sct"
   ]
  },
  {
   "cell_type": "markdown",
   "metadata": {},
   "source": [
    "<h2>Vamos rever alguns conceitos básicos para aquecer?</h2><br>\n",
    "\n",
    "O que nós iremos rever no conteúdo de hoje é:<br>\n",
    "<ul>\n",
    "    <li>Tipos de variável: qualitativa nominal, qualitativa ordenada, quantitativa discreta e quantitativa contínua</li>\n",
    "    <li>Histograma</li>\n",
    "    <li>Média, mediana (ou separatriz) e moda</li>\n",
    "    <li>Medidas de dispersão: Variância e desvio padrão</li>\n",
    "    <li>Medidas de posição: quartis e outliers</li>\n",
    "    <li>Distribuição Normal</li>\n",
    "    <li>Distribuição t de Student</li>\n",
    "    <li>Distribuição qui quadrado</li>\n",
    "    <li>Distribuição uniforme</li>\n",
    "</ul>"
   ]
  },
  {
   "cell_type": "markdown",
   "metadata": {},
   "source": [
    "<h3>Tipos de variável</h3><br>\n",
    "As variáveis podem descrever uma qualidade ou atributo do que se está analisando. Neste caso, são chamadas de <b>variáveis qualitativas</b>. Caso neste tipo de atributo exista alguma ordem as variáveis são chamadas de <b>ordinal</b>, por exemplo quando estamos analisando o grau de instrução de um grupo de indivíduos, pois existe uma ordem em ensino fundamental, ensino médio e superior. Outro exemplo seria classe social, onde podemos dividí-la em baixa, média e alta. Já quando não há uma ordem no atributo, chamamos estas variáveis de <b>nominais</b>, um exemplo é o sexo dos indivíduos, outro seria seu estado civil.<br>\n",
    "As variáveis também podem representar números resultantes de uma contagem ou mensuração, sendo então chamadas de <b>variáveis quantitativas</b>. Quando normalmente resultantes de um processo de contagem, chamamos de <b>discretas</b>, como quantidade de filhos ou quantos veículos o indivíduo possui. Quando resultantes de um processo de mensuração, chamamos de <b>contínuas</b>, como estatura e peso de um indivíduo.<br>\n",
    "\n",
    "![](https://veterinariaexemplar.files.wordpress.com/2018/08/figura-15-classificacao-dos-principais-tipos-de-variaveis-triola-2005-3-bastos.png?w=809)<br>\n",
    "<b>Bônus</b>: Leia a página 12 a 14 do livro Estatística Básica do Morettin para ter mais informações sobre tipos de variáveis!"
   ]
  },
  {
   "cell_type": "markdown",
   "metadata": {},
   "source": [
    "<h3>Histograma</h3><br>\n",
    "Histogramas são uma ótima forma de visualizarmos como nossos dados estão divididos. Eles funcionam em cima da <b>contagem</b> de elementos. Distribuímos no eixo x faixas de intervalo e contamos quantos elementos ficam em cada faixa, resultando em uma distribuição de frequência. Ele ajuda a ter uma ideia de qual distribuição utilizar para prever futuros inputs de data. Só é importante ressaltar que nem sempre as amplitudes de faixa que vem pré-definidos são os ideais, depende muito dos dados que você está observando. Isso pode tornar seu histograma inútil.<br>\n",
    "\n",
    "![](https://4.bp.blogspot.com/_ahqYy8m3lLA/TSChZhKM4EI/AAAAAAAAAEA/jisCKjlaP50/s1600/Histograma.png)<br>\n",
    "<b>Bônus</b>: Para quem quiser dar uma olhadinha a mais em conteúdo sobre histograma o canal StatQuest tem esse vídeo bem curtinho e bacana <a href=\"https://www.youtube.com/watch?v=qBigTkBLU6g&list=PLblh5JKOoLUK0FLuzwntyYI10UQFUhsY9&index=2&t=0s\">aqui</a> explicando Histogramas e este <a href=\"https://www.youtube.com/watch?v=oI3hZJqXJuc&list=PLblh5JKOoLUK0FLuzwntyYI10UQFUhsY9&index=2\">daqui</a> que explica o que é uma Distribuição Estatística. Leia as páginas 21 e 22 do livro Estatística Básica do Morettin para saber mais também!"
   ]
  },
  {
   "cell_type": "markdown",
   "metadata": {},
   "source": [
    "<h3>Média, mediana (ou separatriz) e moda</h3><br>\n",
    "Estes três conceitos servem quando queremos representar um conjunto de dados em apenas um valor. Vamos entender melhor cada um deles?<br>\n",
    "<b>Média</b>: essa, de todas, é a medida mais conhecida por todos. É o resultado da soma das observações dividida pelo número delas. Devemos ter muito cuidado ao utilizar a média, pois, com a ocorrência de <i>outliers</i> a média pode conduzir a erros de interpretação. Por exemplo, se quase todos os integrantes de um grupos tem entre 20 a 30 anos, mas dois possuem 90, a média pode levar a entender que os integrantes são mais velhos do que realmente são.<br>\n",
    "<b>Mediana ou Separatriz</b>: é a posição central da série de observações, quando ordenadas em ordem crescente. Na maioria das situações é a medida mais adequada por ser resistente a mudanças de uma pequena porção de dados e por não se afetar por <i>outliers</i>.<br>\n",
    "<b>Moda</b>: é a realização mais frequente de um conjunto de valores observados.<br>\n",
    "\n",
    "![](https://images.educamaisbrasil.com.br/content/banco_de_imagens/eb/D/media-moda-mediana-matematica.jpg)<br>\n",
    "<b>Bônus</b>: Leia a página 39 e 40 do livro Estatística Básica do Morettin para saber mais! Tem também esse vídeo da Khan Academy que tem um exercício que explica bem direitinho como funciona cada uma dessas medidas <a href=\"https://www.youtube.com/watch?v=Ozz58fuduH0\">aqui</a>."
   ]
  },
  {
   "cell_type": "markdown",
   "metadata": {},
   "source": [
    "<h3>Medidas de dispersão: Variância e desvio padrão</h3><br>\n",
    "Para conseguir entender como ocorre a dispersão dos dados em torno de sua média temos duas medidas que são muito utilizadas, o <b>desvio padrão</b> e a <b>variância</b>. Basicamente, o que fazemos é verificar como se desviam as observações em relação à média dessas mesmas observações.<br>\n",
    "Fórmula da variância:<br>\n",
    "\n",
    "![](https://4.bp.blogspot.com/-iCv-Ig-OThA/VXGsr8BhwUI/AAAAAAAAAvo/FPwXwzTd7eM/s1600/varianciaPop.png)<br>\n",
    "A <b>variância</b> calcula o <b><u>quadrado da distância de cada um dos pontos até a média (x - x barra) e divide pela quantidade de elementos observados na amostra</u></b>. Como fica em uma medida diferente da amostra, por exemplo a amostra está em cm, a variância estará em cm², utilizamos muito o <b>desvio padrão</b>, que é <b><u>sua raiz quadrada positiva</u></b>.<br>\n",
    "\n",
    "Fórmula do desvio padrão:\n",
    "![](https://encrypted-tbn0.gstatic.com/images?q=tbn:ANd9GcTdM18p7NlqGTSEMNEj0u70qUE6mEormDPX_pAP-ZQYnmWvb6R2&s)<br>\n",
    "    \n",
    "<b>Bônus</b>: Leia as páginas 41 a 43 do livro Estatística Básica do Morettin para saber mais! Outro bônus bem bacana é esse vídeo com um exemplo que descreve porque média não é um bom exemplo, como funciona a variância e o desvio padrão, bem como resolve um exercício para consolidar os conceitos, dá uma olhadinha <a href=\"https://www.youtube.com/watch?v=okczT8W1fag\">aqui</a>"
   ]
  },
  {
   "cell_type": "markdown",
   "metadata": {},
   "source": [
    "<h3>Medidas de posição: quartis e outliers</h3><br>\n",
    "Pode ser que usar apenas a variância e o desvio padrão não nos dê uma noção de representação de dados porque são afetados por valores extremos e também não nos trazem a ideia da simetria da distribuição destes dados. Para isso nós utilizamos os quantis de ordem q(p), onde p é uma proporção qualquer, aonde que todas as observações sejam menores que q(p). O que nós mais utilizamos são alguns quantis bem famosos. São eles:<br>\n",
    "<ul>\n",
    "    <li>q(0,25): 1º Quartil</li>\n",
    "    <li>q(0,50): 2º Quartil - a Mediana ou Separatriz dos dados</li>\n",
    "    <li>q(0,75): 3º Quartil<li>\n",
    "</ul><br>\n",
    "Um jeito bem comum de representar esses quartis é com o gráfico de boxplot, ou gráfico \"caixa-de-bigodes\" (gente eu juro que é esse o nome).<br>\n",
    "Aqui a gente vê um gráfico boxplot explicando como que funcionam as divisões, a caixa representa o intervalo interquartílico ou dispersão, ou seja, entre o 1º Quartil e o 3º Quartil, o que quer dizer que a caixa contém 50% dos dados analisados. A caixa fica dentro do limite inferior e o limite superior, que contemplam também os valores adjacentes. O que fica fora deste intervalo é chamado de <b><i>outlier</i></b> ou de <b><i>valores atípicos</i></b>\n",
    "\n",
    "![](https://miro.medium.com/max/609/1*r41SQj0LbdCV6rWoIos6mA.png)<br>\n",
    "\n",
    "<b>Bônus</b>: Leia as páginas 45 a 55 do livro Estatística Básica do Morettin para saber mais! <a href=\"https://www.youtube.com/watch?v=IFKQLDmRK0Y\">Aqui</a> tem um vídeo bacana explicando quantils e percentis e <a href=\"https://www.youtube.com/watch?v=fHLhBnmwUM0\">aqui</a> temos um vídeo ótimo vídeo explicando boxplots."
   ]
  },
  {
   "cell_type": "markdown",
   "metadata": {},
   "source": [
    "<h3>Distribuição Normal</h3><br>\n",
    "Conhecida como distribuição normal, distribuição gaussiana, curva de sino, é uma distribuição simétrica, sempre com o centro na média dos dados. A curva pode ser bem alta ou bem baixa dependendo do intervalo de dados, que é dado pelo desvio padrão. Quanto menor o desvio padrão, mais alta a curva, quanto menor o desvio padrão mais achatada a curva. Saber o desvio padrão é muito importante, pois em distribuições normais 95% dos dados ficam entre +-2 desvios padrões da média. Abaixo deixei um gráfico que demonstra melhor como se comportam os dados em distribuições normais. Algumas distribuições normais bem conhecidas são a altura do ser humano, tamanho de bicos de passarinhos, mas vocês também sabiam que o modelo de precificação de derivativos Black Scholes usa a distribuição normal? Ou que a distribuição normal é utilizada para calibrar a balística de armamentos?<br>\n",
    "\n",
    "![normal](https://cdn-images-1.medium.com/max/1600/1*IZ2II2HYKeoMrdLU5jW6Dw.png)<br>\n",
    "<b>Bônus</b>: Leia as páginas 188 a 193 do livro Estatística Básica do Morettin para saber mais! Olha também <a href=\"https://www.youtube.com/watch?v=rzFX5NWojp0\">esse</a> vídeo super bacana explicando a distribuição normal.<br>\n",
    "<b>Curiosidade</b>: Você sabia que a distribuição normal, também chamada de distribuição gaussiana, tem origem em Gauss e seus trabalhos sobre erros de observações astronômicas lá em 1810?"
   ]
  },
  {
   "cell_type": "markdown",
   "metadata": {},
   "source": [
    "<h3>Distribuição t de Student</h3><br>\n",
    "A distribuição de Student é importante para estudos de inferências de médias populacionais, onde não se sabe qual é a média ou o desvio padrão da população, mas ela deve ser normal. É uma distribuição de densidade de probabilidade que por ser amplamente utilizada consta com tabelas prontas para consulta. É uma curva simétrica, que lembra a curva normal, só que tem caudas mais longas. Sua forma varia conforme seu grau de liberdade, conceito também importante para o cálculo da distribuição qui quadrado. <br>\n",
    "O grau de liberdade é o número de determinações independentes (dimensão da amostra) menos o número de parâmetros estatísticos a serem avaliados na população.<br>\n",
    "Suponha Z, uma variável aleatória de distribuição normal padrão com média 0 e variância 1, e V, uma variável aleatória com distribuição Chi-quadrado com ν graus de liberdade. Se Z e V são independentes, então a distribuição da variável aleatória t será:<br>\n",
    "\n",
    "![](https://wikimedia.org/api/rest_v1/media/math/render/svg/cddcdb6beba5e18cc584334ead7cbcb4921ec170)\n",
    "<b>Bônus</b>: Leia as páginas 203 e 204 do livro Estatística Básica do Morettin para saber mais! Tem <a href=\"https://www.youtube.com/watch?v=32CuxWdOlow\">esse</a> vídeo bem bacana pra dar uma estudada a mais no conceito pra quem quiser também!\n",
    "<b>Curiosidade</b>: Você sabia que o autor da distribuição de Student usava este pseudônimo porque não podia publicar trabalhos em seu nome William Sealy Gosset enquanto trabalhava na cervejaria da Guiness por conta de seu contrato de trabalho?"
   ]
  },
  {
   "cell_type": "markdown",
   "metadata": {},
   "source": [
    "<h3>Distribuição qui quadrado</h3></br>\n",
    "A distribuição de qui quadrado ou chi square é amplamente utilizada na estatística. Ela serve para realizar o teste de x², onde avaliamos quantitativamente a relação entre o resultado de um experimento e a distribuição esperada para o fenômeno. Ela nos diz com quanta certeza os valores observados podem ser aceitos como regidos pela teoria em questão. Ela também é utilizada em outros testes de hipótese.<br>\n",
    "A distribuição de qui quadrado é uma distribuição de densidade de probabilidade, que representa a chance de x² estar em um determinado intervalo, por exemplo, entre eventos observados e eventos esperados. É uma distribuição não simétrica e para que seja possível torná-la mais simétrica devemos aumentar seu grau de liberdade. É bem comum utilizarmos uma tabela para consultar os resultados de qui quadrado que nos apresentam intervalos de confiança para cada grau de liberdade.<br>\n",
    "Aqui deixei um gráfico que muda conforme aumentamos o grau de liberdade da distribuição qui quadrado.</br>\n",
    "\n",
    "![](https://upload.wikimedia.org/wikipedia/commons/a/ae/IQ_-_distribui%C3%A7%C3%A3o_assim%C3%A9trica.gif)\n",
    "<b>Bônus</b>: Leia as páginas 201 e 202 do livro Estatística Básica do Morettin para saber mais! No YouTube da Khan Academy temos <a href=\"https://www.youtube.com/watch?v=dXB3cUGnaxQ\">este</a> vídeo que explica a distribuição de qui quadrado e <a href=\"https://www.youtube.com/watch?v=2QeDRsxSF9M\">este</a> vídeo que fala sobre o teste da distribuição qui quadrado."
   ]
  },
  {
   "cell_type": "markdown",
   "metadata": {},
   "source": [
    "<h3>Distribuição uniforme</h3><br>\n",
    "Na distribuição uniforme nós sempre sabemos qual a cara da função da probabilidade. Ela é 1 dividido pela diferença do intervalo, caso o evento esteja no intervalo, ou 0 para os demais casos. A maioria das linguagens de programação, pacotes estatísticos ou planilhas de cálculo possuem um gerador de números aleatórios, que gera a partir de uma distribuição uniforme, com valores entre 0 e 1. Esse número é chamado de pseudo-aleatório, porque é possível repetir a mesma sequência a partir de uma mesma semente (valor inteiro). Vocês utilizarão muitas seeds ao longo de sua vida de data scientists.<br>\n",
    "    \n",
    "![](https://segredosdaestatistica.files.wordpress.com/2016/04/unif1.jpg)<br>\n",
    "<b>Bônus</b>: Leia as páginas 186 a 188 do livro Estatística Básica do Morettin para saber mais! E olha também esse vídeo <a href=\"https://www.youtube.com/watch?v=vjtFJxHo2Tw\">aqui</a> que também explica um exercício que vai ajudar a consolidar seus conceitos melhor."
   ]
  },
  {
   "cell_type": "markdown",
   "metadata": {},
   "source": [
    "# Vamos nos exercitar então?\n",
    "![](https://i.gifer.com/3H8W.gif)"
   ]
  },
  {
   "cell_type": "markdown",
   "metadata": {},
   "source": [
    "Antes de começar vamos fazer algumas definições. Para isso vamos usar muito as bibliotecas NumPy e SciPy."
   ]
  },
  {
   "cell_type": "code",
   "execution_count": 52,
   "metadata": {},
   "outputs": [],
   "source": [
    "# lista de números que vamos avaliar\n",
    "\n",
    "lista = [3, 5, 6, 6, 6, 6, 6, 7, 10, 10, 13, 13, 14, 16, 17, 17, 18, 20, 20, 20]"
   ]
  },
  {
   "cell_type": "code",
   "execution_count": 53,
   "metadata": {},
   "outputs": [],
   "source": [
    "# Vamos gerar todas as distribuições considerando que para todos a localização é 10 da média e a distância da média (largura) é 2\n",
    "\n",
    "# aqui estamos gerando um array com uma distribuição normal\n",
    "\n",
    "normal = sct.norm.rvs(loc=10, scale=2, size=20)\n",
    "\n",
    "# aqui estamos gerando um array com uma distribuição t Student\n",
    "\n",
    "t_student = sct.t.rvs(lista, loc=10, scale=2, size=20)\n",
    "\n",
    "# aqui estamos gerando um array com uma distribuição qui quadrado\n",
    "\n",
    "qui_quadrado = sct.chi2.rvs(lista, loc=10, scale=2, size=20)\n",
    "\n",
    "# aqui estamos gerando um array com uma distribuição uniforme\n",
    "\n",
    "uniforme = sct.uniform.rvs(loc=10, scale=2, size=20)"
   ]
  },
  {
   "cell_type": "markdown",
   "metadata": {},
   "source": [
    "<h1>1. Vamos calcular a média, mediana e moda de cada uma das distribuições</h1><br>\n",
    "Para começarmos a ter uma ideia de como cada distribuição se comporta e entender a diferença entre elas, vamos calcular suas médias, medianas e moda. Para isso, iremos utilizar algumas funções, uma que é nativa do Python, a mean(), que calcula a média dos dados, uma que faz parte da biblioteca NumPy np.quantile(data, quantile), que calcula um determinado quantil (entre 0 e 1) dos dados, e uma que faz parte da biblioteca SciPy statistics, a mode(data). A função mode(data) (aqui será sct.mode()) retorna um objeto desta forma: \"ModeResult(mode=array([[1, 3, 2, 2, 1, 1]]), count=array([[1, 2, 2, 2, 1, 2]]))\", para trazermos apenas a moda, precisamos recortar o resultado, usando o [] e selecionando o primeiro elemento e depois novamente selecionando o primeiro elemento da lista."
   ]
  },
  {
   "cell_type": "code",
   "execution_count": 45,
   "metadata": {},
   "outputs": [
    {
     "data": {
      "text/plain": [
       "8.019069274533553"
      ]
     },
     "execution_count": 45,
     "metadata": {},
     "output_type": "execute_result"
    }
   ],
   "source": [
    "normal.mean() # média dos dados\n",
    "np.quantile(normal,q=0.5) #mediana onde o q2 = 50% dos dados entre cada lado\n",
    "sct.mode(normal)[0][0] # traz a moda da normal\n"
   ]
  },
  {
   "cell_type": "code",
   "execution_count": 59,
   "metadata": {
    "scrolled": true
   },
   "outputs": [
    {
     "name": "stdout",
     "output_type": "stream",
     "text": [
      "A média da distribuição normal é 10.908942433202142, sua mediana é 10.366433002204484 e sua moda é 8.061560190593674.\n",
      "A média da distribuição t Student é 9.544610472819333, sua mediana é 9.247364640278214 e sua moda é 6.7209742359786295.\n",
      "A média da distribuição qui quadrado é 30.602264485687236, sua mediana é 28.171691535452855 e sua moda é 11.206836947822438.\n",
      "A média da distribuição uniforme é 11.006642411832589, sua mediana é 11.054035431164408 e sua moda é 10.055306314854635.\n"
     ]
    }
   ],
   "source": [
    "# Comece calculando a média, a mediana e a moda da distribuição normal\n",
    "\n",
    "# Printe os resultados completando o format\n",
    "\n",
    "print(\"A média da distribuição normal é {}, sua mediana é {} e sua moda é {}.\".format(normal.mean(),np.quantile(normal,q=0.5),sct.mode(normal)[0][0]))\n",
    "\n",
    "# Continue calculando a média, a mediana e a moda da distribuição t Student\n",
    "\n",
    "# Printe os resultados completando o format\n",
    "\n",
    "print(\"A média da distribuição t Student é {}, sua mediana é {} e sua moda é {}.\".format(t_student.mean(),np.quantile(t_student,q=0.5),sct.mode(t_student)[0][0]))\n",
    "\n",
    "# Continue calculando a média, a mediana e a moda da distribuição qui quadrado\n",
    "\n",
    "# Printe os resultados completando o format\n",
    "\n",
    "print(\"A média da distribuição qui quadrado é {}, sua mediana é {} e sua moda é {}.\".format(qui_quadrado.mean(),np.quantile(qui_quadrado,q=0.5),sct.mode(qui_quadrado)[0][0]))\n",
    "\n",
    "# Continue calculando a média, a mediana e a moda da distribuição uniforme\n",
    "\n",
    "# Printe os resultados completando o formatb\n",
    "\n",
    "print(\"A média da distribuição uniforme é {}, sua mediana é {} e sua moda é {}.\".format(uniforme.mean(),np.quantile(uniforme,q=0.5),sct.mode(uniforme)[0][0]))"
   ]
  },
  {
   "cell_type": "markdown",
   "metadata": {},
   "source": [
    "O output deve te trazer:<br>\n",
    "Para a distribuição normal uma média de 10.061428624305702<br>\n",
    "Para a distribuição t Student uma mediana de 9.38981029467522<br>\n",
    "Para a distribuição qui quadrado uma moda de 11.791839009248813<br>\n",
    "Para a distribuição uniforme uma média de 35.618680966204366<br>"
   ]
  },
  {
   "cell_type": "code",
   "execution_count": 61,
   "metadata": {},
   "outputs": [
    {
     "name": "stdout",
     "output_type": "stream",
     "text": [
      "A média da distribuição normal é 10.908942433202142, sua mediana é 10.366433002204484 e sua moda é 8.061560190593674.\n",
      "A média da distribuição t Student é 9.544610472819333, sua mediana é 9.247364640278214 e sua moda é 6.7209742359786295.\n",
      "A média da distribuição qui quadrado é 30.602264485687236, sua mediana é 28.171691535452855 e sua moda é 11.206836947822438.\n",
      "A média da distribuição uniforme é 30.602264485687236, sua mediana é 28.171691535452855 e sua moda é 11.206836947822438.\n"
     ]
    }
   ],
   "source": [
    "\n",
    "media_normal = normal.mean()\n",
    "mediana_normal = np.quantile(normal, 0.50)\n",
    "moda_normal = sct.mode(normal)[0][0]\n",
    "\n",
    "# Printe os resultados completando o format\n",
    "\n",
    "print(\"A média da distribuição normal é {}, sua mediana é {} e sua moda é {}.\".format(media_normal, mediana_normal, moda_normal))\n",
    "\n",
    "# Continue calculando a média, a mediana e a moda da distribuição t Student\n",
    "\n",
    "media_t_student = t_student.mean()\n",
    "mediana_t_student = np.quantile(t_student, 0.50)\n",
    "moda_t_student = sct.mode(t_student)[0][0]\n",
    "\n",
    "# Printe os resultados completando o format\n",
    "\n",
    "print(\"A média da distribuição t Student é {}, sua mediana é {} e sua moda é {}.\".format(media_t_student, mediana_t_student, moda_t_student))\n",
    "\n",
    "# Continue calculando a média, a mediana e a moda da distribuição qui quadrado\n",
    "\n",
    "media_qui_quadrado = qui_quadrado.mean()\n",
    "mediana_qui_quadrado = np.quantile(qui_quadrado, 0.50)\n",
    "moda_qui_quadrado = sct.mode(qui_quadrado)[0][0]\n",
    "\n",
    "# Printe os resultados completando o format\n",
    "\n",
    "print(\"A média da distribuição qui quadrado é {}, sua mediana é {} e sua moda é {}.\".format(media_qui_quadrado, mediana_qui_quadrado, moda_qui_quadrado))\n",
    "\n",
    "# Continue calculando a média, a mediana e a moda da distribuição uniforme\n",
    "\n",
    "media_uniforme = uniforme.mean()\n",
    "mediana_uniforme = np.quantile(uniforme, 0.50)\n",
    "moda_uniforme = sct.mode(uniforme)[0][0]\n",
    "\n",
    "# Printe os resultados completando o format\n",
    "\n",
    "print(\"A média da distribuição uniforme é {}, sua mediana é {} e sua moda é {}.\".format(media_qui_quadrado, mediana_qui_quadrado, moda_qui_quadrado))\n"
   ]
  },
  {
   "cell_type": "markdown",
   "metadata": {},
   "source": [
    "<b>Clique aqui duas vezes para ver a resolução do exercício!</b>\n",
    "\n",
    "<!--\n",
    "\n",
    "# Comece calculando a média, a mediana e a moda da distribuição normal\n",
    "\n",
    "media_normal = normal.mean()\n",
    "mediana_normal = np.quantile(normal, 0.50)\n",
    "moda_normal = sct.mode(normal)[0][0]\n",
    "\n",
    "# Printe os resultados completando o format\n",
    "\n",
    "print(\"A média da distribuição normal é {}, sua mediana é {} e sua moda é {}.\".format(media_normal, mediana_normal, moda_normal))\n",
    "\n",
    "# Continue calculando a média, a mediana e a moda da distribuição t Student\n",
    "\n",
    "media_t_student = t_student.mean()\n",
    "mediana_t_student = np.quantile(t_student, 0.50)\n",
    "moda_t_student = sct.mode(t_student)[0][0]\n",
    "\n",
    "# Printe os resultados completando o format\n",
    "\n",
    "print(\"A média da distribuição t Student é {}, sua mediana é {} e sua moda é {}.\".format(media_t_student, mediana_t_student, moda_t_student))\n",
    "\n",
    "# Continue calculando a média, a mediana e a moda da distribuição qui quadrado\n",
    "\n",
    "media_qui_quadrado = qui_quadrado.mean()\n",
    "mediana_qui_quadrado = np.quantile(qui_quadrado, 0.50)\n",
    "moda_qui_quadrado = sct.mode(qui_quadrado)[0][0]\n",
    "\n",
    "# Printe os resultados completando o format\n",
    "\n",
    "print(\"A média da distribuição qui quadrado é {}, sua mediana é {} e sua moda é {}.\".format(media_qui_quadrado, mediana_qui_quadrado, moda_qui_quadrado))\n",
    "\n",
    "# Continue calculando a média, a mediana e a moda da distribuição uniforme\n",
    "\n",
    "media_uniforme = uniforme.mean()\n",
    "mediana_uniforme = np.quantile(uniforme, 0.50)\n",
    "moda_uniforme = sct.mode(uniforme)[0][0]\n",
    "\n",
    "# Printe os resultados completando o format\n",
    "\n",
    "print(\"A média da distribuição uniforme é {}, sua mediana é {} e sua moda é {}.\".format(media_qui_quadrado, mediana_qui_quadrado, moda_qui_quadrado))\n",
    "\n",
    "-->"
   ]
  },
  {
   "cell_type": "markdown",
   "metadata": {},
   "source": [
    "E ai, você sabe dizer porque as medidas se comportam dessa forma, de acordo com o que falamos? Você sabe explicar o porque das medidas serem tão diferentes entre si?"
   ]
  },
  {
   "cell_type": "markdown",
   "metadata": {},
   "source": [
    "<h1>2. Vamos calcular a variância e o desvio padrão de cada uma das distribuições</h1>\n",
    "Vamos entender um pouco como funciona o comportamento da curva no sentido da distribuição de posição. Para isso iremos utilizar duas funções do NumPy a var(data) e a std(data) que calculam respectivamente a variancia e o desvio padrão."
   ]
  },
  {
   "cell_type": "code",
   "execution_count": 71,
   "metadata": {
    "scrolled": true
   },
   "outputs": [
    {
     "name": "stdout",
     "output_type": "stream",
     "text": [
      "A variância da distribuição normal é 3.6001814342749574 e seu desvio padrão é 1.8974144076281696\n",
      "A variância da distribuição t Student é 3.417253351766747 e seu desvio padrão é 1.848581443098125\n",
      "A variância da distribuição qui quadrado é 188.334417399232 e seu desvio padrão é 13.723498730252135\n",
      "A variância da distribuição uniforme é 0.2534851048112156 e seu desvio padrão é 0.503473042785029\n"
     ]
    }
   ],
   "source": [
    "# Comece calculando a variância e o desvio padrão da distribuição normal\n",
    "\n",
    "var_normal = normal.var()\n",
    "std_normal = normal.std()\n",
    "\n",
    "\n",
    "# Printe os valores de variância e de desvio padrão completando o format\n",
    "\n",
    "print(\"A variância da distribuição normal é {} e seu desvio padrão é {}\".format(var_normal, std_normal))\n",
    "\n",
    "# Continue calculando a variância e o desvio padrão da distribuição t Student\n",
    "\n",
    "var_t_student=t_student.var()\n",
    "std_t_student=t_student.std()\n",
    "\n",
    "\n",
    "\n",
    "# Printe os valores de variância e de desvio padrão completando o format\n",
    "\n",
    "print(\"A variância da distribuição t Student é {} e seu desvio padrão é {}\".format(var_t_student, std_t_student))\n",
    "\n",
    "# Continue calculando a variância e o desvio padrão da distribuição qui quadrado\n",
    "\n",
    "var_qui_quadrado=np.var(qui_quadrado)\n",
    "std_qui_quadrado=np.std(qui_quadrado)\n",
    "\n",
    "\n",
    "# Printe os valores de variância e de desvio padrão completando o format\n",
    "\n",
    "print(\"A variância da distribuição qui quadrado é {} e seu desvio padrão é {}\".format(var_qui_quadrado, std_qui_quadrado))\n",
    "\n",
    "# Continue calculando a variância e o desvio padrão da distribuição qui quadrado\n",
    "\n",
    "var_uniforme=np.var(uniforme)\n",
    "std_uniforme=np.std(uniforme)\n",
    "\n",
    "\n",
    "\n",
    "# Printe os valores de variância e de desvio padrão completando o format\n",
    "\n",
    "print(\"A variância da distribuição uniforme é {} e seu desvio padrão é {}\".format(var_uniforme, std_uniforme))"
   ]
  },
  {
   "cell_type": "code",
   "execution_count": 72,
   "metadata": {},
   "outputs": [
    {
     "name": "stdout",
     "output_type": "stream",
     "text": [
      "A variância da distribuição normal é 3.6001814342749574 e seu desvio padrão é 1.8974144076281696\n",
      "A variância da distribuição t Student é 3.417253351766747 e seu desvio padrão é 1.848581443098125\n",
      "A variância da distribuição qui quadrado é 188.334417399232 e seu desvio padrão é 13.723498730252135\n",
      "A variância da distribuição uniforme é 0.2534851048112156 e seu desvio padrão é 0.503473042785029\n"
     ]
    }
   ],
   "source": [
    "# Comece calculando a variância e o desvio padrão da distribuição normal\n",
    "\n",
    "var_normal = np.var(normal)\n",
    "std_normal = np.std(normal)\n",
    "\n",
    "# Printe os valores de variância e de desvio padrão completando o format\n",
    "\n",
    "print(\"A variância da distribuição normal é {} e seu desvio padrão é {}\".format(var_normal, std_normal))\n",
    "\n",
    "# Continue calculando a variância e o desvio padrão da distribuição t Student\n",
    "\n",
    "var_t_student = np.var(t_student)\n",
    "std_t_student = np.std(t_student)\n",
    "\n",
    "# Printe os valores de variância e de desvio padrão completando o format\n",
    "\n",
    "print(\"A variância da distribuição t Student é {} e seu desvio padrão é {}\".format(var_t_student, std_t_student))\n",
    "\n",
    "# Continue calculando a variância e o desvio padrão da distribuição qui quadrado\n",
    "\n",
    "var_qui_quadrado = np.var(qui_quadrado)\n",
    "std_qui_quadrado = np.std(qui_quadrado)\n",
    "\n",
    "# Printe os valores de variância e de desvio padrão completando o format\n",
    "\n",
    "print(\"A variância da distribuição qui quadrado é {} e seu desvio padrão é {}\".format(var_qui_quadrado, std_qui_quadrado))\n",
    "\n",
    "# Continue calculando a variância e o desvio padrão da distribuição qui quadrado\n",
    "\n",
    "var_uniforme = np.var(uniforme)\n",
    "std_uniforme = np.std(uniforme)\n",
    "\n",
    "# Printe os valores de variância e de desvio padrão completando o format\n",
    "\n",
    "print(\"A variância da distribuição uniforme é {} e seu desvio padrão é {}\".format(var_uniforme, std_uniforme))"
   ]
  },
  {
   "cell_type": "markdown",
   "metadata": {},
   "source": [
    "O output deve te trazer:<br>\n",
    "Para a distribuição normal uma variância de 6.240749596053386<br>\n",
    "Para a distribuição t Student um desvio padrão de 1.7798214210112397<br>\n",
    "Para a distribuição qui quadrado uma variância de 194.6479601872241<br>\n",
    "Para a distribuição uniforme um desvio padrão de 0.5173429514430988"
   ]
  },
  {
   "cell_type": "markdown",
   "metadata": {},
   "source": [
    "<b>Clique aqui duas vezes para ver a resolução do exercício!</b>\n",
    "\n",
    "<!--\n",
    "\n",
    "# Comece calculando a variância e o desvio padrão da distribuição normal\n",
    "\n",
    "var_normal = np.var(normal)\n",
    "std_normal = np.std(normal)\n",
    "\n",
    "# Printe os valores de variância e de desvio padrão completando o format\n",
    "\n",
    "print(\"A variância da distribuição normal é {} e seu desvio padrão é {}\".format(var_normal, std_normal))\n",
    "\n",
    "# Continue calculando a variância e o desvio padrão da distribuição t Student\n",
    "\n",
    "var_t_student = np.var(t_student)\n",
    "std_t_student = np.std(t_student)\n",
    "\n",
    "# Printe os valores de variância e de desvio padrão completando o format\n",
    "\n",
    "print(\"A variância da distribuição t Student é {} e seu desvio padrão é {}\".format(var_t_student, std_t_student))\n",
    "\n",
    "# Continue calculando a variância e o desvio padrão da distribuição qui quadrado\n",
    "\n",
    "var_qui_quadrado = np.var(qui_quadrado)\n",
    "std_qui_quadrado = np.std(qui_quadrado)\n",
    "\n",
    "# Printe os valores de variância e de desvio padrão completando o format\n",
    "\n",
    "print(\"A variância da distribuição qui quadrado é {} e seu desvio padrão é {}\".format(var_qui_quadrado, std_qui_quadrado))\n",
    "\n",
    "# Continue calculando a variância e o desvio padrão da distribuição qui quadrado\n",
    "\n",
    "var_uniforme = np.var(uniforme)\n",
    "std_uniforme = np.std(uniforme)\n",
    "\n",
    "# Printe os valores de variância e de desvio padrão completando o format\n",
    "\n",
    "print(\"A variância da distribuição uniforme é {} e seu desvio padrão é {}\".format(var_uniforme, std_uniforme))\n",
    "\n",
    "-->"
   ]
  },
  {
   "cell_type": "markdown",
   "metadata": {},
   "source": [
    "E ai, você consegue imaginar como cada uma das curvas fica ao juntar as informações que calculamos?"
   ]
  },
  {
   "cell_type": "markdown",
   "metadata": {},
   "source": [
    "<h1>3. Vamos ver as diferenças entre os quartis das distribuições</h1><br>\n",
    "Para isso vamos utilizar a função do Numpy quantile(data, quantil), que calcula um determinado quantil (0-1)."
   ]
  },
  {
   "cell_type": "code",
   "execution_count": 82,
   "metadata": {},
   "outputs": [
    {
     "name": "stdout",
     "output_type": "stream",
     "text": [
      "[1.1267516320815698, 1.1190683619262707, 1.578040940390414]\n",
      "[-8.800975442740024, -17.80525853324837, -31.200864718979474]\n",
      "[-1.4580841945239804, -0.6876024289599236, 1.1728363777191166]\n"
     ]
    }
   ],
   "source": [
    "# Comece calculando os percentis de cada uma das distribuições (np.percentile pode ajudar)\n",
    "\n",
    "# quartis da distribuição normal\n",
    "\n",
    "q1_normal=np.quantile(normal,0.25)\n",
    "q2_normal=np.quantile(normal,0.50)\n",
    "q3_normal=np.quantile(normal,0.75)\n",
    "\n",
    "#print(q1_normal)\n",
    "#print(q2_normal)\n",
    "#print(q3_normal)\n",
    "\n",
    "# quartis da distribuição t Student\n",
    "\n",
    "q1_t_student=np.quantile(t_student,0.25)\n",
    "q2_t_student=np.quantile(t_student,0.50)\n",
    "q3_t_student=np.quantile(t_student,0.75)\n",
    "\n",
    "# quartis da distribuição qui quadrado\n",
    "\n",
    "q1_qui_quadrado=np.quantile(qui_quadrado,0.25)\n",
    "q2_qui_quadrado=np.quantile(qui_quadrado,0.50)\n",
    "q3_qui_quadrado=np.quantile(qui_quadrado,0.75)\n",
    "\n",
    "# quartis da distribuição uniforme\n",
    "\n",
    "q1_uniforme=np.quantile(uniforme,0.25)\n",
    "q2_uniforme=np.quantile(uniforme,0.50)\n",
    "q3_uniforme=np.quantile(uniforme,0.75)\n",
    "\n",
    "# Em seguida, vamos criar uma lista para cada grupo de diferenças, com os cálculos dentro e em seguida\n",
    "# printar os resultados das diferenças\n",
    "\n",
    "# diferença entre a distribuição normal e a distribuição t Student\n",
    "\n",
    "dif_normal_tstudent=[(q1_normal-q1_t_student),(q2_normal-q2_t_student),(q3_normal-q3_t_student)]\n",
    "\n",
    "print(dif_normal_tstudent)\n",
    "\n",
    "# diferença entre a distribuição normal e a distribuição qui quadrado\n",
    "\n",
    "dif_normal_quiquadrado=[(q1_normal-q1_qui_quadrado),(q2_normal-q2_qui_quadrado),(q3_normal-q3_qui_quadrado)]\n",
    "\n",
    "print(dif_normal_quiquadrado)\n",
    "                                            \n",
    "# diferença entre a distribuição normal e a distribuição uniforme\n",
    "\n",
    "\n",
    "dif_normal_uniforme=[(q1_normal-q1_uniforme),(q2_normal-q2_uniforme),(q3_normal-q3_uniforme)]\n",
    "\n",
    "print(dif_normal_uniforme)\n"
   ]
  },
  {
   "cell_type": "code",
   "execution_count": 81,
   "metadata": {},
   "outputs": [
    {
     "name": "stdout",
     "output_type": "stream",
     "text": [
      "Resultado das diferenças entre a distribuição normal e a distribuição t Student: [1.1267516320815698, 1.1190683619262707, 1.578040940390414]\n",
      "Resultado das diferenças entre a distribuição normal e a distribuição qui quadrado: [-8.800975442740024, -17.80525853324837, -31.200864718979474]\n",
      "Resultado das diferenças entre a distribuição normal e a distribuição uniforme: [-1.4580841945239804, -0.6876024289599236, 1.1728363777191166]\n"
     ]
    }
   ],
   "source": [
    "\n",
    "# Comece calculando os percentis de cada uma das distribuições (np.percentile pode ajudar)\n",
    "\n",
    "# quartis da distribuição normal\n",
    "q1_normal = np.quantile(normal, 0.25)\n",
    "q2_normal = np.quantile(normal, 0.50)\n",
    "q3_normal = np.quantile(normal, 0.75)\n",
    "\n",
    "# quartis da distribuição t Student\n",
    "q1_t_student = np.quantile(t_student, 0.25)\n",
    "q2_t_student = np.quantile(t_student, 0.50)\n",
    "q3_t_student = np.quantile(t_student, 0.75)\n",
    "\n",
    "# quartis da distribuição qui quadrado\n",
    "q1_qui_quadrado = np.quantile(qui_quadrado, 0.25)\n",
    "q2_qui_quadrado = np.quantile(qui_quadrado, 0.50)\n",
    "q3_qui_quadrado = np.quantile(qui_quadrado, 0.75)\n",
    "\n",
    "# quartis da distribuição uniforme\n",
    "q1_uniforme = np.quantile(uniforme, 0.25)\n",
    "q2_uniforme = np.quantile(uniforme, 0.50)\n",
    "q3_uniforme = np.quantile(uniforme, 0.75)\n",
    "\n",
    "# Em seguida, vamos criar uma lista para cada grupo de diferenças, com os cálculos dentro e em seguida\n",
    "# printar os resultados das diferenças\n",
    "\n",
    "# diferença entre a distribuição normal e a distribuição t Student\n",
    "dif_t_student = [(q1_normal - q1_t_student), (q2_normal - q2_t_student), (q3_normal - q3_t_student)]\n",
    "print(\"Resultado das diferenças entre a distribuição normal e a distribuição t Student: {}\".format(dif_t_student))\n",
    "\n",
    "# diferença entre a distribuição normal e a distribuição qui quadrado\n",
    "dif_qui_quadrado = [(q1_normal - q1_qui_quadrado), (q2_normal - q2_qui_quadrado), (q3_normal - q3_qui_quadrado)]\n",
    "print(\"Resultado das diferenças entre a distribuição normal e a distribuição qui quadrado: {}\".format(dif_qui_quadrado))\n",
    "\n",
    "# diferença entre a distribuição normal e a distribuição uniforme\n",
    "dif_uniforme = [(q1_normal - q1_uniforme), (q2_normal - q2_uniforme), (q3_normal - q3_uniforme)]\n",
    "print(\"Resultado das diferenças entre a distribuição normal e a distribuição uniforme: {}\".format(dif_uniforme))"
   ]
  },
  {
   "cell_type": "markdown",
   "metadata": {},
   "source": [
    "O output deve te trazer:<br>\n",
    "Resultado das diferenças entre a distribuição normal e a distribuição t Student: [-1.3932141659547703, x, x]<br>\n",
    "Resultado das diferenças entre a distribuição normal e a distribuição qui quadrado: [-15.054275081521437, y, y]<br>\n",
    "Resultado das diferenças entre a distribuição normal e a distribuição uniforme: [-1.9258283613315985, z, z]"
   ]
  },
  {
   "cell_type": "markdown",
   "metadata": {},
   "source": [
    "<b>Clique aqui duas vezes para ver a resolução do exercício!</b>\n",
    "\n",
    "<!--\n",
    "\n",
    "# Comece calculando os percentis de cada uma das distribuições (np.percentile pode ajudar)\n",
    "\n",
    "# quartis da distribuição normal\n",
    "q1_normal = np.quantile(normal, 0.25)\n",
    "q2_normal = np.quantile(normal, 0.50)\n",
    "q3_normal = np.quantile(normal, 0.75)\n",
    "\n",
    "# quartis da distribuição t Student\n",
    "q1_t_student = np.quantile(t_student, 0.25)\n",
    "q2_t_student = np.quantile(t_student, 0.50)\n",
    "q3_t_student = np.quantile(t_student, 0.75)\n",
    "\n",
    "# quartis da distribuição qui quadrado\n",
    "q1_qui_quadrado = np.quantile(qui_quadrado, 0.25)\n",
    "q2_qui_quadrado = np.quantile(qui_quadrado, 0.50)\n",
    "q3_qui_quadrado = np.quantile(qui_quadrado, 0.75)\n",
    "\n",
    "# quartis da distribuição uniforme\n",
    "q1_uniforme = np.quantile(uniforme, 0.25)\n",
    "q2_uniforme = np.quantile(uniforme, 0.50)\n",
    "q3_uniforme = np.quantile(uniforme, 0.75)\n",
    "\n",
    "# Em seguida, vamos criar uma lista para cada grupo de diferenças, com os cálculos dentro e em seguida\n",
    "# printar os resultados das diferenças\n",
    "\n",
    "# diferença entre a distribuição normal e a distribuição t Student\n",
    "dif_t_student = [(q1_normal - q1_t_student), (q2_normal - q2_t_student), (q3_normal - q3_t_student)]\n",
    "print(\"Resultado das diferenças entre a distribuição normal e a distribuição t Student: {}\".format(dif_t_student))\n",
    "\n",
    "# diferença entre a distribuição normal e a distribuição qui quadrado\n",
    "dif_qui_quadrado = [(q1_normal - q1_qui_quadrado), (q2_normal - q2_qui_quadrado), (q3_normal - q3_qui_quadrado)]\n",
    "print(\"Resultado das diferenças entre a distribuição normal e a distribuição qui quadrado: {}\".format(dif_qui_quadrado))\n",
    "\n",
    "# diferença entre a distribuição normal e a distribuição uniforme\n",
    "dif_uniforme = [(q1_normal - q1_uniforme), (q2_normal - q2_uniforme), (q3_normal - q3_uniforme)]\n",
    "print(\"Resultado das diferenças entre a distribuição normal e a distribuição uniforme: {}\".format(dif_uniforme))\n",
    "\n",
    "-->"
   ]
  },
  {
   "cell_type": "markdown",
   "metadata": {},
   "source": [
    "Os resultados são os que você esperava? Você sabe dizer o porquê das diferenças existirem?"
   ]
  },
  {
   "cell_type": "markdown",
   "metadata": {},
   "source": [
    "# Parabéns!! Você chegou até aqui, mas já acabou, Jéssica?\n",
    "![](https://conteudo.imguol.com.br/c/tecnologia/gif/aniversario/10_ja-acabou-jessica.gif)"
   ]
  },
  {
   "cell_type": "markdown",
   "metadata": {},
   "source": [
    "<h1>Tem que estudar mesmo!</h1><br>\n",
    "Para isso, eu vou colocar uma lista de artigos pra vocês darem uma lida e aprofundada não só estatística descritiva e distribuições, mas em estatística inicial como um todo.<br>\n",
    "<h3>Quero ver todo mundo estudando heim?</h3>\n",
    "\n",
    "![](https://media1.tenor.com/images/9cc9d4bd78e42e30bf76f37a7395e475/tenor.gif?itemid=10907079)<br>\n",
    "\n",
    "<ul>\n",
    "    <li><a href=\"https://medium.com/ml-research-lab/how-to-self-learn-statistics-of-data-science-c05db1f7cfc3\">How to self-learn statistics of data science</a></li>\n",
    "    <li><a href=\"https://www.kaggle.com/pavansanagapati/a-simple-tutorial-on-exploratory-data-analysis\">A Simple Tutorial on Exploratory Data Analysis</a></li>\n",
    "    <li><a href=\"https://towardsdatascience.com/a-gentle-introduction-to-exploratory-data-analysis-f11d843b8184\">A Gentle Introduction to Exploratory Data Analysis</a></li>\n",
    "    <li><a href=\"https://statisticsbyjim.com/basics/probability-distributions/\">Understanding Probability Distributions</a></li>\n",
    "    <li><a href=\"https://en.wikipedia.org/wiki/Probability_distribution\">Probability Distribuition</a></li>\n",
    "</ul>"
   ]
  },
  {
   "cell_type": "markdown",
   "metadata": {},
   "source": [
    "<h3>Dúvidas?</h3><br>\n",
    "Entre em contato pelo Slack! Eu estou sempre à disposição. Vamos juntos e estudem muito, vai valer a pena!!<br>\n",
    "\n",
    "![](https://media1.tenor.com/images/b472041717c6c2d1dfea36657f8880a3/tenor.gif?itemid=12752318)"
   ]
  }
 ],
 "metadata": {
  "kernelspec": {
   "display_name": "Python 3",
   "language": "python",
   "name": "python3"
  },
  "language_info": {
   "codemirror_mode": {
    "name": "ipython",
    "version": 3
   },
   "file_extension": ".py",
   "mimetype": "text/x-python",
   "name": "python",
   "nbconvert_exporter": "python",
   "pygments_lexer": "ipython3",
   "version": "3.7.6"
  }
 },
 "nbformat": 4,
 "nbformat_minor": 4
}
