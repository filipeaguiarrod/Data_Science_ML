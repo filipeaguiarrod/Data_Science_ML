{
 "cells": [
  {
   "cell_type": "markdown",
   "metadata": {
    "slideshow": {
     "slide_type": "slide"
    }
   },
   "source": [
    "## Gradiente Descendente na prática"
   ]
  },
  {
   "cell_type": "markdown",
   "metadata": {
    "slideshow": {
     "slide_type": "slide"
    }
   },
   "source": [
    "## O que vamos ver hoje:\n",
    "* O que é machine learning\n",
    "* Modelagem no contexto de ML\n",
    "* Exemplo de um modelo\n",
    "* Introdução - regressão linear\n",
    "* Criando dados sintéticos\n",
    "* O problema fundamental\n",
    "* Como medir o erro\n",
    "* Gradiente Descendente\n",
    "* Fim"
   ]
  },
  {
   "cell_type": "markdown",
   "metadata": {
    "slideshow": {
     "slide_type": "slide"
    }
   },
   "source": [
    "## Machine Learning\n",
    "\n",
    "![](imgs/machine_learning_diagram.png)\n",
    "Fonte: https://www.ironhack.com/br/data-analytics/o-que-e-machine-learning"
   ]
  },
  {
   "cell_type": "markdown",
   "metadata": {
    "slideshow": {
     "slide_type": "slide"
    }
   },
   "source": [
    "## Regressão e Classificação\n",
    "![](imgs/regression_vs_classification.png)\n",
    "Fonte: https://www.javatpoint.com/regression-vs-classification-in-machine-learning"
   ]
  },
  {
   "cell_type": "markdown",
   "metadata": {
    "slideshow": {
     "slide_type": "slide"
    }
   },
   "source": [
    "## Modelagem e aprendizado\n",
    "![](imgs/model_diagram.png)"
   ]
  },
  {
   "cell_type": "markdown",
   "metadata": {
    "slideshow": {
     "slide_type": "slide"
    }
   },
   "source": [
    "## Exemplo: modelo de machine learning"
   ]
  },
  {
   "cell_type": "code",
   "execution_count": 5,
   "metadata": {
    "slideshow": {
     "slide_type": "skip"
    }
   },
   "outputs": [],
   "source": [
    "import pandas as pd\n",
    "import numpy as np\n",
    "from sklearn.datasets import load_boston\n",
    "\n",
    "dataset = load_boston()\n",
    "features = dataset['data']\n",
    "label = pd.Series(dataset['target'],name='MEDV')\n",
    "feature_names = dataset['feature_names']\n",
    "description = dataset['DESCR']\n",
    "\n",
    "df = pd.DataFrame(features, columns=feature_names)\n",
    "df = pd.concat((df,label), axis=1)"
   ]
  },
  {
   "cell_type": "code",
   "execution_count": 6,
   "metadata": {
    "scrolled": true
   },
   "outputs": [
    {
     "data": {
      "text/html": [
       "<div>\n",
       "<style scoped>\n",
       "    .dataframe tbody tr th:only-of-type {\n",
       "        vertical-align: middle;\n",
       "    }\n",
       "\n",
       "    .dataframe tbody tr th {\n",
       "        vertical-align: top;\n",
       "    }\n",
       "\n",
       "    .dataframe thead th {\n",
       "        text-align: right;\n",
       "    }\n",
       "</style>\n",
       "<table border=\"1\" class=\"dataframe\">\n",
       "  <thead>\n",
       "    <tr style=\"text-align: right;\">\n",
       "      <th></th>\n",
       "      <th>CRIM</th>\n",
       "      <th>ZN</th>\n",
       "      <th>INDUS</th>\n",
       "      <th>CHAS</th>\n",
       "      <th>NOX</th>\n",
       "      <th>RM</th>\n",
       "      <th>AGE</th>\n",
       "      <th>DIS</th>\n",
       "      <th>RAD</th>\n",
       "      <th>TAX</th>\n",
       "      <th>PTRATIO</th>\n",
       "      <th>B</th>\n",
       "      <th>LSTAT</th>\n",
       "      <th>MEDV</th>\n",
       "    </tr>\n",
       "  </thead>\n",
       "  <tbody>\n",
       "    <tr>\n",
       "      <th>0</th>\n",
       "      <td>0.00632</td>\n",
       "      <td>18.0</td>\n",
       "      <td>2.31</td>\n",
       "      <td>0.0</td>\n",
       "      <td>0.538</td>\n",
       "      <td>6.575</td>\n",
       "      <td>65.2</td>\n",
       "      <td>4.0900</td>\n",
       "      <td>1.0</td>\n",
       "      <td>296.0</td>\n",
       "      <td>15.3</td>\n",
       "      <td>396.90</td>\n",
       "      <td>4.98</td>\n",
       "      <td>24.0</td>\n",
       "    </tr>\n",
       "    <tr>\n",
       "      <th>1</th>\n",
       "      <td>0.02731</td>\n",
       "      <td>0.0</td>\n",
       "      <td>7.07</td>\n",
       "      <td>0.0</td>\n",
       "      <td>0.469</td>\n",
       "      <td>6.421</td>\n",
       "      <td>78.9</td>\n",
       "      <td>4.9671</td>\n",
       "      <td>2.0</td>\n",
       "      <td>242.0</td>\n",
       "      <td>17.8</td>\n",
       "      <td>396.90</td>\n",
       "      <td>9.14</td>\n",
       "      <td>21.6</td>\n",
       "    </tr>\n",
       "    <tr>\n",
       "      <th>2</th>\n",
       "      <td>0.02729</td>\n",
       "      <td>0.0</td>\n",
       "      <td>7.07</td>\n",
       "      <td>0.0</td>\n",
       "      <td>0.469</td>\n",
       "      <td>7.185</td>\n",
       "      <td>61.1</td>\n",
       "      <td>4.9671</td>\n",
       "      <td>2.0</td>\n",
       "      <td>242.0</td>\n",
       "      <td>17.8</td>\n",
       "      <td>392.83</td>\n",
       "      <td>4.03</td>\n",
       "      <td>34.7</td>\n",
       "    </tr>\n",
       "    <tr>\n",
       "      <th>3</th>\n",
       "      <td>0.03237</td>\n",
       "      <td>0.0</td>\n",
       "      <td>2.18</td>\n",
       "      <td>0.0</td>\n",
       "      <td>0.458</td>\n",
       "      <td>6.998</td>\n",
       "      <td>45.8</td>\n",
       "      <td>6.0622</td>\n",
       "      <td>3.0</td>\n",
       "      <td>222.0</td>\n",
       "      <td>18.7</td>\n",
       "      <td>394.63</td>\n",
       "      <td>2.94</td>\n",
       "      <td>33.4</td>\n",
       "    </tr>\n",
       "    <tr>\n",
       "      <th>4</th>\n",
       "      <td>0.06905</td>\n",
       "      <td>0.0</td>\n",
       "      <td>2.18</td>\n",
       "      <td>0.0</td>\n",
       "      <td>0.458</td>\n",
       "      <td>7.147</td>\n",
       "      <td>54.2</td>\n",
       "      <td>6.0622</td>\n",
       "      <td>3.0</td>\n",
       "      <td>222.0</td>\n",
       "      <td>18.7</td>\n",
       "      <td>396.90</td>\n",
       "      <td>5.33</td>\n",
       "      <td>36.2</td>\n",
       "    </tr>\n",
       "  </tbody>\n",
       "</table>\n",
       "</div>"
      ],
      "text/plain": [
       "      CRIM    ZN  INDUS  CHAS    NOX     RM   AGE     DIS  RAD    TAX  \\\n",
       "0  0.00632  18.0   2.31   0.0  0.538  6.575  65.2  4.0900  1.0  296.0   \n",
       "1  0.02731   0.0   7.07   0.0  0.469  6.421  78.9  4.9671  2.0  242.0   \n",
       "2  0.02729   0.0   7.07   0.0  0.469  7.185  61.1  4.9671  2.0  242.0   \n",
       "3  0.03237   0.0   2.18   0.0  0.458  6.998  45.8  6.0622  3.0  222.0   \n",
       "4  0.06905   0.0   2.18   0.0  0.458  7.147  54.2  6.0622  3.0  222.0   \n",
       "\n",
       "   PTRATIO       B  LSTAT  MEDV  \n",
       "0     15.3  396.90   4.98  24.0  \n",
       "1     17.8  396.90   9.14  21.6  \n",
       "2     17.8  392.83   4.03  34.7  \n",
       "3     18.7  394.63   2.94  33.4  \n",
       "4     18.7  396.90   5.33  36.2  "
      ]
     },
     "execution_count": 6,
     "metadata": {},
     "output_type": "execute_result"
    }
   ],
   "source": [
    "# Dataset: Boston house prices dataset\n",
    "# RM       average number of rooms per dwelling\n",
    "# MEDV     Median value of owner-occupied homes in $1000's\n",
    "df.head()"
   ]
  },
  {
   "cell_type": "markdown",
   "metadata": {
    "slideshow": {
     "slide_type": "slide"
    }
   },
   "source": [
    "## Exemplo: modelo de machine learning"
   ]
  },
  {
   "cell_type": "code",
   "execution_count": 7,
   "metadata": {},
   "outputs": [
    {
     "data": {
      "text/plain": [
       "(array([-6.56136165]), array([4.5346576]))"
      ]
     },
     "execution_count": 7,
     "metadata": {},
     "output_type": "execute_result"
    }
   ],
   "source": [
    "from sklearn.linear_model import SGDRegressor\n",
    "\n",
    "X = df[['RM']]\n",
    "y = df['MEDV']\n",
    "\n",
    "# Fitando/treinando o modelo (regressão linear usnado stochastic gradient descent)\n",
    "model = SGDRegressor(loss='squared_loss', alpha=0, eta0=0.01, max_iter=1000)\n",
    "model.fit(X, y)\n",
    "\n",
    "# Printando os coeficientes\n",
    "(model.intercept_, model.coef_)"
   ]
  },
  {
   "cell_type": "code",
   "execution_count": 9,
   "metadata": {
    "slideshow": {
     "slide_type": "slide"
    }
   },
   "outputs": [
    {
     "data": {
      "text/plain": [
       "array([20.64658395, 25.18124155])"
      ]
     },
     "execution_count": 9,
     "metadata": {},
     "output_type": "execute_result"
    }
   ],
   "source": [
    "# Novos exemplos\n",
    "new_samples = np.array([6, 7]).reshape((-1, 1))\n",
    "\n",
    "# Fazendo uma predição\n",
    "model.predict(new_samples)"
   ]
  },
  {
   "cell_type": "markdown",
   "metadata": {
    "slideshow": {
     "slide_type": "slide"
    }
   },
   "source": [
    "## Regressão Linear e equação da reta"
   ]
  },
  {
   "cell_type": "markdown",
   "metadata": {},
   "source": [
    "\\begin{equation}\n",
    "\\hat{Y} = b + w X + \\epsilon\n",
    "\\end{equation}\n",
    "![](imgs/Linear_regression.svg)"
   ]
  },
  {
   "cell_type": "markdown",
   "metadata": {
    "slideshow": {
     "slide_type": "slide"
    }
   },
   "source": [
    "## Gradiente descendente na prática"
   ]
  },
  {
   "cell_type": "markdown",
   "metadata": {
    "slideshow": {
     "slide_type": "slide"
    }
   },
   "source": [
    "## Contexto de negócio\n",
    "\n",
    "Uma ONG chamada MaisAlegria, deseja mapear o grau de felicidade de diferentes regiões do Brasil para assim conseguir aplicar diferentes políticas públicas visando maximizar esse indicador. Você é um cientista social contratado para auxiliar a instituição nessa tarefa. \n",
    "\n",
    "Nesse contexto, foi feta uma pesquisa com 500 pessoas, cuja a renda varia de 1039.00 até 10000.00, nessa pesquia é pedido que a pessoa classifique sua felicidade em uma escala de 1 a 10. A ONG deseja usar os dados dessa pesquisa para extrapolar o grau de felicidades para diferentes regiões do Brasil usando dados de renda das pessoas como proxy.\n",
    "\n",
    "**objetivo:** Criar um modelo de regressão para prever o grau de felicidade a partir da renda\n"
   ]
  },
  {
   "cell_type": "markdown",
   "metadata": {
    "slideshow": {
     "slide_type": "slide"
    }
   },
   "source": [
    "## Criando dados sintético"
   ]
  },
  {
   "cell_type": "code",
   "execution_count": 78,
   "metadata": {
    "slideshow": {
     "slide_type": "slide"
    }
   },
   "outputs": [],
   "source": [
    "from matplotlib import pyplot as plt\n",
    "import numpy as np\n",
    "import pandas as pd\n",
    "import seaborn as sns\n",
    "\n",
    "# Simulando o mundo real (a pesquisa)\n",
    "\n",
    "# Algumas pessoas podem ter opiniões diferentes sobre o nível de felicidade\n",
    "error = np.random.normal(loc=0.0, scale=1, size=1000)\n",
    "\n",
    "# Temos o mesmo número de pessoas para diferentes salários (pesquisa estratificada)\n",
    "income = np.random.uniform(1039, 10000, size=1000)\n",
    "income = income/1000.0\n",
    "\n",
    "# Vamos tomar como dado, que a felicidade segue a seguinte função matemática:\n",
    "# y = 1 + 0.7*x + error\n",
    "# e.g when income = 10000 +> y = 1 + 0.7*10 + error = 8 + error\n",
    "happiness = 1 + income*0.7 + error"
   ]
  },
  {
   "cell_type": "markdown",
   "metadata": {
    "slideshow": {
     "slide_type": "slide"
    }
   },
   "source": [
    "## Criando o dataframe sintético"
   ]
  },
  {
   "cell_type": "code",
   "execution_count": 11,
   "metadata": {
    "slideshow": {
     "slide_type": "-"
    }
   },
   "outputs": [
    {
     "data": {
      "text/html": [
       "<div>\n",
       "<style scoped>\n",
       "    .dataframe tbody tr th:only-of-type {\n",
       "        vertical-align: middle;\n",
       "    }\n",
       "\n",
       "    .dataframe tbody tr th {\n",
       "        vertical-align: top;\n",
       "    }\n",
       "\n",
       "    .dataframe thead th {\n",
       "        text-align: right;\n",
       "    }\n",
       "</style>\n",
       "<table border=\"1\" class=\"dataframe\">\n",
       "  <thead>\n",
       "    <tr style=\"text-align: right;\">\n",
       "      <th></th>\n",
       "      <th>happiness</th>\n",
       "      <th>income</th>\n",
       "      <th>income_group</th>\n",
       "    </tr>\n",
       "  </thead>\n",
       "  <tbody>\n",
       "    <tr>\n",
       "      <th>0</th>\n",
       "      <td>6.025820</td>\n",
       "      <td>7.461963</td>\n",
       "      <td>(6.646, 7.763]</td>\n",
       "    </tr>\n",
       "    <tr>\n",
       "      <th>1</th>\n",
       "      <td>7.993260</td>\n",
       "      <td>9.276143</td>\n",
       "      <td>(8.88, 9.997]</td>\n",
       "    </tr>\n",
       "    <tr>\n",
       "      <th>2</th>\n",
       "      <td>8.052671</td>\n",
       "      <td>8.714977</td>\n",
       "      <td>(7.763, 8.88]</td>\n",
       "    </tr>\n",
       "    <tr>\n",
       "      <th>3</th>\n",
       "      <td>5.767968</td>\n",
       "      <td>2.642460</td>\n",
       "      <td>(2.177, 3.294]</td>\n",
       "    </tr>\n",
       "    <tr>\n",
       "      <th>4</th>\n",
       "      <td>3.435323</td>\n",
       "      <td>2.502463</td>\n",
       "      <td>(2.177, 3.294]</td>\n",
       "    </tr>\n",
       "  </tbody>\n",
       "</table>\n",
       "</div>"
      ],
      "text/plain": [
       "   happiness    income    income_group\n",
       "0   6.025820  7.461963  (6.646, 7.763]\n",
       "1   7.993260  9.276143   (8.88, 9.997]\n",
       "2   8.052671  8.714977   (7.763, 8.88]\n",
       "3   5.767968  2.642460  (2.177, 3.294]\n",
       "4   3.435323  2.502463  (2.177, 3.294]"
      ]
     },
     "execution_count": 11,
     "metadata": {},
     "output_type": "execute_result"
    }
   ],
   "source": [
    "# Criando nosso dataframe\n",
    "df_survey = pd.DataFrame({'happiness' : happiness, 'income' : income})\n",
    "df_survey = df_survey[(df_survey.happiness >= 1) & (df_survey.happiness <= 10)]\n",
    "df_survey['income_group'] = pd.cut(df_survey['income'], 8)\n",
    "df_survey.head()"
   ]
  },
  {
   "cell_type": "markdown",
   "metadata": {
    "slideshow": {
     "slide_type": "slide"
    }
   },
   "source": [
    "## Distribuição do salário"
   ]
  },
  {
   "cell_type": "code",
   "execution_count": 12,
   "metadata": {},
   "outputs": [
    {
     "data": {
      "text/plain": [
       "<AxesSubplot:xlabel='income_group', ylabel='count'>"
      ]
     },
     "execution_count": 12,
     "metadata": {},
     "output_type": "execute_result"
    },
    {
     "data": {
      "image/png": "[encoded data removed]",
      "text/plain": [
       "<Figure size 432x288 with 1 Axes>"
      ]
     },
     "metadata": {
      "needs_background": "light"
     },
     "output_type": "display_data"
    }
   ],
   "source": [
    "g = sns.countplot(df_survey.income_group)\n",
    "g.set_xticklabels(g.get_xticklabels(), rotation=90)\n",
    "g"
   ]
  },
  {
   "cell_type": "markdown",
   "metadata": {
    "slideshow": {
     "slide_type": "slide"
    }
   },
   "source": [
    "## Plotando o error (error)"
   ]
  },
  {
   "cell_type": "code",
   "execution_count": 79,
   "metadata": {
    "scrolled": true
   },
   "outputs": [
    {
     "data": {
      "text/plain": [
       "<AxesSubplot:>"
      ]
     },
     "execution_count": 79,
     "metadata": {},
     "output_type": "execute_result"
    },
    {
     "data": {
      "image/png": "[encoded data removed]",
      "text/plain": [
       "<Figure size 432x288 with 1 Axes>"
      ]
     },
     "metadata": {
      "needs_background": "light"
     },
     "output_type": "display_data"
    }
   ],
   "source": [
    "sns.distplot(error)"
   ]
  },
  {
   "cell_type": "markdown",
   "metadata": {
    "slideshow": {
     "slide_type": "slide"
    }
   },
   "source": [
    "## Distribuição do grau de felicidade vs salário"
   ]
  },
  {
   "cell_type": "code",
   "execution_count": 14,
   "metadata": {},
   "outputs": [
    {
     "data": {
      "text/plain": [
       "<AxesSubplot:xlabel='income', ylabel='happiness'>"
      ]
     },
     "execution_count": 14,
     "metadata": {},
     "output_type": "execute_result"
    },
    {
     "data": {
      "image/png": "[encoded data removed]",
      "text/plain": [
       "<Figure size 432x288 with 1 Axes>"
      ]
     },
     "metadata": {
      "needs_background": "light"
     },
     "output_type": "display_data"
    }
   ],
   "source": [
    "sns.scatterplot(x='income',y='happiness', data=df_survey)"
   ]
  },
  {
   "cell_type": "markdown",
   "metadata": {
    "slideshow": {
     "slide_type": "slide"
    }
   },
   "source": [
    "## Formulando o problema\n",
    "\n",
    "Sempre que falamos de aprendizado surpervisionado (e em alguns casos de unsurpervised) em Machine Learning, estamos falando de uma função que estamos tentando **otimizar**.  "
   ]
  },
  {
   "cell_type": "markdown",
   "metadata": {
    "slideshow": {
     "slide_type": "slide"
    }
   },
   "source": [
    " Quando falamos de otimização, estamos nos referindo a algo que queremos *minimizar* ou *maximizar*."
   ]
  },
  {
   "cell_type": "markdown",
   "metadata": {
    "slideshow": {
     "slide_type": "slide"
    }
   },
   "source": [
    "# Mas qual a reta perfeita?\n",
    "\n",
    "Decidimos usar uma reta para fazer uma estimativa dos nossos dados, certo? Mas qual seriam os parametos $w$ e $b$ ideais? Lembra do que falamos no começo da aula? No caso $w$ e $b$ são os parâmetos ideais e queremos usá-los para aprender a reta. Mas como que aprendemos?\n",
    "\n",
    "Ora, e se a gente chutasse quais são esses valores? Que tal começarmos com 0? Mas pode ser qualquer coisa!"
   ]
  },
  {
   "cell_type": "code",
   "execution_count": 15,
   "metadata": {},
   "outputs": [],
   "source": [
    "x = df_survey['income']\n",
    "y = df_survey['happiness']\n",
    "w=0.0 \n",
    "b=0.0\n",
    "y_hat = w*x + b"
   ]
  },
  {
   "cell_type": "code",
   "execution_count": 16,
   "metadata": {
    "slideshow": {
     "slide_type": "slide"
    }
   },
   "outputs": [
    {
     "data": {
      "image/png": "[encoded data removed]",
      "text/plain": [
       "<Figure size 432x288 with 1 Axes>"
      ]
     },
     "metadata": {
      "needs_background": "light"
     },
     "output_type": "display_data"
    }
   ],
   "source": [
    "sns.scatterplot(x, y)\n",
    "plt.plot(x, y_hat);"
   ]
  },
  {
   "cell_type": "markdown",
   "metadata": {
    "slideshow": {
     "slide_type": "slide"
    }
   },
   "source": [
    "# A métrica de erro (loss function)\n",
    "\n",
    "Visualmente, não parece que a reta resume bem os nossos dados. \n",
    "\n",
    "*Pergunta:* Mas podemos ter alguma métrica de erro para definir isso?  "
   ]
  },
  {
   "cell_type": "markdown",
   "metadata": {
    "slideshow": {
     "slide_type": "slide"
    }
   },
   "source": [
    "Lembrem-se que estamos falando de um problema de otimização, então podemos dizer que montar uma função de erro (também conhecida como _função de custo_, ou cost function) que deve ser **minimizada**. Em outras palavras, queremos que dados $w$ e $b$, o erro seja o menor possível."
   ]
  },
  {
   "cell_type": "markdown",
   "metadata": {
    "slideshow": {
     "slide_type": "slide"
    }
   },
   "source": [
    "Existem várias formas de fazer isso, mas vamos definir a seguinte:\n",
    "\n",
    "- Calculamos a diferença entre o valor real e o predito, ou seja ($y - \\hat{y}$)\n",
    "\n",
    "- Como para alguns pontos $y \\geq \\hat{y}$ e $y \\leq \\hat{y}$ para outros, os valores podem se anular. Então elevamos tudo ao quadrado, $(y - \\hat{y})^2$\n",
    "\n",
    "- Somamos para todos os pontos e tiramos a média.\n",
    "\n",
    "Em resumo, nosso erro é definido por:"
   ]
  },
  {
   "cell_type": "markdown",
   "metadata": {
    "slideshow": {
     "slide_type": "slide"
    }
   },
   "source": [
    "Erro = $J = \\frac{1}{n}\\sum{ (y_i - \\hat{y_i})^2}$, para cada $i$ do nosso dataset.\n",
    "\n",
    "Lembrando que queremos encontrar $w$ e $b$ e $\\hat{y} = wx + b$, então:"
   ]
  },
  {
   "cell_type": "markdown",
   "metadata": {
    "slideshow": {
     "slide_type": "slide"
    }
   },
   "source": [
    "$J = \\frac{1}{n}\\sum{ (y_i - (wx_i+b))^2}$\n",
    "\n",
    "\\begin{equation}\n",
    "y_i = valor \\quad real \\\\\n",
    "(wx_i+b) = valor \\quad predito \\\\\n",
    "(y_i - (wx_i+b))^2 = Erro \\quad ao \\quad quadrado \\\\\n",
    "\\end{equation}\n",
    "\n",
    "Ou seja, nós elevamos os erros ao quadrado e tiramos a média, daí o nome Mean Squared Error, uma função de custo (cost/loss) muito famosa no campo de ML."
   ]
  },
  {
   "cell_type": "markdown",
   "metadata": {
    "slideshow": {
     "slide_type": "slide"
    }
   },
   "source": [
    "## Erro quadrado em código"
   ]
  },
  {
   "cell_type": "code",
   "execution_count": 82,
   "metadata": {
    "slideshow": {
     "slide_type": "-"
    }
   },
   "outputs": [],
   "source": [
    "def squared_error(true, pred):\n",
    "    \"\"\"\n",
    "    true: array of true values    \n",
    "    pred: array of predicted values\n",
    "    \n",
    "    returns: squared error loss\n",
    "    \"\"\" \n",
    "    return np.sum((true - pred)**2)"
   ]
  },
  {
   "cell_type": "code",
   "execution_count": 19,
   "metadata": {
    "slideshow": {
     "slide_type": "slide"
    }
   },
   "outputs": [
    {
     "data": {
      "image/png": "[encoded data removed]",
      "text/plain": [
       "<Figure size 504x288 with 1 Axes>"
      ]
     },
     "metadata": {
      "needs_background": "light"
     },
     "output_type": "display_data"
    }
   ],
   "source": [
    "fig, ax1 = plt.subplots(1,1, figsize = (7,4))\n",
    "\n",
    "# array of same target value 10000 times\n",
    "target = np.repeat(7, 15) # y real\n",
    "pred = np.arange(0,15, 1) # 0, 1, 2, 3, 4, 5 ... 15\n",
    "\n",
    "squared_loss = [squared_error(target[i], pred[i]) for i in range(len(pred))]\n",
    "\n",
    "(y - yh)ˆ2\n",
    "\n",
    "# plot \n",
    "ax1.plot(pred, squared_loss)\n",
    "ax1.set_xlabel('Predictions')\n",
    "ax1.set_ylabel('Loss')\n",
    "ax1.set_title(\"Squared Loss vs. Predictions | target=7\")\n",
    "plt.axvline(x=7, color='red', linestyle='--')\n",
    "\n",
    "fig.tight_layout()"
   ]
  },
  {
   "cell_type": "markdown",
   "metadata": {},
   "source": [
    "Acima vemos o plot de um erro quadrático quando o target de _um ponto_ é 7 e temos diferentes previsões que variam de $-\\infty$ a $+\\infty$. Podemos ver claramente que essa função tem um **mínimo** para um ponto. O que queremos é que diferença entre a previsão de *todos* os pontos e o valor *real* seja a menor possível :)"
   ]
  },
  {
   "cell_type": "markdown",
   "metadata": {
    "slideshow": {
     "slide_type": "slide"
    }
   },
   "source": [
    "## Montando nossa loss (MSE) em código"
   ]
  },
  {
   "cell_type": "code",
   "execution_count": 20,
   "metadata": {},
   "outputs": [],
   "source": [
    "def predict(w, b, inputs):\n",
    "    return w*inputs + b\n",
    "\n",
    "def squared_error(true, pred):\n",
    "    return np.sum((true - pred)**2)\n",
    "\n",
    "def mse(w, b, inputs, targets):\n",
    "    preds = predict(w, b, inputs)\n",
    "    # squared_error = np.sum((true - pred)**2)\n",
    "    return np.mean(squared_error(targets,preds))\n",
    "\n",
    "loss = mse"
   ]
  },
  {
   "cell_type": "code",
   "execution_count": 21,
   "metadata": {
    "slideshow": {
     "slide_type": "slide"
    }
   },
   "outputs": [
    {
     "data": {
      "text/plain": [
       "27427.545261886287"
      ]
     },
     "execution_count": 21,
     "metadata": {},
     "output_type": "execute_result"
    }
   ],
   "source": [
    "w, b = 0.0, 0.0\n",
    "X = df_survey['income'].values\n",
    "y = df_survey['happiness'].values\n",
    "loss(w, b, inputs=X, targets=y)"
   ]
  },
  {
   "cell_type": "markdown",
   "metadata": {},
   "source": [
    "No caso, a _média_ dos _erros_ com os nossos dados é de $\\approx 26541$ com base na reta que a gente escolheu. Como a gente consegue melhorar isso?"
   ]
  },
  {
   "cell_type": "markdown",
   "metadata": {
    "slideshow": {
     "slide_type": "slide"
    }
   },
   "source": [
    "# Aprendendo a reta com gradiente descendente\n",
    "O que queremos agora, então, é desenvolver um algoritmo que aprenda o peso $w$ e o $b$ (os parâmetos do nosso modelo)"
   ]
  },
  {
   "cell_type": "markdown",
   "metadata": {},
   "source": [
    "\\begin{equation}\n",
    "\\hat{y} = b + wx \\\\\n",
    "loss = J = (y - (b + wx))^2 \\\\\n",
    "\\frac{\\partial J}{\\partial w} = \\frac{\\partial J}{\\partial w} (y - \\hat{y})^2 \\\\\n",
    "\\frac{\\partial J}{\\partial b} = \\frac{\\partial J}{\\partial b} (y - \\hat{y})^2\n",
    "\\end{equation}"
   ]
  },
  {
   "cell_type": "markdown",
   "metadata": {
    "slideshow": {
     "slide_type": "slide"
    }
   },
   "source": [
    "##  Relembrando derivada (Intuição)"
   ]
  },
  {
   "cell_type": "markdown",
   "metadata": {},
   "source": [
    "![](imgs/dy_dx.png)"
   ]
  },
  {
   "cell_type": "markdown",
   "metadata": {
    "slideshow": {
     "slide_type": "slide"
    }
   },
   "source": [
    "## Gradiente na função loss"
   ]
  },
  {
   "cell_type": "markdown",
   "metadata": {
    "slideshow": {
     "slide_type": "slide"
    }
   },
   "source": [
    "![](imgs/down_hill.png)"
   ]
  },
  {
   "cell_type": "markdown",
   "metadata": {
    "slideshow": {
     "slide_type": "slide"
    }
   },
   "source": [
    "# Então como usar o gradiente ??\n",
    "\n",
    "$\n",
    "\\begin{align}\n",
    "\\text(gradiente \\; w) = \\frac{\\partial J}{\\partial w} = 2\\;(y - \\hat{y}) * X \\\\\n",
    "\\end{align}\n",
    "$\n",
    "\n",
    "$\n",
    "\\begin{align}\n",
    "\\text(gradiente \\; b) = \\frac{\\partial J}{\\partial b} = 2\\;(y - \\hat{y}) \\\\\n",
    "\\end{align}\n",
    "$\n",
    "\n",
    "$\n",
    "\\begin{align}\n",
    "w = w - \\frac{\\partial J}{\\partial w}*\\text(learning \\; rate) \\\\\n",
    "\\end{align}\n",
    "$\n",
    "\n",
    "$\n",
    "\\begin{align}\n",
    "b = b - \\frac{\\partial J}{\\partial b}*\\text(learning \\; rate) \\\\\n",
    "\\end{align}\n",
    "$\n",
    "\n",
    "A taxa de aprendizado é um parâmetro de ajuste em um algoritmo de otimização que determina o tamanho do passo em cada iteração enquanto se move em direção ao mínimo de uma loss.\n",
    "\n",
    "Pra quem quiser se aventurar com um pouco de cáculo: [Aqui](https://towardsdatascience.com/understanding-the-mathematics-behind-gradient-descent-dde5dc9be06e)"
   ]
  },
  {
   "cell_type": "markdown",
   "metadata": {
    "slideshow": {
     "slide_type": "slide"
    }
   },
   "source": [
    "## Vamos brincar de otimização\n",
    "[Link](https://developers.google.com/machine-learning/crash-course/fitter/graph)\n",
    "![Link](imgs/gradiente_google.png)\n",
    "\n"
   ]
  },
  {
   "cell_type": "markdown",
   "metadata": {
    "slideshow": {
     "slide_type": "slide"
    }
   },
   "source": [
    "## Computando o gradiente (derivadas parciais em w e b)"
   ]
  },
  {
   "cell_type": "code",
   "execution_count": 24,
   "metadata": {
    "slideshow": {
     "slide_type": "-"
    }
   },
   "outputs": [
    {
     "data": {
      "text/plain": [
       "{'w': -63.77207775468602, 'b': -9.85809774486828}"
      ]
     },
     "execution_count": 24,
     "metadata": {},
     "output_type": "execute_result"
    }
   ],
   "source": [
    "w, b = 0, 0\n",
    "y_hat = predict(w, b, inputs=X)\n",
    "error = y_hat-y\n",
    "gradients = {\n",
    "    'w' : 2*(error*X).mean(),\n",
    "    'b' : 2*(error).mean()\n",
    "}\n",
    "gradients"
   ]
  },
  {
   "cell_type": "markdown",
   "metadata": {
    "slideshow": {
     "slide_type": "slide"
    }
   },
   "source": [
    "## Atualizando os parâmetros com o gradiente"
   ]
  },
  {
   "cell_type": "code",
   "execution_count": 25,
   "metadata": {},
   "outputs": [],
   "source": [
    "L = 0.003 # Learning Rate\n",
    "w_new = w - L*gradients['w'] # subtraimos pq estamos querendo minimizar)\n",
    "b_new = b - L*gradients['b'] # subtraimos pq estamos querendo minimizar)\n",
    "\n",
    "w_new = w_new.copy() #retorna um array do numpy\n",
    "b_new = b_new.copy()"
   ]
  },
  {
   "cell_type": "code",
   "execution_count": 26,
   "metadata": {},
   "outputs": [
    {
     "data": {
      "text/plain": [
       "(0.19131623326405808, 0.02957429323460484)"
      ]
     },
     "execution_count": 26,
     "metadata": {},
     "output_type": "execute_result"
    }
   ],
   "source": [
    "# 0.7 + 1\n",
    "(w_new , b_new)"
   ]
  },
  {
   "cell_type": "markdown",
   "metadata": {
    "slideshow": {
     "slide_type": "slide"
    }
   },
   "source": [
    "## Qual é a nova reta?"
   ]
  },
  {
   "cell_type": "code",
   "execution_count": 35,
   "metadata": {},
   "outputs": [
    {
     "data": {
      "image/png": "[encoded data removed]",
      "text/plain": [
       "<Figure size 432x288 with 1 Axes>"
      ]
     },
     "metadata": {
      "needs_background": "light"
     },
     "output_type": "display_data"
    }
   ],
   "source": [
    "y_hat_new = (w_new*x + b_new)\n",
    "sns.scatterplot(x,y)\n",
    "plt.plot(x, y_hat_new, color='r');"
   ]
  },
  {
   "cell_type": "code",
   "execution_count": 53,
   "metadata": {
    "slideshow": {
     "slide_type": "-"
    }
   },
   "outputs": [
    {
     "data": {
      "text/plain": [
       "16675.316358681906"
      ]
     },
     "execution_count": 53,
     "metadata": {},
     "output_type": "execute_result"
    }
   ],
   "source": [
    "loss(w_new, b_new, inputs=X, targets=y)"
   ]
  },
  {
   "cell_type": "markdown",
   "metadata": {
    "slideshow": {
     "slide_type": "slide"
    }
   },
   "source": [
    "Nessa primeira rodada conseguimos fazer um ajuste da nossa reta e o nosso erro deu uma reduzida. O ideal é que rodemos esse algoritmos por um número  𝑛  de vezes, chamado épocas (ou epochs) e que ao final desse processo, tenha ocorrido uma convergência."
   ]
  },
  {
   "cell_type": "markdown",
   "metadata": {
    "slideshow": {
     "slide_type": "slide"
    }
   },
   "source": [
    "## Por fim, gradiente descendente em código"
   ]
  },
  {
   "cell_type": "code",
   "execution_count": 77,
   "metadata": {},
   "outputs": [],
   "source": [
    "L = 1e-5 # Vamos repetir varias vezes entao é melhor reduzir a intensidade\n",
    "0.00001\n",
    "epochs = 6000  # The number of iterations to perform gradient descent\n",
    "w, b = 0, 0 # Resetando os parâmetros da minha regressão linear\n",
    "loss_history = []\n",
    "\n",
    "for i in range(epochs):\n",
    "    y_hat = predict(w, b, inputs=X)\n",
    "    error = y_hat-y\n",
    "    gradients = {\n",
    "        'w' : 2*(error*X).mean(),\n",
    "        'b' : 2*(error).mean()\n",
    "    }\n",
    "    w = w - L*gradients['w'] \n",
    "    b = b - L*gradients['b'] \n",
    "    \n",
    "    w = w.copy()\n",
    "    b = b.copy()\n",
    "    \n",
    "    loss_history.append(loss(w, b, inputs=X, targets=y))"
   ]
  },
  {
   "cell_type": "markdown",
   "metadata": {
    "slideshow": {
     "slide_type": "slide"
    }
   },
   "source": [
    "## Como está a nossa reta depois de 6 mil iterações (epochs)?"
   ]
  },
  {
   "cell_type": "code",
   "execution_count": 83,
   "metadata": {
    "scrolled": true,
    "slideshow": {
     "slide_type": "-"
    }
   },
   "outputs": [
    {
     "data": {
      "text/plain": [
       "Text(0.5, 0, 'loss')"
      ]
     },
     "execution_count": 83,
     "metadata": {},
     "output_type": "execute_result"
    },
    {
     "data": {
      "image/png": "[encoded data removed]",
      "text/plain": [
       "<Figure size 432x288 with 1 Axes>"
      ]
     },
     "metadata": {
      "needs_background": "light"
     },
     "output_type": "display_data"
    }
   ],
   "source": [
    "plt.plot(loss_history, label='loss')\n",
    "plt.xlabel('loss')"
   ]
  },
  {
   "cell_type": "markdown",
   "metadata": {
    "slideshow": {
     "slide_type": "slide"
    }
   },
   "source": [
    "## Como está a nossa reta depois de 6 mil iterações (epochs)?"
   ]
  },
  {
   "cell_type": "code",
   "execution_count": 60,
   "metadata": {
    "slideshow": {
     "slide_type": "-"
    }
   },
   "outputs": [
    {
     "data": {
      "image/png": "[encoded data removed]",
      "text/plain": [
       "<Figure size 432x288 with 1 Axes>"
      ]
     },
     "metadata": {
      "needs_background": "light"
     },
     "output_type": "display_data"
    }
   ],
   "source": [
    "y_hat = w*X + b\n",
    "sns.scatterplot(x, y)\n",
    "plt.plot(x, y_hat, color='r');"
   ]
  },
  {
   "cell_type": "code",
   "execution_count": 85,
   "metadata": {},
   "outputs": [
    {
     "name": "stdout",
     "output_type": "stream",
     "text": [
      "(0.8182309519072178, 0.14361680084615364)\n"
     ]
    },
    {
     "data": {
      "text/plain": [
       "1091.891028277401"
      ]
     },
     "execution_count": 85,
     "metadata": {},
     "output_type": "execute_result"
    }
   ],
   "source": [
    "print((w, b))\n",
    "loss(w, b, inputs=X, targets=y)"
   ]
  },
  {
   "cell_type": "markdown",
   "metadata": {
    "slideshow": {
     "slide_type": "slide"
    }
   },
   "source": [
    "## Computando a regressão o com o Sklearn"
   ]
  },
  {
   "cell_type": "code",
   "execution_count": 46,
   "metadata": {},
   "outputs": [
    {
     "data": {
      "text/plain": [
       "LinearRegression()"
      ]
     },
     "execution_count": 46,
     "metadata": {},
     "output_type": "execute_result"
    }
   ],
   "source": [
    "from sklearn.linear_model import LinearRegression\n",
    "\n",
    "# happiness = 1 + income*0.7 + bias\n",
    "X_reshaped = X.reshape(-1,1)\n",
    "lr = LinearRegression() # Utilizando o método dos mínimos quadrados\n",
    "lr.fit(x_reshaped, y)"
   ]
  },
  {
   "cell_type": "code",
   "execution_count": 47,
   "metadata": {},
   "outputs": [
    {
     "data": {
      "text/plain": [
       "(1.1805734310182316, array([0.6722904]))"
      ]
     },
     "execution_count": 47,
     "metadata": {},
     "output_type": "execute_result"
    }
   ],
   "source": [
    "lr.intercept_, lr.coef_"
   ]
  },
  {
   "cell_type": "code",
   "execution_count": 48,
   "metadata": {},
   "outputs": [
    {
     "data": {
      "text/plain": [
       "(0.14361680084615364, 0.8182309519072178)"
      ]
     },
     "execution_count": 48,
     "metadata": {},
     "output_type": "execute_result"
    }
   ],
   "source": [
    "b, w"
   ]
  },
  {
   "cell_type": "markdown",
   "metadata": {
    "slideshow": {
     "slide_type": "slide"
    }
   },
   "source": [
    "Conseguimos! Teoricamente encontramos o menor erro(aproximado) da nossa função! Essa técnica de otimização é conhecida como Gradiente Descendente (Gradient Descent) e é muito comum utilizá-la para otimizar diferentes modelos ! Principalmente quando temos um volume de dados muito grande :)"
   ]
  }
 ],
 "metadata": {
  "celltoolbar": "Slideshow",
  "kernelspec": {
   "display_name": "Python 3",
   "language": "python",
   "name": "python3"
  },
  "language_info": {
   "codemirror_mode": {
    "name": "ipython",
    "version": 3
   },
   "file_extension": ".py",
   "mimetype": "text/x-python",
   "name": "python",
   "nbconvert_exporter": "python",
   "pygments_lexer": "ipython3",
   "version": "3.7.9"
  }
 },
 "nbformat": 4,
 "nbformat_minor": 4
}
