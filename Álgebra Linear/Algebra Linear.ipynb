{
 "cells": [
  {
   "cell_type": "markdown",
   "metadata": {},
   "source": [
    "# Álgebra Linear - Principais Conceitos\n",
    "\n",
    "Ter uma base sólida de álgebra linear te ajudará muito lá na frente quando estiver lidando com assuntos de Data Science mais complexos mas que são construídos em cima destes conceitos. "
   ]
  },
  {
   "cell_type": "markdown",
   "metadata": {},
   "source": [
    "# Escalares ou Grandeza Escalar\n",
    "\n",
    "É um único valor numérico associado a alguma unidade de medida para caracterizar uma grandeza da natureza\n",
    "\n",
    "**Exemplos de Grandezas Escalares:**\n",
    "- Massa\n",
    "- Tempo\n",
    "- Temperatura\n",
    "- Comprimento\n",
    "\n",
    "_Obs - Um escalar não precisa ter necessáriamente uma unidade de medida especificada_"
   ]
  },
  {
   "cell_type": "markdown",
   "metadata": {},
   "source": [
    "## Definindo Escalares em Python"
   ]
  },
  {
   "cell_type": "markdown",
   "metadata": {},
   "source": [
    "Para definir um escalar em Python, basta atribuir o seu valor único a uma variável.\n",
    "**Exemplos**:\n",
    "- Atribua o valor 36.5°C da temperatura corporal de uma pessoa a variável **temperatura** e imprima o resultado na tela"
   ]
  },
  {
   "cell_type": "code",
   "execution_count": 1,
   "metadata": {},
   "outputs": [
    {
     "name": "stdout",
     "output_type": "stream",
     "text": [
      "36.5\n"
     ]
    }
   ],
   "source": [
    "#Para atribuir o valor a uma variável, utilize o seguinte código: temperatura = 36.5\n",
    "temperatura = 36.5\n",
    "print(temperatura)"
   ]
  },
  {
   "cell_type": "markdown",
   "metadata": {},
   "source": [
    "- Atribua o valor 20m da altura de uma casa a variável **altura** e imprima o resultado na tela"
   ]
  },
  {
   "cell_type": "code",
   "execution_count": 2,
   "metadata": {},
   "outputs": [
    {
     "name": "stdout",
     "output_type": "stream",
     "text": [
      "20\n"
     ]
    }
   ],
   "source": [
    "#Para atribuir o valor a uma variável, utilize o seguinte código: altura = 20\n",
    "altura = 20\n",
    "print(altura)"
   ]
  },
  {
   "cell_type": "markdown",
   "metadata": {},
   "source": [
    "---"
   ]
  },
  {
   "cell_type": "markdown",
   "metadata": {},
   "source": [
    "# Vetores\n",
    "\n",
    "Por definição os vetores nada mais são que segmentos de Reta com:\n",
    "- **Direção** - Direção da Reta (Horizontal, Vertical)\n",
    "- **Sentido** - Sentido indicado pela orientação da reta\n",
    "- **Modulo** - Intensidade ou Tamanho do Vetor"
   ]
  },
  {
   "cell_type": "markdown",
   "metadata": {},
   "source": [
    "## Soma de Vetores\n",
    "\n",
    "Para realizar a soma entre dois vetores, basta somar os itens de cada uma das posições do vetor em questão com os itens do vetor que se deseja efetuar a soma. Veja a imagem abaixo:\n",
    "\n",
    "<img src=\"imagens/img14.png\" width=200>"
   ]
  },
  {
   "cell_type": "markdown",
   "metadata": {},
   "source": [
    "Muito simples né? Então vamos atribuir esses vetores a duas variáveis e somar para ver o resultado!"
   ]
  },
  {
   "cell_type": "code",
   "execution_count": 3,
   "metadata": {},
   "outputs": [],
   "source": [
    "#Atribuindo os vetores a variaveis\n",
    "vetor1 = (1, 2)\n",
    "vetor2 = (1, 0)"
   ]
  },
  {
   "cell_type": "code",
   "execution_count": 4,
   "metadata": {},
   "outputs": [
    {
     "name": "stdout",
     "output_type": "stream",
     "text": [
      "(1, 2, 1, 0)\n"
     ]
    }
   ],
   "source": [
    "#Somando as Variáveis\n",
    "vetor3 = vetor1 + vetor2\n",
    "print(vetor3)"
   ]
  },
  {
   "cell_type": "markdown",
   "metadata": {},
   "source": [
    "Como você pode notar, não funcionou muito bem né... \n",
    "\n",
    "Quando atribuimos os valores do vetor diretamente a uma variável e fazemos a soma com outra variavel contendo um vetor,  o que o Python faz é concatenar os dois vetores, formando um novo vetor concatenado.\n",
    "\n",
    "Para resolver isso, precisaremos utilizar a biblioteca **Numpy**! \n",
    "\n",
    "O **Numpy** é uma poderosa biblioteca utilizada para fazer cálculos numéricos.\n",
    "\n",
    "Para criar um vetor de fato, vamos utilizar o método **array** da biblioteca **Numpy**"
   ]
  },
  {
   "cell_type": "code",
   "execution_count": 5,
   "metadata": {},
   "outputs": [],
   "source": [
    "#importando biblioteca Numpy (com o apelido carinhoso np)\n",
    "import numpy as np"
   ]
  },
  {
   "cell_type": "code",
   "execution_count": 6,
   "metadata": {},
   "outputs": [],
   "source": [
    "#atribuindo os vetores as variaveis\n",
    "vetor1 = np.array((1, 2))\n",
    "vetor2 = np.array((1, 0))\n",
    "\n",
    "#somando os vetores e atribuindo o resultado em uma nova variavel\n",
    "vetor3 = vetor1 + vetor2"
   ]
  },
  {
   "cell_type": "code",
   "execution_count": 7,
   "metadata": {},
   "outputs": [
    {
     "name": "stdout",
     "output_type": "stream",
     "text": [
      "[2 2]\n"
     ]
    }
   ],
   "source": [
    "#imprimindo resultado utilizando o print\n",
    "print(vetor3)"
   ]
  },
  {
   "cell_type": "code",
   "execution_count": 8,
   "metadata": {},
   "outputs": [
    {
     "data": {
      "text/plain": [
       "array([2, 2])"
      ]
     },
     "execution_count": 8,
     "metadata": {},
     "output_type": "execute_result"
    }
   ],
   "source": [
    "#imprimindo o resultado sem o print\n",
    "vetor3"
   ]
  },
  {
   "cell_type": "markdown",
   "metadata": {},
   "source": [
    "Agora que ja entendemos como realizar a soma de matrizes, vejamos alguns exemplos:\n",
    "\n",
    " - Crie um script para somar o vetor (8, 6, 4, 6, 4) com o vetor (1, 2, 4, 5, 4) e imprima na tela o resultado"
   ]
  },
  {
   "cell_type": "code",
   "execution_count": 11,
   "metadata": {},
   "outputs": [
    {
     "data": {
      "text/plain": [
       "array([ 9,  8,  8, 11,  8])"
      ]
     },
     "execution_count": 11,
     "metadata": {},
     "output_type": "execute_result"
    }
   ],
   "source": [
    "import numpy as np\n",
    "\n",
    "vetor1=np.array((8,6,4,6,4))\n",
    "vetor2=np.array((1,2,4,5,4))\n",
    "\n",
    "vetor3 = vetor1+vetor2\n",
    "vetor3"
   ]
  },
  {
   "cell_type": "code",
   "execution_count": 13,
   "metadata": {},
   "outputs": [
    {
     "name": "stdout",
     "output_type": "stream",
     "text": [
      "[ 9  8  8 11  8]\n"
     ]
    }
   ],
   "source": [
    "#atribuindo os vetores as variaveis\n",
    "vetor1 = np.array([8, 6, 4, 6, 4])\n",
    "vetor2 = np.array([1, 2, 4, 5, 4])\n",
    "\n",
    "#somando os vetores e atribuindo o resultado em uma nova variavel\n",
    "vetor3 = vetor1 + vetor2\n",
    "\n",
    "#imprimindo o resultado\n",
    "print(vetor3)"
   ]
  },
  {
   "cell_type": "markdown",
   "metadata": {},
   "source": [
    " - Crie um script para somar o vetor (10, 15, 18, 22) com o vetor (4, 8, 3) e imprima na tela o resultado"
   ]
  },
  {
   "cell_type": "code",
   "execution_count": 15,
   "metadata": {},
   "outputs": [
    {
     "ename": "ValueError",
     "evalue": "operands could not be broadcast together with shapes (4,) (5,) ",
     "output_type": "error",
     "traceback": [
      "\u001b[1;31m---------------------------------------------------------------------------\u001b[0m",
      "\u001b[1;31mValueError\u001b[0m                                Traceback (most recent call last)",
      "\u001b[1;32m<ipython-input-15-b17c9ce7b0fe>\u001b[0m in \u001b[0;36m<module>\u001b[1;34m\u001b[0m\n\u001b[0;32m      1\u001b[0m \u001b[0mvetor1\u001b[0m\u001b[1;33m=\u001b[0m\u001b[0mnp\u001b[0m\u001b[1;33m.\u001b[0m\u001b[0marray\u001b[0m\u001b[1;33m(\u001b[0m\u001b[1;33m(\u001b[0m\u001b[1;36m10\u001b[0m\u001b[1;33m,\u001b[0m \u001b[1;36m15\u001b[0m\u001b[1;33m,\u001b[0m \u001b[1;36m18\u001b[0m\u001b[1;33m,\u001b[0m \u001b[1;36m22\u001b[0m\u001b[1;33m)\u001b[0m\u001b[1;33m)\u001b[0m\u001b[1;33m\u001b[0m\u001b[1;33m\u001b[0m\u001b[0m\n\u001b[0;32m      2\u001b[0m \u001b[0mvetor2\u001b[0m\u001b[1;33m=\u001b[0m\u001b[0mnp\u001b[0m\u001b[1;33m.\u001b[0m\u001b[0marray\u001b[0m\u001b[1;33m(\u001b[0m\u001b[1;33m(\u001b[0m\u001b[1;36m4\u001b[0m\u001b[1;33m,\u001b[0m \u001b[1;36m8\u001b[0m\u001b[1;33m,\u001b[0m \u001b[1;36m3\u001b[0m\u001b[1;33m,\u001b[0m\u001b[1;36m0\u001b[0m\u001b[1;33m,\u001b[0m\u001b[1;36m0\u001b[0m\u001b[1;33m)\u001b[0m\u001b[1;33m)\u001b[0m\u001b[1;33m\u001b[0m\u001b[1;33m\u001b[0m\u001b[0m\n\u001b[1;32m----> 3\u001b[1;33m \u001b[0mvetor3\u001b[0m\u001b[1;33m=\u001b[0m\u001b[0mvetor1\u001b[0m\u001b[1;33m+\u001b[0m\u001b[0mvetor2\u001b[0m\u001b[1;33m\u001b[0m\u001b[1;33m\u001b[0m\u001b[0m\n\u001b[0m\u001b[0;32m      4\u001b[0m \u001b[0mvetor3\u001b[0m\u001b[1;33m\u001b[0m\u001b[1;33m\u001b[0m\u001b[0m\n",
      "\u001b[1;31mValueError\u001b[0m: operands could not be broadcast together with shapes (4,) (5,) "
     ]
    }
   ],
   "source": [
    "vetor1=np.array((10, 15, 18, 22))\n",
    "vetor2=np.array((4, 8, 3,0,0))\n",
    "vetor3=vetor1+vetor2\n",
    "vetor3"
   ]
  },
  {
   "cell_type": "code",
   "execution_count": null,
   "metadata": {},
   "outputs": [],
   "source": [
    "#atribuindo os vetores as variaveis\n",
    "vetor1 = np.array([10, 15, 18, 22])\n",
    "vetor2 = np.array([4, 8, 3])\n",
    "\n",
    "#somando os vetores e atribuindo o resultado em uma nova variavel\n",
    "vetor3 = vetor1 + vetor2\n",
    "\n",
    "#imprimindo o resultado\n",
    "print(vetor3)"
   ]
  },
  {
   "cell_type": "markdown",
   "metadata": {},
   "source": [
    "**Importante:** Como você pode notar no erro acima! A soma de vetores só é possível, quando os dois vetores foram da mesma dimensão (mesmo tamanho)"
   ]
  },
  {
   "cell_type": "markdown",
   "metadata": {},
   "source": [
    "## Multiplicação de vetor por um escalar\n",
    "\n",
    "Quando você multiplica um vetor por um número, esse número é chamado de escalar. Para realizar a operação, basta multiplicar cada item do vetor pelo escalar. Veja a imagem abaixo:\n",
    "\n",
    "<img src=\"imagens/img16.png\" width=160>\n",
    "\n",
    "Vamos reproduzir o experimento em Python"
   ]
  },
  {
   "cell_type": "code",
   "execution_count": 16,
   "metadata": {},
   "outputs": [],
   "source": [
    "#Atribuindo valor escalar 2 a variavel \"escalar\"\n",
    "escalar = 2\n",
    "\n",
    "#atribuindo os valores do vetor a variavel\n",
    "vetor = np.array([1, 2])"
   ]
  },
  {
   "cell_type": "code",
   "execution_count": 17,
   "metadata": {},
   "outputs": [],
   "source": [
    "#Multiplicando o Vetor\n",
    "vetor_resultante = escalar * vetor"
   ]
  },
  {
   "cell_type": "code",
   "execution_count": 18,
   "metadata": {},
   "outputs": [
    {
     "name": "stdout",
     "output_type": "stream",
     "text": [
      "[2 4]\n"
     ]
    }
   ],
   "source": [
    "#imprimindo resultado\n",
    "print(vetor_resultante)"
   ]
  },
  {
   "cell_type": "markdown",
   "metadata": {},
   "source": [
    "Bem tranquilo né? Vamos fazer alguns exemplos:\n",
    "- Crie um script que multiplique o vetor (2, 5, 6, 7) pelo escalar 8 e imprima o resultado na tela:"
   ]
  },
  {
   "cell_type": "code",
   "execution_count": 21,
   "metadata": {},
   "outputs": [
    {
     "name": "stdout",
     "output_type": "stream",
     "text": [
      "[16 40 48 56]\n"
     ]
    }
   ],
   "source": [
    "escalar=8\n",
    "vetor=np.array((2,5,6,7))\n",
    "print(vetor*8)"
   ]
  },
  {
   "cell_type": "code",
   "execution_count": 22,
   "metadata": {},
   "outputs": [
    {
     "name": "stdout",
     "output_type": "stream",
     "text": [
      "[16 40 48 56]\n"
     ]
    }
   ],
   "source": [
    "#Atribuindo valor escalar 2 a variavel \"escalar\"\n",
    "escalar = 8\n",
    "\n",
    "#atribuindo os valores do vetor a variavel\n",
    "vetor = np.array([2, 5, 6, 7])\n",
    "\n",
    "#Multiplicando o Vetor\n",
    "vetor_resultante = escalar * vetor\n",
    "\n",
    "#imprimindo resultado\n",
    "print(vetor_resultante)"
   ]
  },
  {
   "cell_type": "markdown",
   "metadata": {},
   "source": [
    "- Desenvolva um script que multiplique vetor (4, 6, 8) pelo escalar 4 e imprima o resultado na tela:"
   ]
  },
  {
   "cell_type": "code",
   "execution_count": null,
   "metadata": {},
   "outputs": [],
   "source": [
    "#Atribuindo valor escalar 2 a variavel \"escalar\"\n",
    "escalar = 4\n",
    "\n",
    "#atribuindo os valores do vetor a variavel\n",
    "vetor = np.array([4, 6, 8])\n",
    "\n",
    "#Multiplicando o Vetor\n",
    "vetor_resultante = escalar * vetor\n",
    "\n",
    "#imprimindo resultado\n",
    "print(vetor_resultante)"
   ]
  },
  {
   "cell_type": "markdown",
   "metadata": {},
   "source": [
    "---"
   ]
  },
  {
   "cell_type": "markdown",
   "metadata": {},
   "source": [
    "# Matrizes\n",
    "\n",
    "Como cientista de dados você não irá analisar os seus temas de estudo somente ponto a ponto, ou vetor a vetor, por isso é necessário um sistema em que se possa sistematizar uma porção de observações. Utilizando o exemplo do material, poderíamos ter um conjunto de vetores, sendo cada vetor uma posição de nosso interesse, como a farmácia e o banco.\n",
    "\n",
    "<img src=\"imagens/img07.png\" width=200>\n",
    "\n",
    "\n",
    "A partir dos vetores, podemos criar uma tabela indicando a distância da **Origem** até qualquer ponto do mapa, abaixo um exemplo com a Farmácia e o Banco\n",
    "\n",
    "\n",
    "Movimentação | Farmácia | Banco\n",
    "-------------|----------|------\n",
    "X | 1 | 2\n",
    "Y | 2 | 2\n",
    "\n",
    "\n",
    "Se olharmos somente para os valores dessa tabela, temos uma **matriz** composta por:\n",
    "\n",
    "<img src=\"imagens/img17.png\" width=100>\n",
    "\n",
    "Você pode  criar Matrizes com quantas linhas e com quantas colunas precisar\n",
    "\n",
    "<img src=\"imagens/img18.png\" width=350>"
   ]
  },
  {
   "cell_type": "markdown",
   "metadata": {},
   "source": [
    "## Matrizes no Python\n",
    "\n",
    "Para criar uma matriz no Python, também é necessário utilizar o método **array** da biblioteca **Numpy**.\n",
    "\n",
    "Cada linha da matriz precisa estar entre **colchetes** \"[ ]\" e para representar as colunas, basta separar por vírgula:\n",
    "\n",
    "- Exemplo: Linha em uma matriz: [1, 2, 3]\n",
    "\n",
    "Cada nova linha da matriz, deve ser separa por virgula dentro de um novo par de colchetes, para representar a matriz <img src=\"imagens/img17.png\" width=80> teremos:\n",
    "\n",
    "- Exemplo: np.array([[1, 2], [2, 2]])"
   ]
  },
  {
   "cell_type": "code",
   "execution_count": 1,
   "metadata": {},
   "outputs": [
    {
     "data": {
      "text/plain": [
       "array([[1, 2],\n",
       "       [2, 2]])"
      ]
     },
     "execution_count": 1,
     "metadata": {},
     "output_type": "execute_result"
    }
   ],
   "source": [
    "import numpy as np\n",
    "np.array([[1, 2], [2, 2]])"
   ]
  },
  {
   "cell_type": "markdown",
   "metadata": {},
   "source": [
    "# Operação de Matrizes"
   ]
  },
  {
   "cell_type": "markdown",
   "metadata": {},
   "source": [
    "## Soma de Matrizes"
   ]
  },
  {
   "cell_type": "markdown",
   "metadata": {},
   "source": [
    "Basta somar os elementos de mesma posição, veja abaixo:\n",
    "\n",
    "<img src=\"imagens/img19.png\" width=350>\n",
    "\n",
    "Resultando em:\n",
    "\n",
    "<img src=\"imagens/img20.png\" width=80>"
   ]
  },
  {
   "cell_type": "markdown",
   "metadata": {},
   "source": [
    "Vamos reproduzir o exemplo acima com Python:"
   ]
  },
  {
   "cell_type": "code",
   "execution_count": 2,
   "metadata": {},
   "outputs": [
    {
     "data": {
      "text/plain": [
       "array([[1, 2],\n",
       "       [0, 1],\n",
       "       [3, 4]])"
      ]
     },
     "execution_count": 2,
     "metadata": {},
     "output_type": "execute_result"
    }
   ],
   "source": [
    "#Atribuindo a primeira matriz\n",
    "matriz1 = np.array([[1, 2],[0, 1], [3, 4]])\n",
    "matriz1"
   ]
  },
  {
   "cell_type": "code",
   "execution_count": 3,
   "metadata": {},
   "outputs": [
    {
     "data": {
      "text/plain": [
       "array([[0, 3],\n",
       "       [2, 2],\n",
       "       [1, 4]])"
      ]
     },
     "execution_count": 3,
     "metadata": {},
     "output_type": "execute_result"
    }
   ],
   "source": [
    "#Atribuindo a primeira matriz\n",
    "matriz2 = np.array([[0, 3],[2, 2], [1, 4]])\n",
    "matriz2"
   ]
  },
  {
   "cell_type": "code",
   "execution_count": 4,
   "metadata": {},
   "outputs": [
    {
     "name": "stdout",
     "output_type": "stream",
     "text": [
      "[[1 5]\n",
      " [2 3]\n",
      " [4 8]]\n"
     ]
    }
   ],
   "source": [
    "#Somando as Matrizes\n",
    "matriz3 = matriz1 + matriz2\n",
    "print(matriz3)"
   ]
  },
  {
   "cell_type": "markdown",
   "metadata": {},
   "source": [
    "## Multiplicação de matriz por um escalar\n",
    "\n",
    "Cada elemento da matriz será multiplicado pelo escalar, veja abaixo:\n",
    "\n",
    "<img src=\"imagens/img21.png\" width=300>\n",
    "\n",
    "Resultando em:\n",
    "\n",
    "<img src=\"imagens/img22.png\" width=90>\n"
   ]
  },
  {
   "cell_type": "markdown",
   "metadata": {},
   "source": [
    "Vamos reproduzir o exemplo acima com Python:"
   ]
  },
  {
   "cell_type": "code",
   "execution_count": 5,
   "metadata": {},
   "outputs": [
    {
     "data": {
      "text/plain": [
       "3"
      ]
     },
     "execution_count": 5,
     "metadata": {},
     "output_type": "execute_result"
    }
   ],
   "source": [
    "#Atribuindo escalar em variável\n",
    "escalar = 3\n",
    "escalar"
   ]
  },
  {
   "cell_type": "code",
   "execution_count": 6,
   "metadata": {},
   "outputs": [
    {
     "data": {
      "text/plain": [
       "array([[1, 2],\n",
       "       [0, 1],\n",
       "       [3, 4]])"
      ]
     },
     "execution_count": 6,
     "metadata": {},
     "output_type": "execute_result"
    }
   ],
   "source": [
    "#Atribuindo a primeira matriz\n",
    "matriz1 = np.array([[1, 2],[0, 1], [3, 4]])\n",
    "matriz1"
   ]
  },
  {
   "cell_type": "code",
   "execution_count": 7,
   "metadata": {},
   "outputs": [
    {
     "name": "stdout",
     "output_type": "stream",
     "text": [
      "[[ 3  6]\n",
      " [ 0  3]\n",
      " [ 9 12]]\n"
     ]
    }
   ],
   "source": [
    "#Multiplicando a Matriz pelo Escalar\n",
    "matriz2 = matriz1 * escalar\n",
    "print(matriz2)"
   ]
  },
  {
   "cell_type": "markdown",
   "metadata": {},
   "source": [
    "## Multiplicação de matrizes\n",
    "\n",
    "Três coisas importantes para saber antes de prosseguir:\n",
    "\n",
    "- Para podermos multiplicar duas matrizes o número de colunas da primeira matriz precisa ter o mesmo número de linhas da segunda matriz.\n",
    "- A matriz resultante terá o número de linhas da primeira e o número de colunas da segunda.  \n",
    "- A multiplicação de matrizes não é comutativa. Ou seja, A x B é diferente de B x A.\n"
   ]
  },
  {
   "cell_type": "markdown",
   "metadata": {},
   "source": [
    "Vamos efetuar a seguinte multiplicação:\n",
    "\n",
    "<img src=\"imagens/img23.png\" width=300>\n",
    "\n",
    "Nós vamos somar os produtos da linha da primeira matriz com a coluna da segunda. Olha só:\n",
    "\n",
    "<img src=\"imagens/img24.png\" width=550>\n",
    "\n",
    "E ficamos com:\n",
    "\n",
    "<img src=\"imagens/img25.png\" width=120>\n"
   ]
  },
  {
   "cell_type": "markdown",
   "metadata": {},
   "source": [
    "Vamos reproduzir o exemplo acima com Python:"
   ]
  },
  {
   "cell_type": "code",
   "execution_count": 8,
   "metadata": {},
   "outputs": [
    {
     "data": {
      "text/plain": [
       "array([[1, 0, 3],\n",
       "       [2, 1, 4]])"
      ]
     },
     "execution_count": 8,
     "metadata": {},
     "output_type": "execute_result"
    }
   ],
   "source": [
    "#Atribuindo a primeira matriz\n",
    "matriz1 = np.array([[1, 0, 3], [2, 1, 4]])\n",
    "matriz1"
   ]
  },
  {
   "cell_type": "code",
   "execution_count": null,
   "metadata": {},
   "outputs": [],
   "source": []
  },
  {
   "cell_type": "code",
   "execution_count": 9,
   "metadata": {},
   "outputs": [
    {
     "data": {
      "text/plain": [
       "array([[0, 5],\n",
       "       [3, 1],\n",
       "       [4, 2]])"
      ]
     },
     "execution_count": 9,
     "metadata": {},
     "output_type": "execute_result"
    }
   ],
   "source": [
    "#Atribuindo a segunda matriz\n",
    "matriz2 = np.array([[0, 5], [3, 1], [4, 2]])\n",
    "matriz2"
   ]
  },
  {
   "cell_type": "code",
   "execution_count": 13,
   "metadata": {},
   "outputs": [
    {
     "name": "stdout",
     "output_type": "stream",
     "text": [
      "[[12 11]\n",
      " [19 19]]\n"
     ]
    }
   ],
   "source": [
    "matriz3 = matriz1.dot(matriz2)\n",
    "print(matriz3)"
   ]
  },
  {
   "cell_type": "markdown",
   "metadata": {},
   "source": [
    "Para multiplicar as matrizes em Python, será necessário utilizar o médoto **.dot()** de uma matriz por outra"
   ]
  },
  {
   "cell_type": "code",
   "execution_count": 11,
   "metadata": {},
   "outputs": [
    {
     "name": "stdout",
     "output_type": "stream",
     "text": [
      "[[12 11]\n",
      " [19 19]]\n"
     ]
    }
   ],
   "source": [
    "#Multiplicando as Matrizes\n",
    "matriz3 = matriz1.dot(matriz2)\n",
    "print(matriz3)"
   ]
  },
  {
   "cell_type": "markdown",
   "metadata": {},
   "source": [
    "## Materiais para aprofundamento\n",
    "\n",
    "Com o que aprendeu por aqui será mais confortável mergulhar no material abaixo caso queira se aprofundar um pouco mais na Álgebra Linear."
   ]
  },
  {
   "cell_type": "markdown",
   "metadata": {},
   "source": [
    "[Curso de Álgebra linear da Khan Academy](https://pt.khanacademy.org/math/linear-algebra)\n",
    "\n",
    "[Curso do MIT de Álgebra Linear](https://ocw.mit.edu/courses/mathematics/18-06-linear-algebra-spring-2010/video-lectures/)\n",
    "\n",
    "[Série do canal 3Blue1Brown sobre Álgebra Linear](https://www.youtube.com/watch?v=fNk_zzaMoSs&list=PLZHQObOWTQDPD3MizzM2xVFitgF8hE_ab)\n"
   ]
  }
 ],
 "metadata": {
  "kernelspec": {
   "display_name": "Python 3",
   "language": "python",
   "name": "python3"
  },
  "language_info": {
   "codemirror_mode": {
    "name": "ipython",
    "version": 3
   },
   "file_extension": ".py",
   "mimetype": "text/x-python",
   "name": "python",
   "nbconvert_exporter": "python",
   "pygments_lexer": "ipython3",
   "version": "3.7.6"
  }
 },
 "nbformat": 4,
 "nbformat_minor": 4
}
