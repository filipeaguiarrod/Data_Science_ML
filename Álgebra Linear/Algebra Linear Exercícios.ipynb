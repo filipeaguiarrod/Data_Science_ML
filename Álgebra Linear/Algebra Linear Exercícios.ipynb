{
 "cells": [
  {
   "cell_type": "markdown",
   "metadata": {},
   "source": [
    "# Álgebra Linear Exercícios"
   ]
  },
  {
   "cell_type": "markdown",
   "metadata": {},
   "source": [
    "Agora que você ja estudou, e está por dentro dos principais conceitos que envolvem a **álgebra linear**, que tal fazer alguns exercícios para consolidar o conhecimento?\n",
    "\n",
    "Para te ajudar preparamos exercícios das seguintes categorias:\n",
    "\n",
    "- Escalares\n",
    "- Vetores\n",
    "- Matrizes\n",
    "\n",
    "Para ter certeza de que você está no caminho certo, colocamos a resposta do exercício bem embaixo do enunciado de cada um. Para ver a resposta basta clicar em **RESPOSTA**!\n",
    "\n",
    "Tente utilizando o Exemplo abaixo:\n",
    "\n",
    "<details><summary><b>RESPOSTA</b></summary>\n",
    "<p>\n",
    "\n",
    "#### É isso ai!\n",
    "\n",
    "```python\n",
    "print(\"Você está pronto!\")\n",
    "```\n",
    "\n",
    "</p>\n",
    "</details>\n",
    "\n",
    "Agora que você ja está pronto, vamos aos **Exercícios** !\n",
    "\n",
    "---"
   ]
  },
  {
   "cell_type": "markdown",
   "metadata": {},
   "source": [
    "## Escalares"
   ]
  },
  {
   "cell_type": "markdown",
   "metadata": {},
   "source": [
    "**Exercicio 01)** Atribua o valor do escalar 20 a uma variável e imprima o valor na tela:\n",
    "\n",
    "<details><summary><b>RESPOSTA</b></summary>\n",
    "<p>\n",
    "\n",
    "#### Copie e cole o código abaixo:\n",
    "\n",
    "```python\n",
    "escalar = 20\n",
    "print(escalar)\n",
    "```\n",
    "\n",
    "</p>\n",
    "</details>"
   ]
  },
  {
   "cell_type": "code",
   "execution_count": 1,
   "metadata": {},
   "outputs": [
    {
     "name": "stdout",
     "output_type": "stream",
     "text": [
      "20\n"
     ]
    }
   ],
   "source": [
    "escalar=20\n",
    "print(escalar)"
   ]
  },
  {
   "cell_type": "markdown",
   "metadata": {},
   "source": [
    "**Exercicio 02)** Um carro anda em uma via com uma velocidade média de 60 km/h! Atribua o valor do escalar a uma variável e imprima o valor na tela:\n",
    "\n",
    "<details><summary><b>RESPOSTA</b></summary>\n",
    "<p>\n",
    "\n",
    "#### Copie e cole o código abaixo:\n",
    "\n",
    "```python\n",
    "velocidade = 60\n",
    "print(velocidade)\n",
    "```\n",
    "\n",
    "</p>\n",
    "</details>"
   ]
  },
  {
   "cell_type": "code",
   "execution_count": 3,
   "metadata": {},
   "outputs": [
    {
     "name": "stdout",
     "output_type": "stream",
     "text": [
      "60\n"
     ]
    }
   ],
   "source": [
    "velocidade_med=60\n",
    "print(velocidade_med)"
   ]
  },
  {
   "cell_type": "markdown",
   "metadata": {},
   "source": [
    "**Exercicio 03)** Para acompanhar o IMC de seu filho, todos os meses uma mãe atribui a altura e a massa dele a duas variáveis! \n",
    "- No mes de Janeiro a altura dele era de 1.30m e o peso 42kg! \n",
    "Como ela poderia fazer para atribuir os valores, utilizando python? Atribua os valores e imprima o resultado na tela!\n",
    "\n",
    "<details><summary><b>RESPOSTA</b></summary>\n",
    "<p>\n",
    "\n",
    "#### Copie e cole o código abaixo:\n",
    "\n",
    "```python\n",
    "altura = 1.30\n",
    "peso = 42\n",
    "    \n",
    "print(altura)\n",
    "print(peso)\n",
    "```\n",
    "\n",
    "</p>\n",
    "</details>"
   ]
  },
  {
   "cell_type": "code",
   "execution_count": 7,
   "metadata": {},
   "outputs": [
    {
     "name": "stdout",
     "output_type": "stream",
     "text": [
      "{'mes': 'Janeiro', 'altura': 1.3, 'peso': 42}\n"
     ]
    }
   ],
   "source": [
    "IMC={'mes':'Janeiro','altura':1.3,'peso':42}\n",
    "print(IMC)"
   ]
  },
  {
   "cell_type": "markdown",
   "metadata": {},
   "source": [
    "---\n",
    "## Vetores"
   ]
  },
  {
   "cell_type": "markdown",
   "metadata": {},
   "source": [
    "**Exercicio 04)** Crie um script para somar os vetores (1, 8, 5, 4), (5, 6, 4, 2) e imprima o resultado da soma na tela:\n",
    "\n",
    "<details><summary><b>RESPOSTA</b></summary>\n",
    "<p>\n",
    "\n",
    "#### Copie e cole o código abaixo:\n",
    "\n",
    "```python\n",
    "import numpy as np\n",
    "    \n",
    "vetor1 = np.array([1, 8, 5, 4])\n",
    "vetor2 = np.array([5, 6, 4, 2])\n",
    "\n",
    "vetor3 = vetor1 + vetor2\n",
    "\n",
    "print(vetor3)\n",
    "```\n",
    "\n",
    "</p>\n",
    "</details>"
   ]
  },
  {
   "cell_type": "code",
   "execution_count": 10,
   "metadata": {},
   "outputs": [
    {
     "data": {
      "text/plain": [
       "array([ 6, 14,  9,  6])"
      ]
     },
     "execution_count": 10,
     "metadata": {},
     "output_type": "execute_result"
    }
   ],
   "source": [
    "import numpy as np\n",
    "\n",
    "vetor1=np.array([1, 8, 5, 4])\n",
    "vetor2=np.array([5, 6, 4, 2])\n",
    "\n",
    "vetor3=vetor1+vetor2\n",
    "vetor3"
   ]
  },
  {
   "cell_type": "markdown",
   "metadata": {},
   "source": [
    "**Exercicio 05)** : Seguindo a imagem abaixo, imagine que você partindo da sua casa (origem), precisou ir até a farmácia e logo depois decidiu ir até o banco para pagar umas contas. Chegando em casa, você descobre esqueceu de pagar uma das contas e vai ter que voltar diretamente para o banco. Partindo da situação responda:\n",
    "\n",
    "- Expresse o caminho de sua casa até a farmácia com um vetor;\n",
    "- Expresse o caminho da farmácia até o banco com um vetor;\n",
    "- Expresse o caminho da sua casa até o banco utilizando os vetores anteriormente criados;\n",
    "\n",
    "*Obs - Cada um dos quarteirões da imagem valem 2km*\n",
    "\n",
    "\n",
    "<img src=\"imagens/img07.png\" width=300>\n",
    "\n",
    "<details><summary><b>RESPOSTA</b></summary>\n",
    "<p>\n",
    "\n",
    "#### Copie e cole o código abaixo:\n",
    "\n",
    "```python\n",
    "import numpy as np\n",
    "\n",
    "vetor_casa_farmacia = np.array((2, 4))\n",
    "print(vetor_casa_farmacia)\n",
    "\n",
    "vetor_farmacia_banco = np.array((2, 0))\n",
    "print(vetor_farmacia_banco)\n",
    "\n",
    "vetor_casa_banco = vetor_casa_farmacia + vetor_farmacia_banco\n",
    "print(vetor_casa_banco) \n",
    "```\n",
    "\n",
    "</p>\n",
    "</details>"
   ]
  },
  {
   "cell_type": "code",
   "execution_count": 13,
   "metadata": {},
   "outputs": [
    {
     "name": "stdout",
     "output_type": "stream",
     "text": [
      "[2 4]\n",
      "[2 0]\n",
      "[4 4]\n"
     ]
    }
   ],
   "source": [
    "import numpy as np\n",
    "\n",
    "casa=np.array([0,0])\n",
    "farmacia=np.array([2,4])\n",
    "banco=np.array([4,4])\n",
    "\n",
    "\n",
    "casa_farmacia=farmacia-casa\n",
    "farmacia_banco=banco-farmacia\n",
    "casa_banco=casa+banco\n",
    "\n",
    "\n",
    "print(casa_farmacia)\n",
    "print(farmacia_banco)\n",
    "print(casa_banco)"
   ]
  },
  {
   "cell_type": "code",
   "execution_count": null,
   "metadata": {},
   "outputs": [],
   "source": []
  },
  {
   "cell_type": "code",
   "execution_count": 17,
   "metadata": {},
   "outputs": [
    {
     "name": "stdout",
     "output_type": "stream",
     "text": [
      "[32 20 24]\n"
     ]
    }
   ],
   "source": [
    "vetor=np.array([8,5,6])\n",
    "escalar=4\n",
    "\n",
    "print(escalar*vetor)"
   ]
  },
  {
   "cell_type": "code",
   "execution_count": null,
   "metadata": {},
   "outputs": [],
   "source": []
  },
  {
   "cell_type": "markdown",
   "metadata": {},
   "source": [
    "**Exercicio 07)** : Seguindo a imagem abaixo, imagine que certo dia, você descobriu que a farmácia se mudou para um novo endereço 3x mais longe de sua casa que o atual:\n",
    "\n",
    "- Expresse o caminho de sua casa até a farmácia com um vetor;\n",
    "- Expresse o novo vetor com caminho atual até a farmácia\n",
    "\n",
    "*Obs - Cada um dos quarteirões da imagem valem 2km*\n",
    "\n",
    "\n",
    "<img src=\"imagens/img07.png\" width=300>\n",
    "\n",
    "<details><summary><b>RESPOSTA</b></summary>\n",
    "<p>\n",
    "\n",
    "#### Copie e cole o código abaixo:\n",
    "\n",
    "```python\n",
    "import numpy as np\n",
    "\n",
    "vetor_casa_farmacia = np.array((2, 4))\n",
    "print(vetor_casa_farmacia)\n",
    "\n",
    "nova_distancia = 3\n",
    "print(nova_distancia)\n",
    "\n",
    "vetor_casa_farmacia_atual = vetor_casa_farmacia * nova_distancia\n",
    "print(vetor_casa_farmacia_atual) \n",
    "\n",
    "```\n",
    "\n",
    "</p>\n",
    "</details>"
   ]
  },
  {
   "cell_type": "code",
   "execution_count": 18,
   "metadata": {},
   "outputs": [
    {
     "name": "stdout",
     "output_type": "stream",
     "text": [
      "[ 6 12]\n"
     ]
    }
   ],
   "source": [
    "print(casa_farmacia*3)"
   ]
  },
  {
   "cell_type": "code",
   "execution_count": null,
   "metadata": {},
   "outputs": [],
   "source": []
  },
  {
   "cell_type": "markdown",
   "metadata": {},
   "source": [
    "---\n",
    "## Matrizes"
   ]
  },
  {
   "cell_type": "markdown",
   "metadata": {},
   "source": [
    "**Exercicio 08)** : Crie a matriz abaixo em python e imprima o resultado na tela:\n",
    "\n",
    "<img src=\"imagens/img27.png\" width=220>\n",
    "\n",
    "<details><summary><b>RESPOSTA</b></summary>\n",
    "<p>\n",
    "\n",
    "#### Copie e cole o código abaixo:\n",
    "\n",
    "```python\n",
    "import numpy as np\n",
    "\n",
    "matriz = np.array([[8, 7, 1], [6, 2, 6], [4, 0, 3]])\n",
    "print(matriz)\n",
    "\n",
    "```\n",
    "\n",
    "</p>\n",
    "</details>"
   ]
  },
  {
   "cell_type": "code",
   "execution_count": 22,
   "metadata": {},
   "outputs": [
    {
     "data": {
      "text/plain": [
       "array([[8, 7, 1],\n",
       "       [6, 2, 6],\n",
       "       [4, 0, 3]])"
      ]
     },
     "execution_count": 22,
     "metadata": {},
     "output_type": "execute_result"
    }
   ],
   "source": [
    "import numpy as np\n",
    "matriz=np.array([[8,7,1],[6,2,6],[4,0,3]]) # usar dois parenteses ?\n",
    "matriz "
   ]
  },
  {
   "cell_type": "markdown",
   "metadata": {},
   "source": [
    "**Exercicio 09)** : Cria um script para somar as matrizes abaixo e imprima o reultado na tela:\n",
    "\n",
    "<img src=\"imagens/img26.png\" width=200>\n",
    "<img src=\"imagens/img27.png\" width=220>\n",
    "\n",
    "<details><summary><b>RESPOSTA</b></summary>\n",
    "<p>\n",
    "\n",
    "#### Copie e cole o código abaixo:\n",
    "\n",
    "```python\n",
    "import numpy as np\n",
    "\n",
    "matriz1 = np.array([[2, 6, 8], [4, 5, 7], [5, 9, 3]])\n",
    "print(matriz1)\n",
    "\n",
    "matriz2 = np.array([[8, 7, 1], [6, 2, 6], [4, 0, 3]])\n",
    "print(matriz2)\n",
    "\n",
    "matriz3 = matriz1 + matriz2\n",
    "print(matriz3)\n",
    "```\n",
    "\n",
    "</p>\n",
    "</details>"
   ]
  },
  {
   "cell_type": "code",
   "execution_count": 1,
   "metadata": {},
   "outputs": [
    {
     "name": "stdout",
     "output_type": "stream",
     "text": [
      "[[2 6 8]\n",
      " [4 5 7]\n",
      " [5 9 3]]\n",
      "[[8 7 1]\n",
      " [6 2 6]\n",
      " [4 0 3]]\n",
      "[[10 13  9]\n",
      " [10  7 13]\n",
      " [ 9  9  6]]\n"
     ]
    }
   ],
   "source": [
    "import numpy as np\n",
    "\n",
    "matriz1 = np.array([[2, 6, 8], [4, 5, 7], [5, 9, 3]])\n",
    "print(matriz1)\n",
    "\n",
    "matriz2 = np.array([[8, 7, 1], [6, 2, 6], [4, 0, 3]])\n",
    "print(matriz2)\n",
    "\n",
    "matriz3 = matriz1 + matriz2\n",
    "print(matriz3)"
   ]
  },
  {
   "cell_type": "code",
   "execution_count": null,
   "metadata": {},
   "outputs": [],
   "source": []
  },
  {
   "cell_type": "code",
   "execution_count": 23,
   "metadata": {},
   "outputs": [
    {
     "name": "stdout",
     "output_type": "stream",
     "text": [
      "[[10 13  9]\n",
      " [10  7 13]\n",
      " [ 9  9  6]]\n"
     ]
    }
   ],
   "source": [
    "import numpy as np\n",
    "\n",
    "matriz1=np.array([[2,6,8],[4,5,7],[5,9,3]])\n",
    "matriz2=np.array([[8,7,1],[6,2,6],[4,0,3]]) # usar dois parenteses ?\n",
    "\n",
    "matriz_soma=matriz1+matriz2\n",
    "\n",
    "print(matriz_soma)\n"
   ]
  },
  {
   "cell_type": "markdown",
   "metadata": {},
   "source": [
    "**Exercicio 10)** : Imagine que você é o dono de uma grande franquia de doces e possui três lojas, cada uma das lojas vende Pitulitos, Balas e Picolés, possuindo em estoque as seguintes quantidades:\n",
    "\n",
    "LOJA | PIRULITOS | BALAS | PICOLÉS\n",
    "-----|-----------|-------|--------\n",
    "Loja A | 500 | 300 | 200\n",
    "Loja B | 400 | 500 | 100\n",
    "Loja C | 300 | 200 | 600\n",
    "\n",
    "Sabendo que cada um dos produtos tem o seguinte valor:\n",
    "\n",
    "PRODUTO | PREÇO UNITÁRIO\n",
    "--------|---------------\n",
    "PIRULITO|0.50\n",
    "BALA|0.20\n",
    "PICOLÉ|1.50\n",
    "\n",
    "Crie um script que calcula o lucro esperado para cada uma das lojas e indique qual é a loja mais lucrativa\n",
    "\n",
    "\n",
    "<details><summary><b>RESPOSTA</b></summary>\n",
    "<p>\n",
    "\n",
    "#### Copie e cole o código abaixo:\n",
    "\n",
    "```python\n",
    "import numpy as np\n",
    "\n",
    "matriz_lojas = np.array([[500, 300, 200], [400, 500, 100], [300, 200, 600]])\n",
    "print(matriz_lojas)\n",
    "\n",
    "matriz_precos = np.array([[0.5], [0.2], [1.5]])\n",
    "print(matriz_precos)\n",
    "\n",
    "matriz_lucro = matriz_lojas.dot(matriz_precos)\n",
    "print(matriz_lucro)\n",
    "```\n",
    "\n",
    "</p>\n",
    "</details>"
   ]
  },
  {
   "cell_type": "code",
   "execution_count": 5,
   "metadata": {},
   "outputs": [
    {
     "name": "stdout",
     "output_type": "stream",
     "text": [
      "[[500 300 200]\n",
      " [400 500 100]\n",
      " [300 200 600]]\n",
      "[0.5 0.2 1.5]\n",
      "[ 610.  450. 1090.]\n"
     ]
    }
   ],
   "source": [
    "import numpy as np\n",
    "\n",
    "lojas=np.array([[500,300,200],[400,500,100],[300,200,600]])\n",
    "print(lojas)\n",
    "\n",
    "preço=np.array([0.5,0.2,1.5])\n",
    "print(preço)\n",
    "\n",
    "lucro = lojas.dot(preço)\n",
    "print(lucro)"
   ]
  },
  {
   "cell_type": "code",
   "execution_count": null,
   "metadata": {},
   "outputs": [],
   "source": []
  }
 ],
 "metadata": {
  "kernelspec": {
   "display_name": "Python 3",
   "language": "python",
   "name": "python3"
  },
  "language_info": {
   "codemirror_mode": {
    "name": "ipython",
    "version": 3
   },
   "file_extension": ".py",
   "mimetype": "text/x-python",
   "name": "python",
   "nbconvert_exporter": "python",
   "pygments_lexer": "ipython3",
   "version": "3.7.6"
  }
 },
 "nbformat": 4,
 "nbformat_minor": 4
}
