{
 "cells": [
  {
   "cell_type": "markdown",
   "id": "59c4a861-eaba-4bb6-9e4d-b7fedb5d6aec",
   "metadata": {},
   "source": [
    "# Bibliotecas"
   ]
  },
  {
   "cell_type": "code",
   "execution_count": null,
   "id": "7302b590-1ca9-449a-ad00-c8b9ff14cf69",
   "metadata": {
    "execution": {
     "iopub.execute_input": "2023-03-10T23:39:52.997552Z",
     "iopub.status.busy": "2023-03-10T23:39:52.997552Z",
     "iopub.status.idle": "2023-03-10T23:39:53.597696Z",
     "shell.execute_reply": "2023-03-10T23:39:53.597696Z",
     "shell.execute_reply.started": "2023-03-10T23:39:52.997552Z"
    },
    "tags": []
   },
   "outputs": [],
   "source": [
    "import pandas as pd"
   ]
  },
  {
   "cell_type": "markdown",
   "id": "a776a908-8b46-4dc1-a748-08541404e53e",
   "metadata": {},
   "source": [
    "# Types of Recommender Systems\n"
   ]
  },
  {
   "cell_type": "markdown",
   "id": "12d7d0c5-0716-42dd-ad11-e1ea0758b7bf",
   "metadata": {
    "execution": {
     "iopub.execute_input": "2023-01-05T21:35:14.462446Z",
     "iopub.status.busy": "2023-01-05T21:35:14.461446Z",
     "iopub.status.idle": "2023-01-05T21:35:14.479516Z",
     "shell.execute_reply": "2023-01-05T21:35:14.479516Z",
     "shell.execute_reply.started": "2023-01-05T21:35:14.462446Z"
    },
    "jp-MarkdownHeadingCollapsed": true,
    "tags": []
   },
   "source": [
    "## Non Personalized Suggestions"
   ]
  },
  {
   "cell_type": "code",
   "execution_count": null,
   "id": "072596bc-5856-451a-a93f-e34778402075",
   "metadata": {
    "execution": {
     "iopub.execute_input": "2023-03-10T23:39:53.598697Z",
     "iopub.status.busy": "2023-03-10T23:39:53.598697Z",
     "iopub.status.idle": "2023-03-10T23:39:53.613700Z",
     "shell.execute_reply": "2023-03-10T23:39:53.613700Z",
     "shell.execute_reply.started": "2023-03-10T23:39:53.598697Z"
    },
    "tags": []
   },
   "outputs": [],
   "source": [
    "import pandas as pd\n",
    "from itertools import permutations,combinations"
   ]
  },
  {
   "cell_type": "code",
   "execution_count": null,
   "id": "d65d024f-b115-4149-b05f-74d548885ecf",
   "metadata": {
    "execution": {
     "iopub.execute_input": "2023-03-10T23:39:53.614701Z",
     "iopub.status.busy": "2023-03-10T23:39:53.614701Z",
     "iopub.status.idle": "2023-03-10T23:39:53.789831Z",
     "shell.execute_reply": "2023-03-10T23:39:53.789831Z",
     "shell.execute_reply.started": "2023-03-10T23:39:53.614701Z"
    },
    "tags": []
   },
   "outputs": [],
   "source": [
    "user_ratings_df = pd.read_csv('user_ratings.csv')"
   ]
  },
  {
   "cell_type": "markdown",
   "id": "9995cf90-e45b-4709-aff3-fbdc5a5a895e",
   "metadata": {},
   "source": [
    "### Exemplo de como iremos calcular\n",
    "\n",
    "- Items mais comumente vistos juntos\n",
    "- Toda vez que dois livros são lidos pela mesma pessoa;\n",
    "- Contar quantas vezes encontramos esses livros juntos \n",
    "- Olharemos para todos pares de permutação"
   ]
  },
  {
   "cell_type": "code",
   "execution_count": null,
   "id": "dbc29bea-8b5d-46f8-9760-c99c60b3a06b",
   "metadata": {
    "execution": {
     "iopub.execute_input": "2023-03-10T23:39:53.790832Z",
     "iopub.status.busy": "2023-03-10T23:39:53.790832Z",
     "iopub.status.idle": "2023-03-10T23:39:53.806835Z",
     "shell.execute_reply": "2023-03-10T23:39:53.805835Z",
     "shell.execute_reply.started": "2023-03-10T23:39:53.790832Z"
    },
    "tags": []
   },
   "outputs": [],
   "source": [
    "df = user_ratings_df.loc[ user_ratings_df['userId']==189]"
   ]
  },
  {
   "cell_type": "code",
   "execution_count": null,
   "id": "5cc7b054-eef8-4aad-a400-216a8c20beb7",
   "metadata": {
    "execution": {
     "iopub.execute_input": "2023-03-10T23:39:53.807835Z",
     "iopub.status.busy": "2023-03-10T23:39:53.807835Z",
     "iopub.status.idle": "2023-03-10T23:39:53.821838Z",
     "shell.execute_reply": "2023-03-10T23:39:53.821838Z",
     "shell.execute_reply.started": "2023-03-10T23:39:53.807835Z"
    },
    "tags": []
   },
   "outputs": [
    {
     "data": {
      "text/html": [
       "<div>\n",
       "<style scoped>\n",
       "    .dataframe tbody tr th:only-of-type {\n",
       "        vertical-align: middle;\n",
       "    }\n",
       "\n",
       "    .dataframe tbody tr th {\n",
       "        vertical-align: top;\n",
       "    }\n",
       "\n",
       "    .dataframe thead th {\n",
       "        text-align: right;\n",
       "    }\n",
       "</style>\n",
       "<table border=\"1\" class=\"dataframe\">\n",
       "  <thead>\n",
       "    <tr style=\"text-align: right;\">\n",
       "      <th></th>\n",
       "      <th>userId</th>\n",
       "      <th>movieId</th>\n",
       "      <th>rating</th>\n",
       "      <th>timestamp</th>\n",
       "      <th>title</th>\n",
       "      <th>genres</th>\n",
       "    </tr>\n",
       "  </thead>\n",
       "  <tbody>\n",
       "    <tr>\n",
       "      <th>2529</th>\n",
       "      <td>189</td>\n",
       "      <td>356</td>\n",
       "      <td>4.0</td>\n",
       "      <td>1439465080</td>\n",
       "      <td>Forrest Gump (1994)</td>\n",
       "      <td>Comedy|Drama|Romance|War</td>\n",
       "    </tr>\n",
       "    <tr>\n",
       "      <th>3633</th>\n",
       "      <td>189</td>\n",
       "      <td>527</td>\n",
       "      <td>4.5</td>\n",
       "      <td>1439465064</td>\n",
       "      <td>Schindler's List (1993)</td>\n",
       "      <td>Drama|War</td>\n",
       "    </tr>\n",
       "    <tr>\n",
       "      <th>4398</th>\n",
       "      <td>189</td>\n",
       "      <td>593</td>\n",
       "      <td>4.0</td>\n",
       "      <td>1439465116</td>\n",
       "      <td>Silence of the Lambs, The (1991)</td>\n",
       "      <td>Crime|Horror|Thriller</td>\n",
       "    </tr>\n",
       "    <tr>\n",
       "      <th>8628</th>\n",
       "      <td>189</td>\n",
       "      <td>1265</td>\n",
       "      <td>4.0</td>\n",
       "      <td>1439465112</td>\n",
       "      <td>Groundhog Day (1993)</td>\n",
       "      <td>Comedy|Fantasy|Romance</td>\n",
       "    </tr>\n",
       "    <tr>\n",
       "      <th>12721</th>\n",
       "      <td>189</td>\n",
       "      <td>2571</td>\n",
       "      <td>4.0</td>\n",
       "      <td>1439465057</td>\n",
       "      <td>Matrix, The (1999)</td>\n",
       "      <td>Action|Sci-Fi|Thriller</td>\n",
       "    </tr>\n",
       "    <tr>\n",
       "      <th>14378</th>\n",
       "      <td>189</td>\n",
       "      <td>2959</td>\n",
       "      <td>4.0</td>\n",
       "      <td>1439465118</td>\n",
       "      <td>Fight Club (1999)</td>\n",
       "      <td>Action|Crime|Drama|Thriller</td>\n",
       "    </tr>\n",
       "    <tr>\n",
       "      <th>15708</th>\n",
       "      <td>189</td>\n",
       "      <td>3578</td>\n",
       "      <td>4.0</td>\n",
       "      <td>1439465140</td>\n",
       "      <td>Gladiator (2000)</td>\n",
       "      <td>Action|Adventure|Drama</td>\n",
       "    </tr>\n",
       "    <tr>\n",
       "      <th>16392</th>\n",
       "      <td>189</td>\n",
       "      <td>318</td>\n",
       "      <td>4.0</td>\n",
       "      <td>1439465054</td>\n",
       "      <td>Shawshank Redemption, The (1994)</td>\n",
       "      <td>Crime|Drama</td>\n",
       "    </tr>\n",
       "    <tr>\n",
       "      <th>16986</th>\n",
       "      <td>189</td>\n",
       "      <td>48516</td>\n",
       "      <td>4.0</td>\n",
       "      <td>1439465131</td>\n",
       "      <td>Departed, The (2006)</td>\n",
       "      <td>Crime|Drama|Thriller</td>\n",
       "    </tr>\n",
       "    <tr>\n",
       "      <th>17105</th>\n",
       "      <td>189</td>\n",
       "      <td>58559</td>\n",
       "      <td>5.0</td>\n",
       "      <td>1439465067</td>\n",
       "      <td>Dark Knight, The (2008)</td>\n",
       "      <td>Action|Crime|Drama|IMAX</td>\n",
       "    </tr>\n",
       "    <tr>\n",
       "      <th>17505</th>\n",
       "      <td>189</td>\n",
       "      <td>79132</td>\n",
       "      <td>4.5</td>\n",
       "      <td>1439465099</td>\n",
       "      <td>Inception (2010)</td>\n",
       "      <td>Action|Crime|Drama|Mystery|Sci-Fi|Thriller|IMAX</td>\n",
       "    </tr>\n",
       "    <tr>\n",
       "      <th>17685</th>\n",
       "      <td>189</td>\n",
       "      <td>91529</td>\n",
       "      <td>3.5</td>\n",
       "      <td>1439465147</td>\n",
       "      <td>Dark Knight Rises, The (2012)</td>\n",
       "      <td>Action|Adventure|Crime|IMAX</td>\n",
       "    </tr>\n",
       "    <tr>\n",
       "      <th>23084</th>\n",
       "      <td>189</td>\n",
       "      <td>2762</td>\n",
       "      <td>4.0</td>\n",
       "      <td>1439465088</td>\n",
       "      <td>Sixth Sense, The (1999)</td>\n",
       "      <td>Drama|Horror|Mystery</td>\n",
       "    </tr>\n",
       "    <tr>\n",
       "      <th>35987</th>\n",
       "      <td>189</td>\n",
       "      <td>4993</td>\n",
       "      <td>4.0</td>\n",
       "      <td>1439465093</td>\n",
       "      <td>Lord of the Rings: The Fellowship of the Ring,...</td>\n",
       "      <td>Adventure|Fantasy</td>\n",
       "    </tr>\n",
       "    <tr>\n",
       "      <th>37087</th>\n",
       "      <td>189</td>\n",
       "      <td>5952</td>\n",
       "      <td>4.0</td>\n",
       "      <td>1439465085</td>\n",
       "      <td>Lord of the Rings: The Two Towers, The (2002)</td>\n",
       "      <td>Adventure|Fantasy</td>\n",
       "    </tr>\n",
       "    <tr>\n",
       "      <th>37995</th>\n",
       "      <td>189</td>\n",
       "      <td>7153</td>\n",
       "      <td>4.0</td>\n",
       "      <td>1439465091</td>\n",
       "      <td>Lord of the Rings: The Return of the King, The...</td>\n",
       "      <td>Action|Adventure|Drama|Fantasy</td>\n",
       "    </tr>\n",
       "    <tr>\n",
       "      <th>39310</th>\n",
       "      <td>189</td>\n",
       "      <td>33794</td>\n",
       "      <td>3.5</td>\n",
       "      <td>1439465138</td>\n",
       "      <td>Batman Begins (2005)</td>\n",
       "      <td>Action|Crime|IMAX</td>\n",
       "    </tr>\n",
       "    <tr>\n",
       "      <th>42012</th>\n",
       "      <td>189</td>\n",
       "      <td>54286</td>\n",
       "      <td>4.5</td>\n",
       "      <td>1439465114</td>\n",
       "      <td>Bourne Ultimatum, The (2007)</td>\n",
       "      <td>Action|Crime|Thriller</td>\n",
       "    </tr>\n",
       "    <tr>\n",
       "      <th>42355</th>\n",
       "      <td>189</td>\n",
       "      <td>68954</td>\n",
       "      <td>4.5</td>\n",
       "      <td>1439465136</td>\n",
       "      <td>Up (2009)</td>\n",
       "      <td>Adventure|Animation|Children|Drama</td>\n",
       "    </tr>\n",
       "    <tr>\n",
       "      <th>67786</th>\n",
       "      <td>189</td>\n",
       "      <td>76093</td>\n",
       "      <td>4.0</td>\n",
       "      <td>1439465149</td>\n",
       "      <td>How to Train Your Dragon (2010)</td>\n",
       "      <td>Adventure|Animation|Children|Fantasy|IMAX</td>\n",
       "    </tr>\n",
       "  </tbody>\n",
       "</table>\n",
       "</div>"
      ],
      "text/plain": [
       "       userId  movieId  rating   timestamp  \\\n",
       "2529      189      356     4.0  1439465080   \n",
       "3633      189      527     4.5  1439465064   \n",
       "4398      189      593     4.0  1439465116   \n",
       "8628      189     1265     4.0  1439465112   \n",
       "12721     189     2571     4.0  1439465057   \n",
       "14378     189     2959     4.0  1439465118   \n",
       "15708     189     3578     4.0  1439465140   \n",
       "16392     189      318     4.0  1439465054   \n",
       "16986     189    48516     4.0  1439465131   \n",
       "17105     189    58559     5.0  1439465067   \n",
       "17505     189    79132     4.5  1439465099   \n",
       "17685     189    91529     3.5  1439465147   \n",
       "23084     189     2762     4.0  1439465088   \n",
       "35987     189     4993     4.0  1439465093   \n",
       "37087     189     5952     4.0  1439465085   \n",
       "37995     189     7153     4.0  1439465091   \n",
       "39310     189    33794     3.5  1439465138   \n",
       "42012     189    54286     4.5  1439465114   \n",
       "42355     189    68954     4.5  1439465136   \n",
       "67786     189    76093     4.0  1439465149   \n",
       "\n",
       "                                                   title  \\\n",
       "2529                                 Forrest Gump (1994)   \n",
       "3633                             Schindler's List (1993)   \n",
       "4398                    Silence of the Lambs, The (1991)   \n",
       "8628                                Groundhog Day (1993)   \n",
       "12721                                 Matrix, The (1999)   \n",
       "14378                                  Fight Club (1999)   \n",
       "15708                                   Gladiator (2000)   \n",
       "16392                   Shawshank Redemption, The (1994)   \n",
       "16986                               Departed, The (2006)   \n",
       "17105                            Dark Knight, The (2008)   \n",
       "17505                                   Inception (2010)   \n",
       "17685                      Dark Knight Rises, The (2012)   \n",
       "23084                            Sixth Sense, The (1999)   \n",
       "35987  Lord of the Rings: The Fellowship of the Ring,...   \n",
       "37087      Lord of the Rings: The Two Towers, The (2002)   \n",
       "37995  Lord of the Rings: The Return of the King, The...   \n",
       "39310                               Batman Begins (2005)   \n",
       "42012                       Bourne Ultimatum, The (2007)   \n",
       "42355                                          Up (2009)   \n",
       "67786                    How to Train Your Dragon (2010)   \n",
       "\n",
       "                                                genres  \n",
       "2529                          Comedy|Drama|Romance|War  \n",
       "3633                                         Drama|War  \n",
       "4398                             Crime|Horror|Thriller  \n",
       "8628                            Comedy|Fantasy|Romance  \n",
       "12721                           Action|Sci-Fi|Thriller  \n",
       "14378                      Action|Crime|Drama|Thriller  \n",
       "15708                           Action|Adventure|Drama  \n",
       "16392                                      Crime|Drama  \n",
       "16986                             Crime|Drama|Thriller  \n",
       "17105                          Action|Crime|Drama|IMAX  \n",
       "17505  Action|Crime|Drama|Mystery|Sci-Fi|Thriller|IMAX  \n",
       "17685                      Action|Adventure|Crime|IMAX  \n",
       "23084                             Drama|Horror|Mystery  \n",
       "35987                                Adventure|Fantasy  \n",
       "37087                                Adventure|Fantasy  \n",
       "37995                   Action|Adventure|Drama|Fantasy  \n",
       "39310                                Action|Crime|IMAX  \n",
       "42012                            Action|Crime|Thriller  \n",
       "42355               Adventure|Animation|Children|Drama  \n",
       "67786        Adventure|Animation|Children|Fantasy|IMAX  "
      ]
     },
     "execution_count": 34,
     "metadata": {},
     "output_type": "execute_result"
    }
   ],
   "source": [
    "df"
   ]
  },
  {
   "cell_type": "markdown",
   "id": "68acc6d9-2b97-4e16-a7c1-8ae071f95141",
   "metadata": {},
   "source": [
    "**Na permutação iremos combinar e olhar posições diferentes (A,B) e (B,A) na combinação só olhariamos (A,B) pois o (B,A) teoricamente é o mesmo conjunto.**"
   ]
  },
  {
   "cell_type": "code",
   "execution_count": null,
   "id": "b06518e5-d3be-4ade-be0a-c92b22f4414b",
   "metadata": {
    "execution": {
     "iopub.execute_input": "2023-03-10T23:39:53.822839Z",
     "iopub.status.busy": "2023-03-10T23:39:53.822839Z",
     "iopub.status.idle": "2023-03-10T23:39:53.838843Z",
     "shell.execute_reply": "2023-03-10T23:39:53.837842Z",
     "shell.execute_reply.started": "2023-03-10T23:39:53.822839Z"
    },
    "tags": []
   },
   "outputs": [
    {
     "data": {
      "text/plain": [
       "380"
      ]
     },
     "execution_count": 35,
     "metadata": {},
     "output_type": "execute_result"
    }
   ],
   "source": [
    "len(list(permutations(df.title.values, 2))) # lista com livros lidos por usuário e quantas combinações"
   ]
  },
  {
   "cell_type": "code",
   "execution_count": null,
   "id": "e0c32e01-763b-4b3b-a232-51524ffef192",
   "metadata": {
    "execution": {
     "iopub.execute_input": "2023-03-10T23:39:53.839843Z",
     "iopub.status.busy": "2023-03-10T23:39:53.839843Z",
     "iopub.status.idle": "2023-03-10T23:39:53.853846Z",
     "shell.execute_reply": "2023-03-10T23:39:53.853846Z",
     "shell.execute_reply.started": "2023-03-10T23:39:53.839843Z"
    },
    "tags": []
   },
   "outputs": [
    {
     "data": {
      "text/plain": [
       "[('Forrest Gump (1994)', \"Schindler's List (1993)\"),\n",
       " ('Forrest Gump (1994)', 'Silence of the Lambs, The (1991)'),\n",
       " ('Forrest Gump (1994)', 'Groundhog Day (1993)'),\n",
       " ('Forrest Gump (1994)', 'Matrix, The (1999)'),\n",
       " ('Forrest Gump (1994)', 'Fight Club (1999)'),\n",
       " ('Forrest Gump (1994)', 'Gladiator (2000)'),\n",
       " ('Forrest Gump (1994)', 'Shawshank Redemption, The (1994)'),\n",
       " ('Forrest Gump (1994)', 'Departed, The (2006)'),\n",
       " ('Forrest Gump (1994)', 'Dark Knight, The (2008)'),\n",
       " ('Forrest Gump (1994)', 'Inception (2010)'),\n",
       " ('Forrest Gump (1994)', 'Dark Knight Rises, The (2012)'),\n",
       " ('Forrest Gump (1994)', 'Sixth Sense, The (1999)'),\n",
       " ('Forrest Gump (1994)',\n",
       "  'Lord of the Rings: The Fellowship of the Ring, The (2001)'),\n",
       " ('Forrest Gump (1994)', 'Lord of the Rings: The Two Towers, The (2002)'),\n",
       " ('Forrest Gump (1994)',\n",
       "  'Lord of the Rings: The Return of the King, The (2003)'),\n",
       " ('Forrest Gump (1994)', 'Batman Begins (2005)'),\n",
       " ('Forrest Gump (1994)', 'Bourne Ultimatum, The (2007)'),\n",
       " ('Forrest Gump (1994)', 'Up (2009)'),\n",
       " ('Forrest Gump (1994)', 'How to Train Your Dragon (2010)'),\n",
       " (\"Schindler's List (1993)\", 'Forrest Gump (1994)')]"
      ]
     },
     "execution_count": 36,
     "metadata": {},
     "output_type": "execute_result"
    }
   ],
   "source": [
    "list(permutations(df.title.values, 2))[0:20] # lista com livros lidos por usuário e quantas combinações"
   ]
  },
  {
   "cell_type": "code",
   "execution_count": null,
   "id": "cc45eea0-d011-45d3-9a62-04ac320a5d15",
   "metadata": {
    "execution": {
     "iopub.execute_input": "2023-03-10T23:39:53.854846Z",
     "iopub.status.busy": "2023-03-10T23:39:53.854846Z",
     "iopub.status.idle": "2023-03-10T23:39:53.870849Z",
     "shell.execute_reply": "2023-03-10T23:39:53.869849Z",
     "shell.execute_reply.started": "2023-03-10T23:39:53.854846Z"
    },
    "tags": []
   },
   "outputs": [],
   "source": [
    "# Create the function to find all permutations given a dataframe\n",
    "def create_pairs(x):\n",
    "    \n",
    "    pairs = pd.DataFrame(list(permutations(x.values, 2)),\n",
    "                       columns=['movie_a', 'movie_b'])\n",
    "    \n",
    "    return pairs"
   ]
  },
  {
   "cell_type": "code",
   "execution_count": null,
   "id": "e2337691-3891-41f4-87ec-64a97b300516",
   "metadata": {
    "execution": {
     "iopub.execute_input": "2023-03-10T23:39:53.871850Z",
     "iopub.status.busy": "2023-03-10T23:39:53.871850Z",
     "iopub.status.idle": "2023-03-10T23:39:53.885853Z",
     "shell.execute_reply": "2023-03-10T23:39:53.885853Z",
     "shell.execute_reply.started": "2023-03-10T23:39:53.871850Z"
    },
    "tags": []
   },
   "outputs": [
    {
     "data": {
      "text/html": [
       "<div>\n",
       "<style scoped>\n",
       "    .dataframe tbody tr th:only-of-type {\n",
       "        vertical-align: middle;\n",
       "    }\n",
       "\n",
       "    .dataframe tbody tr th {\n",
       "        vertical-align: top;\n",
       "    }\n",
       "\n",
       "    .dataframe thead th {\n",
       "        text-align: right;\n",
       "    }\n",
       "</style>\n",
       "<table border=\"1\" class=\"dataframe\">\n",
       "  <thead>\n",
       "    <tr style=\"text-align: right;\">\n",
       "      <th></th>\n",
       "      <th></th>\n",
       "      <th>movie_a</th>\n",
       "      <th>movie_b</th>\n",
       "    </tr>\n",
       "    <tr>\n",
       "      <th>userId</th>\n",
       "      <th></th>\n",
       "      <th></th>\n",
       "      <th></th>\n",
       "    </tr>\n",
       "  </thead>\n",
       "  <tbody>\n",
       "    <tr>\n",
       "      <th rowspan=\"11\" valign=\"top\">189</th>\n",
       "      <th>0</th>\n",
       "      <td>Forrest Gump (1994)</td>\n",
       "      <td>Schindler's List (1993)</td>\n",
       "    </tr>\n",
       "    <tr>\n",
       "      <th>1</th>\n",
       "      <td>Forrest Gump (1994)</td>\n",
       "      <td>Silence of the Lambs, The (1991)</td>\n",
       "    </tr>\n",
       "    <tr>\n",
       "      <th>2</th>\n",
       "      <td>Forrest Gump (1994)</td>\n",
       "      <td>Groundhog Day (1993)</td>\n",
       "    </tr>\n",
       "    <tr>\n",
       "      <th>3</th>\n",
       "      <td>Forrest Gump (1994)</td>\n",
       "      <td>Matrix, The (1999)</td>\n",
       "    </tr>\n",
       "    <tr>\n",
       "      <th>4</th>\n",
       "      <td>Forrest Gump (1994)</td>\n",
       "      <td>Fight Club (1999)</td>\n",
       "    </tr>\n",
       "    <tr>\n",
       "      <th>...</th>\n",
       "      <td>...</td>\n",
       "      <td>...</td>\n",
       "    </tr>\n",
       "    <tr>\n",
       "      <th>375</th>\n",
       "      <td>How to Train Your Dragon (2010)</td>\n",
       "      <td>Lord of the Rings: The Two Towers, The (2002)</td>\n",
       "    </tr>\n",
       "    <tr>\n",
       "      <th>376</th>\n",
       "      <td>How to Train Your Dragon (2010)</td>\n",
       "      <td>Lord of the Rings: The Return of the King, The...</td>\n",
       "    </tr>\n",
       "    <tr>\n",
       "      <th>377</th>\n",
       "      <td>How to Train Your Dragon (2010)</td>\n",
       "      <td>Batman Begins (2005)</td>\n",
       "    </tr>\n",
       "    <tr>\n",
       "      <th>378</th>\n",
       "      <td>How to Train Your Dragon (2010)</td>\n",
       "      <td>Bourne Ultimatum, The (2007)</td>\n",
       "    </tr>\n",
       "    <tr>\n",
       "      <th>379</th>\n",
       "      <td>How to Train Your Dragon (2010)</td>\n",
       "      <td>Up (2009)</td>\n",
       "    </tr>\n",
       "  </tbody>\n",
       "</table>\n",
       "<p>380 rows × 2 columns</p>\n",
       "</div>"
      ],
      "text/plain": [
       "                                    movie_a  \\\n",
       "userId                                        \n",
       "189    0                Forrest Gump (1994)   \n",
       "       1                Forrest Gump (1994)   \n",
       "       2                Forrest Gump (1994)   \n",
       "       3                Forrest Gump (1994)   \n",
       "       4                Forrest Gump (1994)   \n",
       "...                                     ...   \n",
       "       375  How to Train Your Dragon (2010)   \n",
       "       376  How to Train Your Dragon (2010)   \n",
       "       377  How to Train Your Dragon (2010)   \n",
       "       378  How to Train Your Dragon (2010)   \n",
       "       379  How to Train Your Dragon (2010)   \n",
       "\n",
       "                                                      movie_b  \n",
       "userId                                                         \n",
       "189    0                              Schindler's List (1993)  \n",
       "       1                     Silence of the Lambs, The (1991)  \n",
       "       2                                 Groundhog Day (1993)  \n",
       "       3                                   Matrix, The (1999)  \n",
       "       4                                    Fight Club (1999)  \n",
       "...                                                       ...  \n",
       "       375      Lord of the Rings: The Two Towers, The (2002)  \n",
       "       376  Lord of the Rings: The Return of the King, The...  \n",
       "       377                               Batman Begins (2005)  \n",
       "       378                       Bourne Ultimatum, The (2007)  \n",
       "       379                                          Up (2009)  \n",
       "\n",
       "[380 rows x 2 columns]"
      ]
     },
     "execution_count": 38,
     "metadata": {},
     "output_type": "execute_result"
    }
   ],
   "source": [
    "df_pairs_movies = df.groupby('userId')['title'].apply(create_pairs) # Fazendo o groupby com userId e retornando apenas deixo os values de title que é o que a função utiliza para criar os pares permutados\n",
    "df_pairs_movies"
   ]
  },
  {
   "cell_type": "code",
   "execution_count": null,
   "id": "b87e5f13-7c51-4969-a68a-6c92b8905f31",
   "metadata": {
    "execution": {
     "iopub.execute_input": "2023-03-10T23:39:53.886854Z",
     "iopub.status.busy": "2023-03-10T23:39:53.886854Z",
     "iopub.status.idle": "2023-03-10T23:39:53.902857Z",
     "shell.execute_reply": "2023-03-10T23:39:53.901857Z",
     "shell.execute_reply.started": "2023-03-10T23:39:53.886854Z"
    },
    "tags": []
   },
   "outputs": [],
   "source": [
    "df_pairs_movies.reset_index(drop=True,inplace=True)"
   ]
  },
  {
   "cell_type": "code",
   "execution_count": null,
   "id": "466ade90-6602-4b7a-8719-64b5a5dea6b8",
   "metadata": {
    "execution": {
     "iopub.execute_input": "2023-03-10T23:39:53.903857Z",
     "iopub.status.busy": "2023-03-10T23:39:53.903857Z",
     "iopub.status.idle": "2023-03-10T23:39:53.918860Z",
     "shell.execute_reply": "2023-03-10T23:39:53.917860Z",
     "shell.execute_reply.started": "2023-03-10T23:39:53.903857Z"
    },
    "tags": []
   },
   "outputs": [
    {
     "data": {
      "text/html": [
       "<div>\n",
       "<style scoped>\n",
       "    .dataframe tbody tr th:only-of-type {\n",
       "        vertical-align: middle;\n",
       "    }\n",
       "\n",
       "    .dataframe tbody tr th {\n",
       "        vertical-align: top;\n",
       "    }\n",
       "\n",
       "    .dataframe thead th {\n",
       "        text-align: right;\n",
       "    }\n",
       "</style>\n",
       "<table border=\"1\" class=\"dataframe\">\n",
       "  <thead>\n",
       "    <tr style=\"text-align: right;\">\n",
       "      <th></th>\n",
       "      <th>movie_a</th>\n",
       "      <th>movie_b</th>\n",
       "    </tr>\n",
       "  </thead>\n",
       "  <tbody>\n",
       "    <tr>\n",
       "      <th>0</th>\n",
       "      <td>Forrest Gump (1994)</td>\n",
       "      <td>Schindler's List (1993)</td>\n",
       "    </tr>\n",
       "    <tr>\n",
       "      <th>1</th>\n",
       "      <td>Forrest Gump (1994)</td>\n",
       "      <td>Silence of the Lambs, The (1991)</td>\n",
       "    </tr>\n",
       "    <tr>\n",
       "      <th>2</th>\n",
       "      <td>Forrest Gump (1994)</td>\n",
       "      <td>Groundhog Day (1993)</td>\n",
       "    </tr>\n",
       "    <tr>\n",
       "      <th>3</th>\n",
       "      <td>Forrest Gump (1994)</td>\n",
       "      <td>Matrix, The (1999)</td>\n",
       "    </tr>\n",
       "    <tr>\n",
       "      <th>4</th>\n",
       "      <td>Forrest Gump (1994)</td>\n",
       "      <td>Fight Club (1999)</td>\n",
       "    </tr>\n",
       "    <tr>\n",
       "      <th>...</th>\n",
       "      <td>...</td>\n",
       "      <td>...</td>\n",
       "    </tr>\n",
       "    <tr>\n",
       "      <th>375</th>\n",
       "      <td>How to Train Your Dragon (2010)</td>\n",
       "      <td>Lord of the Rings: The Two Towers, The (2002)</td>\n",
       "    </tr>\n",
       "    <tr>\n",
       "      <th>376</th>\n",
       "      <td>How to Train Your Dragon (2010)</td>\n",
       "      <td>Lord of the Rings: The Return of the King, The...</td>\n",
       "    </tr>\n",
       "    <tr>\n",
       "      <th>377</th>\n",
       "      <td>How to Train Your Dragon (2010)</td>\n",
       "      <td>Batman Begins (2005)</td>\n",
       "    </tr>\n",
       "    <tr>\n",
       "      <th>378</th>\n",
       "      <td>How to Train Your Dragon (2010)</td>\n",
       "      <td>Bourne Ultimatum, The (2007)</td>\n",
       "    </tr>\n",
       "    <tr>\n",
       "      <th>379</th>\n",
       "      <td>How to Train Your Dragon (2010)</td>\n",
       "      <td>Up (2009)</td>\n",
       "    </tr>\n",
       "  </tbody>\n",
       "</table>\n",
       "<p>380 rows × 2 columns</p>\n",
       "</div>"
      ],
      "text/plain": [
       "                             movie_a  \\\n",
       "0                Forrest Gump (1994)   \n",
       "1                Forrest Gump (1994)   \n",
       "2                Forrest Gump (1994)   \n",
       "3                Forrest Gump (1994)   \n",
       "4                Forrest Gump (1994)   \n",
       "..                               ...   \n",
       "375  How to Train Your Dragon (2010)   \n",
       "376  How to Train Your Dragon (2010)   \n",
       "377  How to Train Your Dragon (2010)   \n",
       "378  How to Train Your Dragon (2010)   \n",
       "379  How to Train Your Dragon (2010)   \n",
       "\n",
       "                                               movie_b  \n",
       "0                              Schindler's List (1993)  \n",
       "1                     Silence of the Lambs, The (1991)  \n",
       "2                                 Groundhog Day (1993)  \n",
       "3                                   Matrix, The (1999)  \n",
       "4                                    Fight Club (1999)  \n",
       "..                                                 ...  \n",
       "375      Lord of the Rings: The Two Towers, The (2002)  \n",
       "376  Lord of the Rings: The Return of the King, The...  \n",
       "377                               Batman Begins (2005)  \n",
       "378                       Bourne Ultimatum, The (2007)  \n",
       "379                                          Up (2009)  \n",
       "\n",
       "[380 rows x 2 columns]"
      ]
     },
     "execution_count": 40,
     "metadata": {},
     "output_type": "execute_result"
    }
   ],
   "source": [
    "# Faremos esse mesmo processo escalonado a todos os user_ids no dataframe original, assim poderemos calcular quais pares mais acontecem.\n",
    "\n",
    "df_pairs_movies"
   ]
  },
  {
   "cell_type": "markdown",
   "id": "77865458-9a28-4963-bd69-c86f5f6ed122",
   "metadata": {
    "execution": {
     "iopub.execute_input": "2023-01-06T15:30:41.725998Z",
     "iopub.status.busy": "2023-01-06T15:30:41.725998Z",
     "iopub.status.idle": "2023-01-06T15:30:41.742737Z",
     "shell.execute_reply": "2023-01-06T15:30:41.741623Z",
     "shell.execute_reply.started": "2023-01-06T15:30:41.725998Z"
    },
    "tags": []
   },
   "source": [
    "### Cálculo Escalonado - Df Total"
   ]
  },
  {
   "cell_type": "code",
   "execution_count": null,
   "id": "4007d90b-e755-4ee1-82fc-258a6abeed81",
   "metadata": {
    "execution": {
     "iopub.execute_input": "2023-03-10T23:39:53.919861Z",
     "iopub.status.busy": "2023-03-10T23:39:53.918860Z"
    },
    "tags": []
   },
   "outputs": [],
   "source": [
    "pairs_movies = user_ratings_df.groupby('userId')['title'].apply(create_pairs)"
   ]
  },
  {
   "cell_type": "code",
   "execution_count": null,
   "id": "6a4d87f3-2867-4a18-b1ec-76fcb8a7b740",
   "metadata": {
    "execution": {
     "iopub.execute_input": "2023-03-10T23:42:58.271820Z",
     "iopub.status.busy": "2023-03-10T23:42:58.270819Z",
     "iopub.status.idle": "2023-03-10T23:42:58.332833Z",
     "shell.execute_reply": "2023-03-10T23:42:58.332833Z",
     "shell.execute_reply.started": "2023-03-10T23:42:58.271820Z"
    },
    "tags": []
   },
   "outputs": [],
   "source": [
    "pairs_movies.reset_index(drop=True,inplace=True)"
   ]
  },
  {
   "cell_type": "code",
   "execution_count": null,
   "id": "bf6eacfa-0097-405f-a723-89a54be0b738",
   "metadata": {
    "execution": {
     "iopub.execute_input": "2023-03-10T23:42:58.336834Z",
     "iopub.status.busy": "2023-03-10T23:42:58.335834Z",
     "iopub.status.idle": "2023-03-10T23:42:58.348836Z",
     "shell.execute_reply": "2023-03-10T23:42:58.348836Z",
     "shell.execute_reply.started": "2023-03-10T23:42:58.336834Z"
    },
    "tags": []
   },
   "outputs": [
    {
     "data": {
      "text/html": [
       "<div>\n",
       "<style scoped>\n",
       "    .dataframe tbody tr th:only-of-type {\n",
       "        vertical-align: middle;\n",
       "    }\n",
       "\n",
       "    .dataframe tbody tr th {\n",
       "        vertical-align: top;\n",
       "    }\n",
       "\n",
       "    .dataframe thead th {\n",
       "        text-align: right;\n",
       "    }\n",
       "</style>\n",
       "<table border=\"1\" class=\"dataframe\">\n",
       "  <thead>\n",
       "    <tr style=\"text-align: right;\">\n",
       "      <th></th>\n",
       "      <th>movie_a</th>\n",
       "      <th>movie_b</th>\n",
       "    </tr>\n",
       "  </thead>\n",
       "  <tbody>\n",
       "    <tr>\n",
       "      <th>0</th>\n",
       "      <td>Toy Story (1995)</td>\n",
       "      <td>Grumpier Old Men (1995)</td>\n",
       "    </tr>\n",
       "    <tr>\n",
       "      <th>1</th>\n",
       "      <td>Toy Story (1995)</td>\n",
       "      <td>Heat (1995)</td>\n",
       "    </tr>\n",
       "    <tr>\n",
       "      <th>2</th>\n",
       "      <td>Toy Story (1995)</td>\n",
       "      <td>Seven (a.k.a. Se7en) (1995)</td>\n",
       "    </tr>\n",
       "    <tr>\n",
       "      <th>3</th>\n",
       "      <td>Toy Story (1995)</td>\n",
       "      <td>Usual Suspects, The (1995)</td>\n",
       "    </tr>\n",
       "    <tr>\n",
       "      <th>4</th>\n",
       "      <td>Toy Story (1995)</td>\n",
       "      <td>From Dusk Till Dawn (1996)</td>\n",
       "    </tr>\n",
       "    <tr>\n",
       "      <th>...</th>\n",
       "      <td>...</td>\n",
       "      <td>...</td>\n",
       "    </tr>\n",
       "    <tr>\n",
       "      <th>60793295</th>\n",
       "      <td>31 (2016)</td>\n",
       "      <td>Gen-X Cops (1999)</td>\n",
       "    </tr>\n",
       "    <tr>\n",
       "      <th>60793296</th>\n",
       "      <td>31 (2016)</td>\n",
       "      <td>Bloodmoon (1997)</td>\n",
       "    </tr>\n",
       "    <tr>\n",
       "      <th>60793297</th>\n",
       "      <td>31 (2016)</td>\n",
       "      <td>Sympathy for the Underdog (1971)</td>\n",
       "    </tr>\n",
       "    <tr>\n",
       "      <th>60793298</th>\n",
       "      <td>31 (2016)</td>\n",
       "      <td>Hazard (2005)</td>\n",
       "    </tr>\n",
       "    <tr>\n",
       "      <th>60793299</th>\n",
       "      <td>31 (2016)</td>\n",
       "      <td>Blair Witch (2016)</td>\n",
       "    </tr>\n",
       "  </tbody>\n",
       "</table>\n",
       "<p>60793300 rows × 2 columns</p>\n",
       "</div>"
      ],
      "text/plain": [
       "                   movie_a                           movie_b\n",
       "0         Toy Story (1995)           Grumpier Old Men (1995)\n",
       "1         Toy Story (1995)                       Heat (1995)\n",
       "2         Toy Story (1995)       Seven (a.k.a. Se7en) (1995)\n",
       "3         Toy Story (1995)        Usual Suspects, The (1995)\n",
       "4         Toy Story (1995)        From Dusk Till Dawn (1996)\n",
       "...                    ...                               ...\n",
       "60793295         31 (2016)                 Gen-X Cops (1999)\n",
       "60793296         31 (2016)                  Bloodmoon (1997)\n",
       "60793297         31 (2016)  Sympathy for the Underdog (1971)\n",
       "60793298         31 (2016)                     Hazard (2005)\n",
       "60793299         31 (2016)                Blair Witch (2016)\n",
       "\n",
       "[60793300 rows x 2 columns]"
      ]
     },
     "execution_count": 43,
     "metadata": {},
     "output_type": "execute_result"
    }
   ],
   "source": [
    "pairs_movies"
   ]
  },
  {
   "cell_type": "code",
   "execution_count": null,
   "id": "39e19041-724b-4555-b88b-143648b7b5cc",
   "metadata": {
    "execution": {
     "iopub.execute_input": "2023-03-10T23:42:58.350838Z",
     "iopub.status.busy": "2023-03-10T23:42:58.349837Z"
    },
    "tags": []
   },
   "outputs": [],
   "source": [
    "pairs_movies_counts = pairs_movies.groupby(['movie_a','movie_b']).size()"
   ]
  },
  {
   "cell_type": "code",
   "execution_count": null,
   "id": "74e8c592-430a-472e-ab75-0b74206080b4",
   "metadata": {
    "execution": {
     "iopub.execute_input": "2023-03-10T23:43:19.728810Z",
     "iopub.status.busy": "2023-03-10T23:43:19.728810Z",
     "iopub.status.idle": "2023-03-10T23:43:19.744814Z",
     "shell.execute_reply": "2023-03-10T23:43:19.743814Z",
     "shell.execute_reply.started": "2023-03-10T23:43:19.728810Z"
    },
    "tags": []
   },
   "outputs": [
    {
     "data": {
      "text/plain": [
       "movie_a                                    movie_b                                   \n",
       "'71 (2014)                                 (500) Days of Summer (2009)                   1\n",
       "                                           10 Cloverfield Lane (2016)                    1\n",
       "                                           127 Hours (2010)                              1\n",
       "                                           13 Assassins (Jûsan-nin no shikaku) (2010)    1\n",
       "                                           13 Hours (2016)                               1\n",
       "                                                                                        ..\n",
       "À nous la liberté (Freedom for Us) (1931)  Willow (1988)                                 1\n",
       "                                           Willy Wonka & the Chocolate Factory (1971)    1\n",
       "                                           Wizard of Oz, The (1939)                      1\n",
       "                                           World According to Garp, The (1982)           1\n",
       "                                           X-Files: Fight the Future, The (1998)         1\n",
       "Length: 26309181, dtype: int64"
      ]
     },
     "execution_count": 45,
     "metadata": {},
     "output_type": "execute_result"
    }
   ],
   "source": [
    "pairs_movies_counts"
   ]
  },
  {
   "cell_type": "code",
   "execution_count": null,
   "id": "42c42c50-ef85-4f46-8d62-7f64f8911dfc",
   "metadata": {
    "execution": {
     "iopub.execute_input": "2023-03-10T23:43:19.745814Z",
     "iopub.status.busy": "2023-03-10T23:43:19.745814Z",
     "iopub.status.idle": "2023-03-10T23:43:19.902849Z",
     "shell.execute_reply": "2023-03-10T23:43:19.902849Z",
     "shell.execute_reply.started": "2023-03-10T23:43:19.745814Z"
    },
    "tags": []
   },
   "outputs": [],
   "source": [
    "pairs_movies_counts_df = pairs_movies_counts.to_frame(name='size')"
   ]
  },
  {
   "cell_type": "code",
   "execution_count": null,
   "id": "667daf47-2068-4076-8f27-96c0bd675f95",
   "metadata": {
    "execution": {
     "iopub.execute_input": "2023-03-10T23:43:19.903850Z",
     "iopub.status.busy": "2023-03-10T23:43:19.903850Z"
    },
    "tags": []
   },
   "outputs": [],
   "source": [
    "pairs_movies_counts_df.reset_index(inplace=True)"
   ]
  },
  {
   "cell_type": "code",
   "execution_count": null,
   "id": "83e07428-8650-4922-8a73-35ed5316ed4d",
   "metadata": {
    "execution": {
     "iopub.execute_input": "2023-03-10T23:43:20.766044Z",
     "iopub.status.busy": "2023-03-10T23:43:20.765043Z"
    },
    "tags": []
   },
   "outputs": [],
   "source": [
    "pairs_movies_counts_df.sort_values('size',ascending=False,inplace=True)"
   ]
  },
  {
   "cell_type": "code",
   "execution_count": null,
   "id": "91d92b27-1c31-49a9-9abc-1a76bd27d496",
   "metadata": {
    "execution": {
     "iopub.execute_input": "2023-03-10T23:43:23.685699Z",
     "iopub.status.busy": "2023-03-10T23:43:23.685699Z",
     "iopub.status.idle": "2023-03-10T23:43:23.700703Z",
     "shell.execute_reply": "2023-03-10T23:43:23.700703Z",
     "shell.execute_reply.started": "2023-03-10T23:43:23.685699Z"
    },
    "tags": []
   },
   "outputs": [],
   "source": [
    "#pairs_movies_counts_df.to_csv('users_non_personalizes_recomm.csv',index=False)"
   ]
  },
  {
   "cell_type": "code",
   "execution_count": null,
   "id": "5cdae51e-59fa-413d-bc08-9268d732ff49",
   "metadata": {
    "execution": {
     "iopub.execute_input": "2023-03-10T23:43:23.702703Z",
     "iopub.status.busy": "2023-03-10T23:43:23.701703Z"
    },
    "tags": []
   },
   "outputs": [
    {
     "data": {
      "text/html": [
       "<div>\n",
       "<style scoped>\n",
       "    .dataframe tbody tr th:only-of-type {\n",
       "        vertical-align: middle;\n",
       "    }\n",
       "\n",
       "    .dataframe tbody tr th {\n",
       "        vertical-align: top;\n",
       "    }\n",
       "\n",
       "    .dataframe thead th {\n",
       "        text-align: right;\n",
       "    }\n",
       "</style>\n",
       "<table border=\"1\" class=\"dataframe\">\n",
       "  <thead>\n",
       "    <tr style=\"text-align: right;\">\n",
       "      <th></th>\n",
       "      <th>movie_a</th>\n",
       "      <th>movie_b</th>\n",
       "      <th>size</th>\n",
       "    </tr>\n",
       "  </thead>\n",
       "  <tbody>\n",
       "    <tr>\n",
       "      <th>24019673</th>\n",
       "      <td>Toy Story (1995)</td>\n",
       "      <td>Forrest Gump (1994)</td>\n",
       "      <td>154</td>\n",
       "    </tr>\n",
       "    <tr>\n",
       "      <th>24023000</th>\n",
       "      <td>Toy Story (1995)</td>\n",
       "      <td>Pulp Fiction (1994)</td>\n",
       "      <td>141</td>\n",
       "    </tr>\n",
       "    <tr>\n",
       "      <th>24023672</th>\n",
       "      <td>Toy Story (1995)</td>\n",
       "      <td>Shawshank Redemption, The (1994)</td>\n",
       "      <td>137</td>\n",
       "    </tr>\n",
       "    <tr>\n",
       "      <th>24024033</th>\n",
       "      <td>Toy Story (1995)</td>\n",
       "      <td>Star Wars: Episode IV - A New Hope (1977)</td>\n",
       "      <td>134</td>\n",
       "    </tr>\n",
       "    <tr>\n",
       "      <th>24021020</th>\n",
       "      <td>Toy Story (1995)</td>\n",
       "      <td>Jurassic Park (1993)</td>\n",
       "      <td>132</td>\n",
       "    </tr>\n",
       "    <tr>\n",
       "      <th>...</th>\n",
       "      <td>...</td>\n",
       "      <td>...</td>\n",
       "      <td>...</td>\n",
       "    </tr>\n",
       "    <tr>\n",
       "      <th>24019043</th>\n",
       "      <td>Toy Story (1995)</td>\n",
       "      <td>Dog Park (1998)</td>\n",
       "      <td>1</td>\n",
       "    </tr>\n",
       "    <tr>\n",
       "      <th>24019045</th>\n",
       "      <td>Toy Story (1995)</td>\n",
       "      <td>Dogfight (1991)</td>\n",
       "      <td>1</td>\n",
       "    </tr>\n",
       "    <tr>\n",
       "      <th>24019051</th>\n",
       "      <td>Toy Story (1995)</td>\n",
       "      <td>Domestic Disturbance (2001)</td>\n",
       "      <td>1</td>\n",
       "    </tr>\n",
       "    <tr>\n",
       "      <th>24019052</th>\n",
       "      <td>Toy Story (1995)</td>\n",
       "      <td>Dominick and Eugene (1988)</td>\n",
       "      <td>1</td>\n",
       "    </tr>\n",
       "    <tr>\n",
       "      <th>24019053</th>\n",
       "      <td>Toy Story (1995)</td>\n",
       "      <td>Dominion: Prequel to the Exorcist (2005)</td>\n",
       "      <td>1</td>\n",
       "    </tr>\n",
       "  </tbody>\n",
       "</table>\n",
       "<p>8665 rows × 3 columns</p>\n",
       "</div>"
      ],
      "text/plain": [
       "                   movie_a                                    movie_b  size\n",
       "24019673  Toy Story (1995)                        Forrest Gump (1994)   154\n",
       "24023000  Toy Story (1995)                        Pulp Fiction (1994)   141\n",
       "24023672  Toy Story (1995)           Shawshank Redemption, The (1994)   137\n",
       "24024033  Toy Story (1995)  Star Wars: Episode IV - A New Hope (1977)   134\n",
       "24021020  Toy Story (1995)                       Jurassic Park (1993)   132\n",
       "...                    ...                                        ...   ...\n",
       "24019043  Toy Story (1995)                            Dog Park (1998)     1\n",
       "24019045  Toy Story (1995)                            Dogfight (1991)     1\n",
       "24019051  Toy Story (1995)                Domestic Disturbance (2001)     1\n",
       "24019052  Toy Story (1995)                 Dominick and Eugene (1988)     1\n",
       "24019053  Toy Story (1995)   Dominion: Prequel to the Exorcist (2005)     1\n",
       "\n",
       "[8665 rows x 3 columns]"
      ]
     },
     "execution_count": 50,
     "metadata": {},
     "output_type": "execute_result"
    }
   ],
   "source": [
    "pairs_movies_counts_df.loc[pairs_movies_counts_df['movie_a']=='Toy Story (1995)']"
   ]
  },
  {
   "cell_type": "markdown",
   "id": "877c2aea-14dd-418e-813f-031a18f3a043",
   "metadata": {},
   "source": [
    "### Examples use case:\n",
    "\n",
    "Por exemplo, acabo de assistir \"Fight Club (1999)\", qual próximo filme o sistema me recomendaria ?"
   ]
  },
  {
   "cell_type": "code",
   "execution_count": null,
   "id": "4a9e6866-0e2e-49fe-a7ce-55534e4c14e8",
   "metadata": {
    "execution": {
     "iopub.execute_input": "2023-03-10T23:43:25.364426Z",
     "iopub.status.busy": "2023-03-10T23:43:25.364426Z"
    },
    "tags": []
   },
   "outputs": [
    {
     "data": {
      "text/html": [
       "<div>\n",
       "<style scoped>\n",
       "    .dataframe tbody tr th:only-of-type {\n",
       "        vertical-align: middle;\n",
       "    }\n",
       "\n",
       "    .dataframe tbody tr th {\n",
       "        vertical-align: top;\n",
       "    }\n",
       "\n",
       "    .dataframe thead th {\n",
       "        text-align: right;\n",
       "    }\n",
       "</style>\n",
       "<table border=\"1\" class=\"dataframe\">\n",
       "  <thead>\n",
       "    <tr style=\"text-align: right;\">\n",
       "      <th></th>\n",
       "      <th>movie_a</th>\n",
       "      <th>movie_b</th>\n",
       "      <th>size</th>\n",
       "    </tr>\n",
       "  </thead>\n",
       "  <tbody>\n",
       "    <tr>\n",
       "      <th>8102111</th>\n",
       "      <td>Fight Club (1999)</td>\n",
       "      <td>Matrix, The (1999)</td>\n",
       "      <td>180</td>\n",
       "    </tr>\n",
       "    <tr>\n",
       "      <th>8104013</th>\n",
       "      <td>Fight Club (1999)</td>\n",
       "      <td>Shawshank Redemption, The (1994)</td>\n",
       "      <td>162</td>\n",
       "    </tr>\n",
       "    <tr>\n",
       "      <th>8100000</th>\n",
       "      <td>Fight Club (1999)</td>\n",
       "      <td>Forrest Gump (1994)</td>\n",
       "      <td>160</td>\n",
       "    </tr>\n",
       "    <tr>\n",
       "      <th>8103342</th>\n",
       "      <td>Fight Club (1999)</td>\n",
       "      <td>Pulp Fiction (1994)</td>\n",
       "      <td>158</td>\n",
       "    </tr>\n",
       "    <tr>\n",
       "      <th>8104096</th>\n",
       "      <td>Fight Club (1999)</td>\n",
       "      <td>Silence of the Lambs, The (1991)</td>\n",
       "      <td>137</td>\n",
       "    </tr>\n",
       "  </tbody>\n",
       "</table>\n",
       "</div>"
      ],
      "text/plain": [
       "                   movie_a                           movie_b  size\n",
       "8102111  Fight Club (1999)                Matrix, The (1999)   180\n",
       "8104013  Fight Club (1999)  Shawshank Redemption, The (1994)   162\n",
       "8100000  Fight Club (1999)               Forrest Gump (1994)   160\n",
       "8103342  Fight Club (1999)               Pulp Fiction (1994)   158\n",
       "8104096  Fight Club (1999)  Silence of the Lambs, The (1991)   137"
      ]
     },
     "execution_count": 51,
     "metadata": {},
     "output_type": "execute_result"
    }
   ],
   "source": [
    "movie = \"Fight Club (1999)\"\n",
    "pairs_movies_counts_df.loc[pairs_movies_counts_df['movie_a']==f'{movie}'].head(5)"
   ]
  },
  {
   "cell_type": "markdown",
   "id": "c177ac62-ec57-4271-bccd-3ee7691f831c",
   "metadata": {
    "tags": []
   },
   "source": [
    "## Content-based recommendations"
   ]
  },
  {
   "cell_type": "code",
   "execution_count": null,
   "id": "32aa03ad-32cb-44c4-9a08-66e942423af2",
   "metadata": {
    "execution": {
     "iopub.execute_input": "2023-03-10T23:43:26.481677Z",
     "iopub.status.busy": "2023-03-10T23:43:26.481677Z",
     "iopub.status.idle": "2023-03-10T23:43:26.496681Z",
     "shell.execute_reply": "2023-03-10T23:43:26.496681Z",
     "shell.execute_reply.started": "2023-03-10T23:43:26.481677Z"
    },
    "tags": []
   },
   "outputs": [],
   "source": [
    "import pandas as pd\n",
    "pd.set_option('display.max_columns', 30)\n",
    "\n",
    "from sklearn.feature_extraction.text import CountVectorizer"
   ]
  },
  {
   "cell_type": "markdown",
   "id": "8b7724ba-de01-45c7-a197-a654cab806b6",
   "metadata": {
    "execution": {
     "iopub.execute_input": "2023-01-06T19:21:53.017304Z",
     "iopub.status.busy": "2023-01-06T19:21:53.016304Z",
     "iopub.status.idle": "2023-01-06T19:21:53.020951Z",
     "shell.execute_reply": "2023-01-06T19:21:53.020951Z",
     "shell.execute_reply.started": "2023-01-06T19:21:53.017304Z"
    },
    "tags": []
   },
   "source": [
    "### Preparing data to simillarity"
   ]
  },
  {
   "cell_type": "code",
   "execution_count": null,
   "id": "a9bad0f2-c7c6-4475-956b-aad2acdb23de",
   "metadata": {
    "execution": {
     "iopub.execute_input": "2023-03-10T23:43:26.498681Z",
     "iopub.status.busy": "2023-03-10T23:43:26.497681Z",
     "iopub.status.idle": "2023-03-10T23:43:26.529688Z",
     "shell.execute_reply": "2023-03-10T23:43:26.528688Z",
     "shell.execute_reply.started": "2023-03-10T23:43:26.498681Z"
    },
    "tags": []
   },
   "outputs": [],
   "source": [
    "df = pd.read_csv('movies.csv')"
   ]
  },
  {
   "cell_type": "code",
   "execution_count": null,
   "id": "28ef2645-a292-4f10-8989-12601ab0ff6c",
   "metadata": {
    "execution": {
     "iopub.execute_input": "2023-03-10T23:43:26.529688Z",
     "iopub.status.busy": "2023-03-10T23:43:26.529688Z",
     "iopub.status.idle": "2023-03-10T23:43:26.545692Z",
     "shell.execute_reply": "2023-03-10T23:43:26.544692Z",
     "shell.execute_reply.started": "2023-03-10T23:43:26.529688Z"
    },
    "tags": []
   },
   "outputs": [],
   "source": [
    "df_new = df.copy()"
   ]
  },
  {
   "cell_type": "code",
   "execution_count": null,
   "id": "eb795fbd-144b-46cb-b8d0-163a1da333d5",
   "metadata": {
    "execution": {
     "iopub.execute_input": "2023-03-10T23:43:26.546692Z",
     "iopub.status.busy": "2023-03-10T23:43:26.546692Z",
     "iopub.status.idle": "2023-03-10T23:43:26.560696Z",
     "shell.execute_reply": "2023-03-10T23:43:26.560696Z",
     "shell.execute_reply.started": "2023-03-10T23:43:26.546692Z"
    },
    "tags": []
   },
   "outputs": [],
   "source": [
    "df_new['genres'] = df_new['genres'].apply(lambda x: x.replace('|',' '))"
   ]
  },
  {
   "cell_type": "code",
   "execution_count": null,
   "id": "8f498167-dbcd-4e4f-aaa7-9f396642ae1d",
   "metadata": {
    "execution": {
     "iopub.execute_input": "2023-03-10T23:43:26.562696Z",
     "iopub.status.busy": "2023-03-10T23:43:26.561696Z",
     "iopub.status.idle": "2023-03-10T23:43:26.576700Z",
     "shell.execute_reply": "2023-03-10T23:43:26.576700Z",
     "shell.execute_reply.started": "2023-03-10T23:43:26.561696Z"
    },
    "tags": []
   },
   "outputs": [],
   "source": [
    "df_new = df_new.set_index('title')[['genres']]"
   ]
  },
  {
   "cell_type": "code",
   "execution_count": null,
   "id": "4c2b85e7-36d3-441f-bcad-e4e18c17da60",
   "metadata": {
    "execution": {
     "iopub.execute_input": "2023-03-10T23:43:26.578700Z",
     "iopub.status.busy": "2023-03-10T23:43:26.577700Z",
     "iopub.status.idle": "2023-03-10T23:43:26.592702Z",
     "shell.execute_reply": "2023-03-10T23:43:26.592702Z",
     "shell.execute_reply.started": "2023-03-10T23:43:26.578700Z"
    },
    "tags": []
   },
   "outputs": [
    {
     "data": {
      "text/html": [
       "<div>\n",
       "<style scoped>\n",
       "    .dataframe tbody tr th:only-of-type {\n",
       "        vertical-align: middle;\n",
       "    }\n",
       "\n",
       "    .dataframe tbody tr th {\n",
       "        vertical-align: top;\n",
       "    }\n",
       "\n",
       "    .dataframe thead th {\n",
       "        text-align: right;\n",
       "    }\n",
       "</style>\n",
       "<table border=\"1\" class=\"dataframe\">\n",
       "  <thead>\n",
       "    <tr style=\"text-align: right;\">\n",
       "      <th></th>\n",
       "      <th>genres</th>\n",
       "    </tr>\n",
       "    <tr>\n",
       "      <th>title</th>\n",
       "      <th></th>\n",
       "    </tr>\n",
       "  </thead>\n",
       "  <tbody>\n",
       "    <tr>\n",
       "      <th>Toy Story (1995)</th>\n",
       "      <td>Adventure Animation Children Comedy Fantasy</td>\n",
       "    </tr>\n",
       "    <tr>\n",
       "      <th>Jumanji (1995)</th>\n",
       "      <td>Adventure Children Fantasy</td>\n",
       "    </tr>\n",
       "    <tr>\n",
       "      <th>Grumpier Old Men (1995)</th>\n",
       "      <td>Comedy Romance</td>\n",
       "    </tr>\n",
       "    <tr>\n",
       "      <th>Waiting to Exhale (1995)</th>\n",
       "      <td>Comedy Drama Romance</td>\n",
       "    </tr>\n",
       "    <tr>\n",
       "      <th>Father of the Bride Part II (1995)</th>\n",
       "      <td>Comedy</td>\n",
       "    </tr>\n",
       "    <tr>\n",
       "      <th>...</th>\n",
       "      <td>...</td>\n",
       "    </tr>\n",
       "    <tr>\n",
       "      <th>Black Butler: Book of the Atlantic (2017)</th>\n",
       "      <td>Action Animation Comedy Fantasy</td>\n",
       "    </tr>\n",
       "    <tr>\n",
       "      <th>No Game No Life: Zero (2017)</th>\n",
       "      <td>Animation Comedy Fantasy</td>\n",
       "    </tr>\n",
       "    <tr>\n",
       "      <th>Flint (2017)</th>\n",
       "      <td>Drama</td>\n",
       "    </tr>\n",
       "    <tr>\n",
       "      <th>Bungo Stray Dogs: Dead Apple (2018)</th>\n",
       "      <td>Action Animation</td>\n",
       "    </tr>\n",
       "    <tr>\n",
       "      <th>Andrew Dice Clay: Dice Rules (1991)</th>\n",
       "      <td>Comedy</td>\n",
       "    </tr>\n",
       "  </tbody>\n",
       "</table>\n",
       "<p>9742 rows × 1 columns</p>\n",
       "</div>"
      ],
      "text/plain": [
       "                                                                                genres\n",
       "title                                                                                 \n",
       "Toy Story (1995)                           Adventure Animation Children Comedy Fantasy\n",
       "Jumanji (1995)                                              Adventure Children Fantasy\n",
       "Grumpier Old Men (1995)                                                 Comedy Romance\n",
       "Waiting to Exhale (1995)                                          Comedy Drama Romance\n",
       "Father of the Bride Part II (1995)                                              Comedy\n",
       "...                                                                                ...\n",
       "Black Butler: Book of the Atlantic (2017)              Action Animation Comedy Fantasy\n",
       "No Game No Life: Zero (2017)                                  Animation Comedy Fantasy\n",
       "Flint (2017)                                                                     Drama\n",
       "Bungo Stray Dogs: Dead Apple (2018)                                   Action Animation\n",
       "Andrew Dice Clay: Dice Rules (1991)                                             Comedy\n",
       "\n",
       "[9742 rows x 1 columns]"
      ]
     },
     "execution_count": 57,
     "metadata": {},
     "output_type": "execute_result"
    }
   ],
   "source": [
    "df_new"
   ]
  },
  {
   "cell_type": "code",
   "execution_count": 61,
   "id": "cfd17295-51b2-4e9a-8a2e-ae7b0259d590",
   "metadata": {
    "execution": {
     "iopub.execute_input": "2023-03-10T23:44:18.279731Z",
     "iopub.status.busy": "2023-03-10T23:44:18.278739Z",
     "iopub.status.idle": "2023-03-10T23:44:18.343745Z",
     "shell.execute_reply": "2023-03-10T23:44:18.343745Z",
     "shell.execute_reply.started": "2023-03-10T23:44:18.279731Z"
    },
    "tags": []
   },
   "outputs": [
    {
     "data": {
      "text/html": [
       "<div>\n",
       "<style scoped>\n",
       "    .dataframe tbody tr th:only-of-type {\n",
       "        vertical-align: middle;\n",
       "    }\n",
       "\n",
       "    .dataframe tbody tr th {\n",
       "        vertical-align: top;\n",
       "    }\n",
       "\n",
       "    .dataframe thead th {\n",
       "        text-align: right;\n",
       "    }\n",
       "</style>\n",
       "<table border=\"1\" class=\"dataframe\">\n",
       "  <thead>\n",
       "    <tr style=\"text-align: right;\">\n",
       "      <th></th>\n",
       "      <th>action</th>\n",
       "      <th>adventure</th>\n",
       "      <th>animation</th>\n",
       "      <th>children</th>\n",
       "      <th>comedy</th>\n",
       "      <th>crime</th>\n",
       "      <th>documentary</th>\n",
       "      <th>drama</th>\n",
       "      <th>fantasy</th>\n",
       "      <th>fi</th>\n",
       "      <th>film</th>\n",
       "      <th>genres</th>\n",
       "      <th>horror</th>\n",
       "      <th>imax</th>\n",
       "      <th>listed</th>\n",
       "      <th>musical</th>\n",
       "      <th>mystery</th>\n",
       "      <th>no</th>\n",
       "      <th>noir</th>\n",
       "      <th>romance</th>\n",
       "      <th>sci</th>\n",
       "      <th>thriller</th>\n",
       "      <th>war</th>\n",
       "      <th>western</th>\n",
       "    </tr>\n",
       "    <tr>\n",
       "      <th>title</th>\n",
       "      <th></th>\n",
       "      <th></th>\n",
       "      <th></th>\n",
       "      <th></th>\n",
       "      <th></th>\n",
       "      <th></th>\n",
       "      <th></th>\n",
       "      <th></th>\n",
       "      <th></th>\n",
       "      <th></th>\n",
       "      <th></th>\n",
       "      <th></th>\n",
       "      <th></th>\n",
       "      <th></th>\n",
       "      <th></th>\n",
       "      <th></th>\n",
       "      <th></th>\n",
       "      <th></th>\n",
       "      <th></th>\n",
       "      <th></th>\n",
       "      <th></th>\n",
       "      <th></th>\n",
       "      <th></th>\n",
       "      <th></th>\n",
       "    </tr>\n",
       "  </thead>\n",
       "  <tbody>\n",
       "    <tr>\n",
       "      <th>Toy Story (1995)</th>\n",
       "      <td>0.000000</td>\n",
       "      <td>0.416846</td>\n",
       "      <td>0.516225</td>\n",
       "      <td>0.504845</td>\n",
       "      <td>0.267586</td>\n",
       "      <td>0.0</td>\n",
       "      <td>0.0</td>\n",
       "      <td>0.000000</td>\n",
       "      <td>0.482990</td>\n",
       "      <td>0.0</td>\n",
       "      <td>0.0</td>\n",
       "      <td>0.0</td>\n",
       "      <td>0.0</td>\n",
       "      <td>0.0</td>\n",
       "      <td>0.0</td>\n",
       "      <td>0.0</td>\n",
       "      <td>0.0</td>\n",
       "      <td>0.0</td>\n",
       "      <td>0.0</td>\n",
       "      <td>0.000000</td>\n",
       "      <td>0.0</td>\n",
       "      <td>0.0</td>\n",
       "      <td>0.0</td>\n",
       "      <td>0.0</td>\n",
       "    </tr>\n",
       "    <tr>\n",
       "      <th>Jumanji (1995)</th>\n",
       "      <td>0.000000</td>\n",
       "      <td>0.512361</td>\n",
       "      <td>0.000000</td>\n",
       "      <td>0.620525</td>\n",
       "      <td>0.000000</td>\n",
       "      <td>0.0</td>\n",
       "      <td>0.0</td>\n",
       "      <td>0.000000</td>\n",
       "      <td>0.593662</td>\n",
       "      <td>0.0</td>\n",
       "      <td>0.0</td>\n",
       "      <td>0.0</td>\n",
       "      <td>0.0</td>\n",
       "      <td>0.0</td>\n",
       "      <td>0.0</td>\n",
       "      <td>0.0</td>\n",
       "      <td>0.0</td>\n",
       "      <td>0.0</td>\n",
       "      <td>0.0</td>\n",
       "      <td>0.000000</td>\n",
       "      <td>0.0</td>\n",
       "      <td>0.0</td>\n",
       "      <td>0.0</td>\n",
       "      <td>0.0</td>\n",
       "    </tr>\n",
       "    <tr>\n",
       "      <th>Grumpier Old Men (1995)</th>\n",
       "      <td>0.000000</td>\n",
       "      <td>0.000000</td>\n",
       "      <td>0.000000</td>\n",
       "      <td>0.000000</td>\n",
       "      <td>0.570915</td>\n",
       "      <td>0.0</td>\n",
       "      <td>0.0</td>\n",
       "      <td>0.000000</td>\n",
       "      <td>0.000000</td>\n",
       "      <td>0.0</td>\n",
       "      <td>0.0</td>\n",
       "      <td>0.0</td>\n",
       "      <td>0.0</td>\n",
       "      <td>0.0</td>\n",
       "      <td>0.0</td>\n",
       "      <td>0.0</td>\n",
       "      <td>0.0</td>\n",
       "      <td>0.0</td>\n",
       "      <td>0.0</td>\n",
       "      <td>0.821009</td>\n",
       "      <td>0.0</td>\n",
       "      <td>0.0</td>\n",
       "      <td>0.0</td>\n",
       "      <td>0.0</td>\n",
       "    </tr>\n",
       "    <tr>\n",
       "      <th>Waiting to Exhale (1995)</th>\n",
       "      <td>0.000000</td>\n",
       "      <td>0.000000</td>\n",
       "      <td>0.000000</td>\n",
       "      <td>0.000000</td>\n",
       "      <td>0.505015</td>\n",
       "      <td>0.0</td>\n",
       "      <td>0.0</td>\n",
       "      <td>0.466405</td>\n",
       "      <td>0.000000</td>\n",
       "      <td>0.0</td>\n",
       "      <td>0.0</td>\n",
       "      <td>0.0</td>\n",
       "      <td>0.0</td>\n",
       "      <td>0.0</td>\n",
       "      <td>0.0</td>\n",
       "      <td>0.0</td>\n",
       "      <td>0.0</td>\n",
       "      <td>0.0</td>\n",
       "      <td>0.0</td>\n",
       "      <td>0.726241</td>\n",
       "      <td>0.0</td>\n",
       "      <td>0.0</td>\n",
       "      <td>0.0</td>\n",
       "      <td>0.0</td>\n",
       "    </tr>\n",
       "    <tr>\n",
       "      <th>Father of the Bride Part II (1995)</th>\n",
       "      <td>0.000000</td>\n",
       "      <td>0.000000</td>\n",
       "      <td>0.000000</td>\n",
       "      <td>0.000000</td>\n",
       "      <td>1.000000</td>\n",
       "      <td>0.0</td>\n",
       "      <td>0.0</td>\n",
       "      <td>0.000000</td>\n",
       "      <td>0.000000</td>\n",
       "      <td>0.0</td>\n",
       "      <td>0.0</td>\n",
       "      <td>0.0</td>\n",
       "      <td>0.0</td>\n",
       "      <td>0.0</td>\n",
       "      <td>0.0</td>\n",
       "      <td>0.0</td>\n",
       "      <td>0.0</td>\n",
       "      <td>0.0</td>\n",
       "      <td>0.0</td>\n",
       "      <td>0.000000</td>\n",
       "      <td>0.0</td>\n",
       "      <td>0.0</td>\n",
       "      <td>0.0</td>\n",
       "      <td>0.0</td>\n",
       "    </tr>\n",
       "    <tr>\n",
       "      <th>...</th>\n",
       "      <td>...</td>\n",
       "      <td>...</td>\n",
       "      <td>...</td>\n",
       "      <td>...</td>\n",
       "      <td>...</td>\n",
       "      <td>...</td>\n",
       "      <td>...</td>\n",
       "      <td>...</td>\n",
       "      <td>...</td>\n",
       "      <td>...</td>\n",
       "      <td>...</td>\n",
       "      <td>...</td>\n",
       "      <td>...</td>\n",
       "      <td>...</td>\n",
       "      <td>...</td>\n",
       "      <td>...</td>\n",
       "      <td>...</td>\n",
       "      <td>...</td>\n",
       "      <td>...</td>\n",
       "      <td>...</td>\n",
       "      <td>...</td>\n",
       "      <td>...</td>\n",
       "      <td>...</td>\n",
       "      <td>...</td>\n",
       "    </tr>\n",
       "    <tr>\n",
       "      <th>Black Butler: Book of the Atlantic (2017)</th>\n",
       "      <td>0.436010</td>\n",
       "      <td>0.000000</td>\n",
       "      <td>0.614603</td>\n",
       "      <td>0.000000</td>\n",
       "      <td>0.318581</td>\n",
       "      <td>0.0</td>\n",
       "      <td>0.0</td>\n",
       "      <td>0.000000</td>\n",
       "      <td>0.575034</td>\n",
       "      <td>0.0</td>\n",
       "      <td>0.0</td>\n",
       "      <td>0.0</td>\n",
       "      <td>0.0</td>\n",
       "      <td>0.0</td>\n",
       "      <td>0.0</td>\n",
       "      <td>0.0</td>\n",
       "      <td>0.0</td>\n",
       "      <td>0.0</td>\n",
       "      <td>0.0</td>\n",
       "      <td>0.000000</td>\n",
       "      <td>0.0</td>\n",
       "      <td>0.0</td>\n",
       "      <td>0.0</td>\n",
       "      <td>0.0</td>\n",
       "    </tr>\n",
       "    <tr>\n",
       "      <th>No Game No Life: Zero (2017)</th>\n",
       "      <td>0.000000</td>\n",
       "      <td>0.000000</td>\n",
       "      <td>0.682937</td>\n",
       "      <td>0.000000</td>\n",
       "      <td>0.354002</td>\n",
       "      <td>0.0</td>\n",
       "      <td>0.0</td>\n",
       "      <td>0.000000</td>\n",
       "      <td>0.638968</td>\n",
       "      <td>0.0</td>\n",
       "      <td>0.0</td>\n",
       "      <td>0.0</td>\n",
       "      <td>0.0</td>\n",
       "      <td>0.0</td>\n",
       "      <td>0.0</td>\n",
       "      <td>0.0</td>\n",
       "      <td>0.0</td>\n",
       "      <td>0.0</td>\n",
       "      <td>0.0</td>\n",
       "      <td>0.000000</td>\n",
       "      <td>0.0</td>\n",
       "      <td>0.0</td>\n",
       "      <td>0.0</td>\n",
       "      <td>0.0</td>\n",
       "    </tr>\n",
       "    <tr>\n",
       "      <th>Flint (2017)</th>\n",
       "      <td>0.000000</td>\n",
       "      <td>0.000000</td>\n",
       "      <td>0.000000</td>\n",
       "      <td>0.000000</td>\n",
       "      <td>0.000000</td>\n",
       "      <td>0.0</td>\n",
       "      <td>0.0</td>\n",
       "      <td>1.000000</td>\n",
       "      <td>0.000000</td>\n",
       "      <td>0.0</td>\n",
       "      <td>0.0</td>\n",
       "      <td>0.0</td>\n",
       "      <td>0.0</td>\n",
       "      <td>0.0</td>\n",
       "      <td>0.0</td>\n",
       "      <td>0.0</td>\n",
       "      <td>0.0</td>\n",
       "      <td>0.0</td>\n",
       "      <td>0.0</td>\n",
       "      <td>0.000000</td>\n",
       "      <td>0.0</td>\n",
       "      <td>0.0</td>\n",
       "      <td>0.0</td>\n",
       "      <td>0.0</td>\n",
       "    </tr>\n",
       "    <tr>\n",
       "      <th>Bungo Stray Dogs: Dead Apple (2018)</th>\n",
       "      <td>0.578606</td>\n",
       "      <td>0.000000</td>\n",
       "      <td>0.815607</td>\n",
       "      <td>0.000000</td>\n",
       "      <td>0.000000</td>\n",
       "      <td>0.0</td>\n",
       "      <td>0.0</td>\n",
       "      <td>0.000000</td>\n",
       "      <td>0.000000</td>\n",
       "      <td>0.0</td>\n",
       "      <td>0.0</td>\n",
       "      <td>0.0</td>\n",
       "      <td>0.0</td>\n",
       "      <td>0.0</td>\n",
       "      <td>0.0</td>\n",
       "      <td>0.0</td>\n",
       "      <td>0.0</td>\n",
       "      <td>0.0</td>\n",
       "      <td>0.0</td>\n",
       "      <td>0.000000</td>\n",
       "      <td>0.0</td>\n",
       "      <td>0.0</td>\n",
       "      <td>0.0</td>\n",
       "      <td>0.0</td>\n",
       "    </tr>\n",
       "    <tr>\n",
       "      <th>Andrew Dice Clay: Dice Rules (1991)</th>\n",
       "      <td>0.000000</td>\n",
       "      <td>0.000000</td>\n",
       "      <td>0.000000</td>\n",
       "      <td>0.000000</td>\n",
       "      <td>1.000000</td>\n",
       "      <td>0.0</td>\n",
       "      <td>0.0</td>\n",
       "      <td>0.000000</td>\n",
       "      <td>0.000000</td>\n",
       "      <td>0.0</td>\n",
       "      <td>0.0</td>\n",
       "      <td>0.0</td>\n",
       "      <td>0.0</td>\n",
       "      <td>0.0</td>\n",
       "      <td>0.0</td>\n",
       "      <td>0.0</td>\n",
       "      <td>0.0</td>\n",
       "      <td>0.0</td>\n",
       "      <td>0.0</td>\n",
       "      <td>0.000000</td>\n",
       "      <td>0.0</td>\n",
       "      <td>0.0</td>\n",
       "      <td>0.0</td>\n",
       "      <td>0.0</td>\n",
       "    </tr>\n",
       "  </tbody>\n",
       "</table>\n",
       "<p>9742 rows × 24 columns</p>\n",
       "</div>"
      ],
      "text/plain": [
       "                                             action  adventure  animation  \\\n",
       "title                                                                       \n",
       "Toy Story (1995)                           0.000000   0.416846   0.516225   \n",
       "Jumanji (1995)                             0.000000   0.512361   0.000000   \n",
       "Grumpier Old Men (1995)                    0.000000   0.000000   0.000000   \n",
       "Waiting to Exhale (1995)                   0.000000   0.000000   0.000000   \n",
       "Father of the Bride Part II (1995)         0.000000   0.000000   0.000000   \n",
       "...                                             ...        ...        ...   \n",
       "Black Butler: Book of the Atlantic (2017)  0.436010   0.000000   0.614603   \n",
       "No Game No Life: Zero (2017)               0.000000   0.000000   0.682937   \n",
       "Flint (2017)                               0.000000   0.000000   0.000000   \n",
       "Bungo Stray Dogs: Dead Apple (2018)        0.578606   0.000000   0.815607   \n",
       "Andrew Dice Clay: Dice Rules (1991)        0.000000   0.000000   0.000000   \n",
       "\n",
       "                                           children    comedy  crime  \\\n",
       "title                                                                  \n",
       "Toy Story (1995)                           0.504845  0.267586    0.0   \n",
       "Jumanji (1995)                             0.620525  0.000000    0.0   \n",
       "Grumpier Old Men (1995)                    0.000000  0.570915    0.0   \n",
       "Waiting to Exhale (1995)                   0.000000  0.505015    0.0   \n",
       "Father of the Bride Part II (1995)         0.000000  1.000000    0.0   \n",
       "...                                             ...       ...    ...   \n",
       "Black Butler: Book of the Atlantic (2017)  0.000000  0.318581    0.0   \n",
       "No Game No Life: Zero (2017)               0.000000  0.354002    0.0   \n",
       "Flint (2017)                               0.000000  0.000000    0.0   \n",
       "Bungo Stray Dogs: Dead Apple (2018)        0.000000  0.000000    0.0   \n",
       "Andrew Dice Clay: Dice Rules (1991)        0.000000  1.000000    0.0   \n",
       "\n",
       "                                           documentary     drama   fantasy  \\\n",
       "title                                                                        \n",
       "Toy Story (1995)                                   0.0  0.000000  0.482990   \n",
       "Jumanji (1995)                                     0.0  0.000000  0.593662   \n",
       "Grumpier Old Men (1995)                            0.0  0.000000  0.000000   \n",
       "Waiting to Exhale (1995)                           0.0  0.466405  0.000000   \n",
       "Father of the Bride Part II (1995)                 0.0  0.000000  0.000000   \n",
       "...                                                ...       ...       ...   \n",
       "Black Butler: Book of the Atlantic (2017)          0.0  0.000000  0.575034   \n",
       "No Game No Life: Zero (2017)                       0.0  0.000000  0.638968   \n",
       "Flint (2017)                                       0.0  1.000000  0.000000   \n",
       "Bungo Stray Dogs: Dead Apple (2018)                0.0  0.000000  0.000000   \n",
       "Andrew Dice Clay: Dice Rules (1991)                0.0  0.000000  0.000000   \n",
       "\n",
       "                                            fi  film  genres  horror  imax  \\\n",
       "title                                                                        \n",
       "Toy Story (1995)                           0.0   0.0     0.0     0.0   0.0   \n",
       "Jumanji (1995)                             0.0   0.0     0.0     0.0   0.0   \n",
       "Grumpier Old Men (1995)                    0.0   0.0     0.0     0.0   0.0   \n",
       "Waiting to Exhale (1995)                   0.0   0.0     0.0     0.0   0.0   \n",
       "Father of the Bride Part II (1995)         0.0   0.0     0.0     0.0   0.0   \n",
       "...                                        ...   ...     ...     ...   ...   \n",
       "Black Butler: Book of the Atlantic (2017)  0.0   0.0     0.0     0.0   0.0   \n",
       "No Game No Life: Zero (2017)               0.0   0.0     0.0     0.0   0.0   \n",
       "Flint (2017)                               0.0   0.0     0.0     0.0   0.0   \n",
       "Bungo Stray Dogs: Dead Apple (2018)        0.0   0.0     0.0     0.0   0.0   \n",
       "Andrew Dice Clay: Dice Rules (1991)        0.0   0.0     0.0     0.0   0.0   \n",
       "\n",
       "                                           listed  musical  mystery   no  \\\n",
       "title                                                                      \n",
       "Toy Story (1995)                              0.0      0.0      0.0  0.0   \n",
       "Jumanji (1995)                                0.0      0.0      0.0  0.0   \n",
       "Grumpier Old Men (1995)                       0.0      0.0      0.0  0.0   \n",
       "Waiting to Exhale (1995)                      0.0      0.0      0.0  0.0   \n",
       "Father of the Bride Part II (1995)            0.0      0.0      0.0  0.0   \n",
       "...                                           ...      ...      ...  ...   \n",
       "Black Butler: Book of the Atlantic (2017)     0.0      0.0      0.0  0.0   \n",
       "No Game No Life: Zero (2017)                  0.0      0.0      0.0  0.0   \n",
       "Flint (2017)                                  0.0      0.0      0.0  0.0   \n",
       "Bungo Stray Dogs: Dead Apple (2018)           0.0      0.0      0.0  0.0   \n",
       "Andrew Dice Clay: Dice Rules (1991)           0.0      0.0      0.0  0.0   \n",
       "\n",
       "                                           noir   romance  sci  thriller  war  \\\n",
       "title                                                                           \n",
       "Toy Story (1995)                            0.0  0.000000  0.0       0.0  0.0   \n",
       "Jumanji (1995)                              0.0  0.000000  0.0       0.0  0.0   \n",
       "Grumpier Old Men (1995)                     0.0  0.821009  0.0       0.0  0.0   \n",
       "Waiting to Exhale (1995)                    0.0  0.726241  0.0       0.0  0.0   \n",
       "Father of the Bride Part II (1995)          0.0  0.000000  0.0       0.0  0.0   \n",
       "...                                         ...       ...  ...       ...  ...   \n",
       "Black Butler: Book of the Atlantic (2017)   0.0  0.000000  0.0       0.0  0.0   \n",
       "No Game No Life: Zero (2017)                0.0  0.000000  0.0       0.0  0.0   \n",
       "Flint (2017)                                0.0  0.000000  0.0       0.0  0.0   \n",
       "Bungo Stray Dogs: Dead Apple (2018)         0.0  0.000000  0.0       0.0  0.0   \n",
       "Andrew Dice Clay: Dice Rules (1991)         0.0  0.000000  0.0       0.0  0.0   \n",
       "\n",
       "                                           western  \n",
       "title                                               \n",
       "Toy Story (1995)                               0.0  \n",
       "Jumanji (1995)                                 0.0  \n",
       "Grumpier Old Men (1995)                        0.0  \n",
       "Waiting to Exhale (1995)                       0.0  \n",
       "Father of the Bride Part II (1995)             0.0  \n",
       "...                                            ...  \n",
       "Black Butler: Book of the Atlantic (2017)      0.0  \n",
       "No Game No Life: Zero (2017)                   0.0  \n",
       "Flint (2017)                                   0.0  \n",
       "Bungo Stray Dogs: Dead Apple (2018)            0.0  \n",
       "Andrew Dice Clay: Dice Rules (1991)            0.0  \n",
       "\n",
       "[9742 rows x 24 columns]"
      ]
     },
     "execution_count": 61,
     "metadata": {},
     "output_type": "execute_result"
    }
   ],
   "source": [
    "from sklearn.feature_extraction.text import TfidfVectorizer\n",
    "\n",
    "vectorizer = TfidfVectorizer(max_df=0.7, min_df=2)\n",
    "\n",
    "# Use the 'words' column as the input to the vectorizer\n",
    "X = vectorizer.fit_transform(df_new['genres'])\n",
    "\n",
    "# View the resulting matrix\n",
    "df_attributes = pd.DataFrame(X.toarray(),columns=vectorizer.get_feature_names_out(),index=df_new.index)\n",
    "\n",
    "df_attributes"
   ]
  },
  {
   "cell_type": "markdown",
   "id": "054459fc-f47d-41a6-8e5f-71d1099e85d7",
   "metadata": {
    "execution": {
     "iopub.execute_input": "2023-01-06T19:22:09.163454Z",
     "iopub.status.busy": "2023-01-06T19:22:09.163454Z",
     "iopub.status.idle": "2023-01-06T19:22:09.166455Z",
     "shell.execute_reply": "2023-01-06T19:22:09.166455Z",
     "shell.execute_reply.started": "2023-01-06T19:22:09.163454Z"
    },
    "tags": []
   },
   "source": [
    "### Calculating Simillarity for Attributes"
   ]
  },
  {
   "cell_type": "markdown",
   "id": "f0f7070a-070c-4685-90af-c4e537a6d3cc",
   "metadata": {},
   "source": [
    "#### Simple Between two items"
   ]
  },
  {
   "cell_type": "code",
   "execution_count": null,
   "id": "a872c15b-69cb-43bb-8afc-2fc39d50b0d4",
   "metadata": {
    "execution": {
     "iopub.status.busy": "2023-03-10T23:43:26.610707Z",
     "iopub.status.idle": "2023-03-10T23:43:26.611708Z",
     "shell.execute_reply": "2023-03-10T23:43:26.611708Z",
     "shell.execute_reply.started": "2023-03-10T23:43:26.610707Z"
    },
    "tags": []
   },
   "outputs": [],
   "source": [
    "from sklearn.metrics import jaccard_score"
   ]
  },
  {
   "cell_type": "code",
   "execution_count": null,
   "id": "06a8e605-76c7-481d-a0de-e23aea0e6fc8",
   "metadata": {
    "execution": {
     "iopub.status.busy": "2023-03-10T23:43:26.612707Z",
     "iopub.status.idle": "2023-03-10T23:43:26.612707Z",
     "shell.execute_reply": "2023-03-10T23:43:26.612707Z",
     "shell.execute_reply.started": "2023-03-10T23:43:26.612707Z"
    },
    "tags": []
   },
   "outputs": [],
   "source": [
    "df_attributes[df_attributes.index=='Toy Story (1995)']"
   ]
  },
  {
   "cell_type": "code",
   "execution_count": null,
   "id": "ff817f33-1d83-4ee3-b211-d0f066f53a2b",
   "metadata": {
    "execution": {
     "iopub.status.busy": "2023-03-10T23:43:26.613708Z",
     "iopub.status.idle": "2023-03-10T23:43:26.613708Z",
     "shell.execute_reply": "2023-03-10T23:43:26.613708Z",
     "shell.execute_reply.started": "2023-03-10T23:43:26.613708Z"
    },
    "tags": []
   },
   "outputs": [],
   "source": [
    "df_attributes[df_attributes.index=='Jumanji (1995)']"
   ]
  },
  {
   "cell_type": "code",
   "execution_count": null,
   "id": "fc998fa7-1f98-4734-97ee-30cf58b3f614",
   "metadata": {
    "execution": {
     "iopub.status.busy": "2023-03-10T23:43:26.614708Z",
     "iopub.status.idle": "2023-03-10T23:43:26.615707Z",
     "shell.execute_reply": "2023-03-10T23:43:26.615707Z",
     "shell.execute_reply.started": "2023-03-10T23:43:26.615707Z"
    },
    "tags": []
   },
   "outputs": [],
   "source": [
    "#### Os dados precisam estar verticalmente apresentados, pois se não não calcula por isso o T\n",
    "\n",
    "jaccard_score(df_attributes[df_attributes.index=='Toy Story (1995)'].T,df_attributes[df_attributes.index=='Jumanji (1995)'].T)"
   ]
  },
  {
   "cell_type": "markdown",
   "id": "77b27a49-ec3a-4478-bf89-7bca971fe571",
   "metadata": {
    "execution": {
     "iopub.execute_input": "2023-01-06T19:30:40.452090Z",
     "iopub.status.busy": "2023-01-06T19:30:40.452090Z",
     "iopub.status.idle": "2023-01-06T19:30:40.456941Z",
     "shell.execute_reply": "2023-01-06T19:30:40.456941Z",
     "shell.execute_reply.started": "2023-01-06T19:30:40.452090Z"
    },
    "tags": []
   },
   "source": [
    "#### Calculate all items ( Usual )"
   ]
  },
  {
   "cell_type": "code",
   "execution_count": null,
   "id": "387e7766-9167-4866-9f88-089d0ff48f4b",
   "metadata": {
    "execution": {
     "iopub.status.busy": "2023-03-10T23:43:26.616708Z",
     "iopub.status.idle": "2023-03-10T23:43:26.616708Z",
     "shell.execute_reply": "2023-03-10T23:43:26.616708Z",
     "shell.execute_reply.started": "2023-03-10T23:43:26.616708Z"
    },
    "tags": []
   },
   "outputs": [],
   "source": [
    "from scipy.spatial.distance import pdist, squareform"
   ]
  },
  {
   "cell_type": "code",
   "execution_count": null,
   "id": "9c3211be-62b2-4118-af01-706c574f63d4",
   "metadata": {
    "execution": {
     "iopub.status.busy": "2023-03-10T23:43:26.617708Z",
     "iopub.status.idle": "2023-03-10T23:43:26.618709Z",
     "shell.execute_reply": "2023-03-10T23:43:26.617708Z",
     "shell.execute_reply.started": "2023-03-10T23:43:26.617708Z"
    },
    "tags": []
   },
   "outputs": [],
   "source": [
    "jaccard_dists = pdist(df_attributes.values, metric = 'jaccard') # Calculate alll distances and put in 1-D array\n",
    "print(jaccard_dists)\n",
    "\n",
    "sqrt_jaccard_dists = squareform(jaccard_dists)\n",
    "print(sqrt_jaccard_dists)"
   ]
  },
  {
   "cell_type": "code",
   "execution_count": null,
   "id": "9c818a8a-1b28-4f78-a42e-10aef2cdadc3",
   "metadata": {
    "execution": {
     "iopub.status.busy": "2023-03-10T23:43:26.618709Z",
     "iopub.status.idle": "2023-03-10T23:43:26.619709Z",
     "shell.execute_reply": "2023-03-10T23:43:26.619709Z",
     "shell.execute_reply.started": "2023-03-10T23:43:26.619709Z"
    },
    "tags": []
   },
   "outputs": [],
   "source": [
    "# Apenas uma forma diferente de visualizar 1-sqrt_jaccard_dists -- > quão similares eles são [ 0 - Diferente e 1 - Muito similar ]\n",
    "\n",
    "jaccard_simillarity = 1-sqrt_jaccard_dists\n",
    "\n",
    "jaccard_simillarity"
   ]
  },
  {
   "cell_type": "code",
   "execution_count": null,
   "id": "e30835a1-1c5e-4669-b157-eb746da40933",
   "metadata": {
    "execution": {
     "iopub.status.busy": "2023-03-10T23:43:26.620709Z",
     "iopub.status.idle": "2023-03-10T23:43:26.620709Z",
     "shell.execute_reply": "2023-03-10T23:43:26.620709Z",
     "shell.execute_reply.started": "2023-03-10T23:43:26.620709Z"
    },
    "tags": []
   },
   "outputs": [],
   "source": [
    "df_attributes.index"
   ]
  },
  {
   "cell_type": "code",
   "execution_count": null,
   "id": "caf66496-1551-4b76-ac64-5c4f41fc5c0b",
   "metadata": {
    "execution": {
     "iopub.status.busy": "2023-03-10T23:43:26.621709Z",
     "iopub.status.idle": "2023-03-10T23:43:26.621709Z",
     "shell.execute_reply": "2023-03-10T23:43:26.621709Z",
     "shell.execute_reply.started": "2023-03-10T23:43:26.621709Z"
    },
    "tags": []
   },
   "outputs": [],
   "source": [
    "similarity_matrix = pd.DataFrame(jaccard_simillarity, index = df_attributes.index,columns=df_attributes.index)\n",
    "similarity_matrix"
   ]
  },
  {
   "cell_type": "code",
   "execution_count": null,
   "id": "2e8265eb-6475-4ca0-842b-e2c98826c9d6",
   "metadata": {
    "execution": {
     "iopub.status.busy": "2023-03-10T23:43:26.622709Z",
     "iopub.status.idle": "2023-03-10T23:43:26.623709Z",
     "shell.execute_reply": "2023-03-10T23:43:26.622709Z",
     "shell.execute_reply.started": "2023-03-10T23:43:26.622709Z"
    },
    "tags": []
   },
   "outputs": [],
   "source": [
    "similarity_matrix['Toy Story (1995)']['Jumanji (1995)']"
   ]
  },
  {
   "cell_type": "markdown",
   "id": "c623550f-5a4f-457c-ab4c-b8f998242118",
   "metadata": {},
   "source": [
    "#### Example use case:"
   ]
  },
  {
   "cell_type": "code",
   "execution_count": null,
   "id": "f26e12cb-fe02-4b93-af5d-5c9f626a3397",
   "metadata": {
    "execution": {
     "iopub.status.busy": "2023-03-10T23:43:26.623709Z",
     "iopub.status.idle": "2023-03-10T23:43:26.624709Z",
     "shell.execute_reply": "2023-03-10T23:43:26.624709Z",
     "shell.execute_reply.started": "2023-03-10T23:43:26.624709Z"
    }
   },
   "outputs": [],
   "source": [
    "filme_assistido = \"Toy Story (1995)\""
   ]
  },
  {
   "cell_type": "code",
   "execution_count": null,
   "id": "4c62f37a-bbc1-44b1-92d9-d2a452b5e7c2",
   "metadata": {
    "execution": {
     "iopub.status.busy": "2023-03-10T23:43:26.625710Z",
     "iopub.status.idle": "2023-03-10T23:43:26.626710Z",
     "shell.execute_reply": "2023-03-10T23:43:26.626710Z",
     "shell.execute_reply.started": "2023-03-10T23:43:26.625710Z"
    },
    "tags": []
   },
   "outputs": [],
   "source": [
    "similarity_matrix['Toy Story (1995)'].sort_values(ascending=False).head(20)"
   ]
  },
  {
   "cell_type": "markdown",
   "id": "bc016931-d0f4-4486-b4ea-c70f2a7046ff",
   "metadata": {},
   "source": [
    "### Calculating Simillarity for Text "
   ]
  },
  {
   "cell_type": "code",
   "execution_count": null,
   "id": "ad161699-302c-42fa-a4e8-942d3bc23a83",
   "metadata": {
    "execution": {
     "iopub.status.busy": "2023-03-10T23:43:26.626710Z",
     "iopub.status.idle": "2023-03-10T23:43:26.627710Z",
     "shell.execute_reply": "2023-03-10T23:43:26.627710Z",
     "shell.execute_reply.started": "2023-03-10T23:43:26.627710Z"
    },
    "tags": []
   },
   "outputs": [],
   "source": [
    "from sklearn.feature_extraction.text import TfidfVectorizer"
   ]
  },
  {
   "cell_type": "code",
   "execution_count": null,
   "id": "24e910d9-ef1e-44e9-b2a4-3ba6f555b645",
   "metadata": {
    "execution": {
     "iopub.status.busy": "2023-03-10T23:43:26.628712Z",
     "iopub.status.idle": "2023-03-10T23:43:26.628712Z",
     "shell.execute_reply": "2023-03-10T23:43:26.628712Z",
     "shell.execute_reply.started": "2023-03-10T23:43:26.628712Z"
    },
    "tags": []
   },
   "outputs": [],
   "source": [
    "df = pd.DataFrame(\n",
    "{'Title': {0: 'Ace Ventura: When Nature Calls',\n",
    "  1: 'Dracula: Dead and Loving It',\n",
    "  2: 'Father of the Bride Part II',\n",
    "  3: 'Four Rooms',\n",
    "  4: 'Grumpier Old Men',\n",
    "  5: 'Jumanji',\n",
    "  6: 'Sudden Death',\n",
    "  7: 'Tom and Huck',\n",
    "  8: 'Toy Story',\n",
    "  9: 'Waiting to Exhale',\n",
    "  10: 'GoldenEye',\n",
    "  11: 'Skyfall'},\n",
    " 'Plot': {0: 'In the Himalayas, after a failed rescue mission results in a raccoon falling to its death (a parody of Cliffhanger), Ace Ventura undergoes an emotional breakdown and joins a Tibetan monastery. Once he has recovered, he is approached by Fulton Greenwall, a British correspondent working for a provincial consulate in the fictional African country of Nibia. Because Ace\\'s presence is troublesome to the monastery, the Grand Abbot gives Ace excuses to justify his departure, and sends him off with Greenwall.\\r\\nThereafter, Greenwall takes Ventura to Africa, and warns him about the hostility of gorillas as it is mating season. Greenwald then asks Ventura to find the Great White bat \\'Shikaka\\', a sacred animal of the Wachati tribe, which disappeared shortly after being offered as dowry of the Wachati Princess, who is set to wed the Wachootoo Prince to form armistice and peace between the two people. After arriving in Nibia and meeting with consul Vincent Cadby, Ace begins investigating his case, but must overcome his intense fear of bats in order to succeed.\\r\\nAccompanied by his capuchin monkey, Spike, Ace travels to Africa to search for the missing bat. He eventually befriends the tribe\\'s princess, who tries to seduce Ace. However, Ace admits his oath to celibacy, but quietly masturbates in a hut afterwards. Ace then befriends the tribal prince, Ouda, who assists Ace throughout the film. Thereafter much of Ace\\'s activity involves eliminating obvious suspects—animal traders, poachers, and a Safari park owner among others—and enduring the growing escalations of threat between the Wachati and the Wachootoo. After being attacked with drugged blow-darts, Ace suspects the medicine-man of the Wachootoo of taking the bat, as he strongly disapproves of the wedding. He travels to the Wachootoo tribal village, with Ouda translating the chief\\'s words, rather poorly. The Wachootoo mistake Ace as the \"White Devil\", and have him go through many dangerous and humiliating challenges to gain their trust. He eventually does when his pain makes the chief, entire tribe, and even Ouda laugh for the first time in years. Despite this, if the bat is not returned in time, the Wachootoo will declare war on the Wachati tribe. As a last joke, Ace is shot in the butt by a non-drugged blow-dart by the Chief. As he and Ouda walk back to the village, Ace realizes the dart he was shot with earlier in the film is not the same as the one he was just shot with—meaning the Wachootoo didn\\'t take Shikaka.\\r\\nConfused by the case, Ace consults the Grand Abbot via astral projection. Advised by the Abbot, Ace deduces that Vincent Cadby has taken the bat and hired Ace to divert suspicion from himself, having planned to let the tribes destroy each other so that he can then take possession of the numerous bat caves containing guano to sell as fertilizer worth billions. When Ace confronts Cadby with this knowledge, Ace learns he was hired as Cadby\\'s alibi, and he is arrested by tribal security chief, Hitu. Shortly after, Ace calls an elephant to escape, and summons herds of jungle animals to destroy Cadby\\'s house. Cadby then tries to shoot Ace, but is defeated by Greenwall who punches him in the face. Cadby escapes with the bat in a car, but Ace follows him in a monster truck. In pursuit, Ace destroys Cadby\\'s car, leaving the bat cage lodged in a tree.\\r\\nAce, despite his chronic fear of bats, bravely yet dramatically returns the bat just as the tribes are about to meet on the battlefield, until they notice the bat and kneel before it. Cadby is watching nearby, but is discovered by Ouda. Ouda then calls him the \"White Devil\" to give Ace more time, and Cadby is pursued by both tribes. After escaping, he encounters a female gorilla that mistakes him for a mate and is subsequently raped. The Princess is married to the Prince, who is revealed to be the man who humilited Ace during one of the Wachootoo tribal challenges earlier. Moments later, it is discovered that the young bride is no longer a virgin, apparently on Ace\\'s account. Despite this, peace between the once-separate tribes is achieved, by having everyone joining together and furiously chasing after Ace. Ace runs through the jungle fearfully, concluding the movie.',\n",
    "  1: 'Solicitor Thomas Renfield travels all the way from London to \"Castle Dracula\" in Transylvania to finalize Count Dracula\\'s purchase of Carfax Abbey in England. As the stagecoach driver refuses to take him any further, Renfield continues on foot.\\r\\nRenfield meets Count Dracula, a charming but rather strange man who is a vampire. He then casts a hypnotic spell on the highly suggestible Renfield, making him his slave. Dracula and Renfield soon embark for England. During the voyage, Dracula dines upon the ship\\'s crew. When the ship arrives and Renfield, (by this time raving mad in the style of Dwight Frye), is discovered alone on the ship, he is confined to a lunatic asylum.\\r\\nMeanwhile, Dracula visits an opera house, where he introduces himself to his new neighbors: Doctor Seward, (the lunatic asylum\\'s administrator and head psychiatrist, who is obsessed with prescribing his patients enemas), Mina (Seward\\'s nubile daughter), Jonathan Harker (Seward\\'s assistant and Mina\\'s fiance), and Lucy (Seward\\'s equally nubile ward). Dracula flirts with Lucy and, later that night, enters her bedroom and feeds on her blood.\\r\\nMina discovers Lucy still in bed late in the morning, looking strangely pale. Seward, puzzled by the odd puncture marks on her throat, calls in an expert on obscure diseases, Dr. Abraham Van Helsing. Van Helsing informs the skeptical Dr. Seward that Lucy has been attacked by a vampire. After some hesitation, Seward and Harker allow garlic to be placed in Lucy\\'s bedroom to repel the vampire. After a failed attempt by Renfield to remove the garlic, Dracula uses mind-control to make Lucy leave her room, and kills her. Despite Van Helsing\\'s warnings, Seward refuses to believe him.\\r\\nVan Helsing meets Dracula and begins to suspect him of being the local vampire after the two trade words, phrases and insults in Moldavian, each attempting to have the last word in the foreign language \\'discussion\\'. Lucy, now a vampire herself, rises from her crypt, drains the blood from her guard, and tries to attack and seduce Harker, who had come to watch over her grave to be sure if Van Helsing was indeed right.\\r\\nDracula\\'s next victim is Mina, but he has bigger plans for her; he wants her to be his undead bride throughout eternity. He spirits her away to Carfax Abbey, where they dance, and he sucks her blood. The following morning, she is unusually frisky, and tries to seduce the prudish Jonathan. Dr Seward mistakenly assumes Jonathan to be seducing Mina and orders him to leave. However, Van Helsing becomes suspicious at this strange behavior. Noticing a scarf around Mina\\'s neck, he removes it, revealing two puncture marks. Though she lies about how she got them, Van Hesling confirms she has been attacked by a vampire by placing a cross on her hand, which burns a mark into it.\\r\\nVan Helsing devises a plan to reveal the vampire\\'s secret identity. Both Dracula and Renfield are invited to a ball, where Van Helsing has placed a huge mirror, covered with a curtain, on one of the walls. While Dracula and Mina perform an excellent dance routine the curtain over the mirror is dropped, and guests are stunned to see that Dracula has no reflection. Dracula grabs Mina and escapes out of a window.\\r\\nVan Helsing deduces that Renfield is Dracula\\'s slave, and thus might know where he has taken his coffin after a search of Carfax turns up empty. He locks himself in a room to finish making Mina his bride. His pursuers break down the door, and they fight. Van Helsing, noticing sunlight creeping into the room, starts opening the blinds. As his body begins to burn, Dracula then attempts to flee, but is inadvertently killed by Renfield.\\r\\nWith Dracula dead, Renfield falls into despair with no master to serve and scrapes Dracula\\'s ashes into the coffin. Seward tells him \"You are free, now\", and he realizes this to be true with Dracula gone, and seems relieved. But the instant Dr. Seward calls for Renfield to follow him out of the church, he follows with \"Yes, Master\". Van Helsing dusts himself off, opens Dracula\\'s coffin and yells something in Moldavian to ensure that he has the final word between himself and the count. However after the end credits roll, Dracula responds in Moldavian despite being dead, giving him the \\'true\\' final word.',\n",
    "  2: \"The film begins five years after the events of the first one, with George Banks telling the audience he is ready for the empty nest he'll shortly receive with all of his children grown up. Shortly thereafter, Annie tells the family that she's pregnant, and George begins to mildly panic, insisting he is too young to be a grandfather. He has his assistant make a list of people who are younger than him, dyes his hair brown, and decides he and Nina should sell the home their children have grown up in if one more thing goes wrong with it.\\r\\nTermites strike the house two weeks later. George puts the house on the market without telling Nina, and sells it to the Habibs. At dinner, after a discussion on whether the baby's last name will be hyphenated or not, George reveals the house has been sold. Nina is livid, as she and George have to be out in 10 days and have no place to go. On moving day George and Annie play a game of basketball one last time (what they always did for father and daughter bonding since Annie was a small child). Having no place to go, the Banks stay at the MacKenzies' (Annie's husband Bryan's parents) mansion. The MacKenzies are on vacation in Hawaii, so the Banks have to deal with their vicious Dobermans, much to George's chagrin (still obviously paranoid from a previous mishap with them).\\r\\nAfter a late night between George and Nina, she begins experiencing symptoms that bring up the concern of menopause. After visiting the doctor the following day, they are given the opposite news: Nina is pregnant, too. Not long after, they have a chance meeting with Franck, Annie's wedding planner, who is elated at both Banks women expecting. George switches gears; now believing he is too old to be a father again. His feelings come to a head when he and Nina go to Annie and Brian's house to announce their news. Nina brings his insensitivity to light and tells him not to come home.\\r\\nAs an apology, George reluctantly hires Franck and his assistant Howard to do the baby shower.\\r\\nAs they are driving home, Nina and George have differing perspectives on the prospect of becoming new parents again. Both express how strange it will be, but begin to welcome the change.\\r\\nOne day when George is out, he notices that the street to their old house is blocked off and sees a demolition crew with a wrecking ball at the house and learns that Mr. Habib plans to demolish it. An upset George runs in and tries to stop them, as the wrecking ball is about to slam into the house. He pleads with Mr. Habib not to tear down the house since he is going to be a father again, as there is great sentimental value to it. He realizes that if he's going to have another child, he wants to raise him/her in the house his family grew up in. When George offers to buy the house back, Habib agrees on the condition that George pay him $100,000 up front. Although reluctant to pay that money, he gives in when Mr Habib is about to send in the wrecking ball. The Banks then move back into their house, right as Bryan is called away to an emergency meeting in Japan.\\r\\nMeanwhile, Nina and Annie are moving along in their simultaneous pregnancies and need around the clock care from George. Matty takes over when his father George is away at work. Franck turns simple redecoration of Nina and George's new baby's nursery into a full-scale renovation/addition, which he affectionately calls, 'the baby's suite'. Eventually, all the stress and nights of sleep deprivation around Nina and Annie's constant care, and a few times where Annie thought she was going into labor, wear George out. When 'the baby's suite' is revealed, Franck offers George some sleeping pills from his native country called 'Vatsnik ' after George tells him that he has not been getting enough sleep. George unknowingly takes too high of a dosage and suddenly passes out during dinner. The family becomes worried, which is only increased when Annie finally goes into labor.\\r\\nFranck takes over the role of driving the family to the hospital with a barely coherent George in tow. After being mistaken for a patient in need of a prostate exam, George finally regains full consciousness and goes to see Nina and Annie when Nina goes into labor. George is initially cynical about Dr. Eisenberg, a young female obstetrician, who fills in because the intended physician had to tend to his child who had fractured her arm during camp in Maine. Despite wanting his grandchild to be delivered by the same doctor who delivered his children, George comes to terms with the arrangement. Bryan soon returns to be with Annie, who gives birth to a baby boy, while Nina gives birth to a baby girl, named George and Megan respectively. George finishes telling the story about Nina and Annie's pregnancy. Bryan and Annie then move to Boston, since Annie took a job there. The film concludes with George standing on the road in front of his house, admiring it with the baby by his side. As he completes the story, he beings walking up the driveway, telling the new baby about all the basketball tricks George will teach her.\",\n",
    "  3: 'The film is set on New Year\\'s Eve, and starts with Sam (Marc Lawrence), the previous bellhop of the Hotel Mon Signor, briefing his replacement, Ted (Tim Roth), about the job.\\r\\nThe film\\'s animated opening credits are inspired by the cartoons of The Pink Panther Show, and feature the scat song \"Vertigogo\" by Combustible Edsion.\\r\\nTed assists a number of unusual women with their luggage, which he takes up to the Honeymoon Suite. He learns they are a coven of witches, attempting to create a potion to reverse a spell cast on their goddess, Diana (Amanda De Cadenet) 40 years ago. In order to create it, they each must place an ingredient into a large cauldron in a ritual. However, one (Ione Skye) has still to retrieve her ingredient - semen - which she is told she must retrieve in one hour. She manages to seduce an initially reluctant Ted and has sex with him in the cauldron. After he leaves, they complete the ritual and Diana is seen emerging from the cauldron.\\r\\nAt the end of the segment, a guest from a hotel room party (Lawrence Bender) calls Ted at the front desk to get some ice. He is unsure about which floor the room is on, but eventually directs Ted to Room 404.\\r\\nUpon arriving at Room 404, Ted finds himself in the middle of a fantasy hostage situation between a husband and wife. Sigfried (David Proval), the husband, maniacally accuses Ted (whom he calls Theodore) of having slept with his wife, Angela (Jennifer Beals). At gunpoint, Ted is made to participate in the scenario, with uncertainty about what is real and part of the fantasy. At one point, he is stuck in the bathroom window and the party guest from the beginning of the segment appears in the one above, uttering the word \"ice\" and vomiting. Eventually, Ted escapes just as a different party guest (Paul Skemp) appears, looking for Room 404 and is greeted by Sigfried in the same manner as Ted at the beginning of the segment.\\r\\nIt is not fully clear if these events take place in Room 404 or 409. The party guests\\' room is on the above floor, which suggests Sigfried\\'s room is indeed Room 404. Adding to this uncertainty, the door reads \"40-\", with a faint outline of what appears to be a missing \"4\" or \"9\". However, Sigfried answers the phone at one point, which is later revealed to be a call connecting to Room 409.\\r\\nA husband (Antonio Banderas) and wife (Tamlyn Tomita) go out to a New Year\\'s Eve party and leave their two children, Sarah and Juancho (Lana McKissack and Danny Verduzco), in the hotel. Ted is paid $500 to keep an eye on them by their stern father, who orders them not to misbehave. As Ted is responsible for the entire hotel he can\\'t actually stay in the room with them, but instead instructs them to do so and watch television. After he leaves, they soon begin to squabble and proceed to both explore and vandalize the room, and manage to explode a bottle of champagne in the process. They call Ted for toothbrushes, at which point he arrives and attempts unsuccessfully to put them to bed by putting ointment on their eyelids. After they wash them and summon him back once more, he arrives at a scene of mass chaos: a painting in the room, which they use to play darts with a syringe, has a target scribbled on it with lipstick, Juancho has a cigarette in his mouth, Sarah has a bottle of liquor in her hand, the television is set to an adult channel, and they have found the corpse of a dead prostitute (Patricia Vonne) stuffed in the box spring. While Ted tries to quell the chaos, Sarah stabs him in the leg with the syringe when he repeatedly uses the word \"whore\" and Juancho accidentally sets the room on fire with his cigarette. At this point, their father arrives, carrying his passed-out wife, and, looking around the room, asks Ted, \"Did they misbehave?\"\\r\\nAfter the events of Room 309, an unsettled Ted calls his boss, Betty (Kathy Griffin), to quit. After a prolonged conversation with Margaret (Marisa Tomei), he gets Betty on the phone and quits, but a call from the penthouse comes in. Betty reasons with him and convinces him to tend to their needs, due to the importance of continued Hollywood business to the hotel.\\r\\nThe penthouse is currently being occupied by the famous director Chester Rush (Tarantino) and a group of his friends, which includes Angela from The Wrong Man. The party requests a block of wood, a doughnut, a ball of twine, three nails, a club sandwich, a bucket of ice, and an extremely sharp hatchet (Rush specifically requests a hatchet \"as sharp as the Devil himself\"). After getting acquainted with Chester and his friends, Ted is asked to take part in a challenge: Chester\\'s friend, Norman (Paul Calderón), has bet he can light his Zippo cigarette lighter ten times in a row. If he succeeds, Norman will win Chester\\'s car, but if he fails, Norman\\'s pinky will be cut off. Ted is asked to \"wield the hatchet\" and cut off Norman\\'s pinky, should he fail. He initially tries to leave, but Chester persuades him to stay by offering $100 up front and another $1,000 if he performs his assigned role. Norman\\'s lighter fails on the first try, and Ted chops off his pinky, sweeps up all the money, and leaves the penthouse with an energetic step. While the credits are rolling, Chester and company are seen frantically getting ready to take a screaming, agonized Norman to the hospital.',\n",
    "  4: 'The feud between Max (Walter Matthau) and John (Jack Lemmon) has cooled and both of them patch things up, and their children, Melanie (Daryl Hannah) and Jacob (Kevin Pollak), have become engaged. Meanwhile, John is enjoying his marriage to new wife Ariel (Ann-Margret).\\r\\nThe spring and summer fishing season is in full swing with the annual quest to catch \"Catfish Hunter,\" a rather large catfish. However, the local bait shop closed after Chuck, the previous owner died, and Maria Ragetti (Sophia Loren) has purchased the property with the intent of converting it into a fancy Italian restaurant.\\r\\nIrritated it will no longer be a bait shop, Max and John join forces to sabotage the restaurant. They are successful at first with their practical jokes. However, when Ariel learns what is going on, she tells John to apologize to Maria at once. He eventually does, but falls asleep at the restaurant after drinking grappa. Max and Maria begin dating due to their shared passion in fishing, while her mother Francesca (Ann Morgan Guilbert) dates John\\'s father (Burgess Meredith).\\r\\nTo complicate things further, Jacob and Melanie call off their engagement due to stress from their parents\\' involvement. Upon hearing the news, John and Max reignite their feud. Ariel is stressed out because of it and leaves John.\\r\\nAt the restaurant, Francesca is worried about all the time Maria spends with Max. She reminds her daughter of her five failed marriages and worries that Max will make it six. After being convinced to take a long look at herself, Maria reluctantly stops seeing him.\\r\\nDistraught over losing Ariel, John heads to the lake for his father\\'s advice, but finds him dead. Following the funeral, John and Max call off their feud again and John and Ariel reconcile. After realizing that their own inability to properly plan a wedding is what drove their kids to call it off, they decide to set it right. They help Jacob and Melanie reconcile (the couple later elopes), and manage to catch \"Catfish Hunter\" and release it, then clarify their own drama. Max marries Maria, and on the way to their honeymoon, discover Max\\'s one-eyed bulldog, Lucky, in the car with them. Ragetti\\'s is reformed so it will also be a bait shop.',\n",
    "  5: 'In 1869, near Brantford, New Hampshire, two brothers bury a chest and hope that no one will ever find it.\\r\\nA century later in 1969, Alan Parrish escapes a gang of bullies led by Billy Jessup and retreats to a shoe factory owned by his father, Sam. He meets Carl Bentley, an employee, who reveals a new shoe prototype he made by himself. Alan misplaces the shoe and damages a machine, but Carl takes responsibility and loses his job. After being attacked by Jessup\\'s group, who also steal his bicycle, Alan follows the sound of tribal drumbeats to a construction site. He finds the chest containing a board game called \"Jumanji\" and brings it home.\\r\\nAt home, after an argument with Sam about attending a boarding school, Alan plans to run away. Sarah Whittle, his friend, arrives to return his bicycle, and Alan shows her Jumanji and invites her to play. With each roll of the dice, the game piece moves by itself and a cryptic message describing the roll\\'s outcome appears in the crystal ball at the center of the board. Sarah reads the first message on the board and hears an eerie sound. Alan then unintentionally rolls the dice after being startled by the chiming clock; a message tells him to wait in a jungle until someone rolls a 5 or 8. Alan is sucked into the game, and a colony of bats chases Sarah out of the mansion.\\r\\nTwenty-six years later in 1995, Judy and Peter Shepherd move into the vacant Parrish mansion with their aunt Nora, after their parents died in an accident on a ski trip in Canada, the winter before. Soon after, Judy and Peter find Jumanji in the attic and begin playing it. Their rolls release a swarm of big mosquitoes and a troop of monkeys. The game rules state that everything will be restored when the game ends, so they continue playing. Peter\\'s next roll releases a lion and an adult Alan. As Alan makes his way out, he meets Carl, who is now working as a police officer. Alan, Judy and Peter go to the now closed shoe factory, where a derelict tells Alan that after his disappearance, Sam abandoned the business and searched for Alan, until his death just four years earlier.\\r\\nRealizing they need Sarah to finish the game, the three locate her, now suffering posttraumatic stress disorder after Alan\\'s disappearance, and they persuade her to join them. Sarah\\'s roll releases fast-growing carnivorous plants, and Alan\\'s next roll releases a big-game hunter, Van Pelt. Judy\\'s next roll releases a stampede of various animals, and a pelican steals the game. Peter retrieves it, but Alan is arrested by Carl. Later, Van Pelt catches up to Alan\\'s friends and steals the game. Peter, Sarah, and Judy follow Van Pelt to a department store, where they fight him, retrieve the game, and reunite with Alan. When the four return to the mansion, it is now completely overrun by jungle wildlife. They release numerous calamities, until Van Pelt arrives. When Alan drops the dice, he wins the game which causes everything that happened as a result of the game to be reversed.\\r\\nAlan and Sarah return to 1969 as children, but have full memories of the future events. Alan reconciles with his father and admits that he was responsible for the shoe that damaged the factory\\'s machine. Carl is rehired, and Sam tells his son that he does not have to attend boarding school. Alan and Sarah throw Jumanji into a river, and then share a kiss.\\r\\nTwenty-five years later, Alan and Sarah are married and expecting their first child. Alan runs the factory after his parents retired (but are still alive). He and Sarah reunite with Judy and Peter (who have no memories of the game), and meet their parents Jim and Martha during a Christmas party. The Parrishes offer Jim a job and convinces the Shepherds to cancel their upcoming ski trip, averting their deaths, before they strike up a friendship with them.\\r\\nOn a beach, two young girls speaking French hear drumbeats while walking, as Jumanji lies partially buried in the sand.',\n",
    "  6: \"Darren McCord (Jean-Claude Van Damme) is a French Canadian-born firefighter with the Pittsburgh Fire Bureau who suffered a personal crisis after he was unable to save a young girl from a house fire. Now removed from active duty, Darren has become demoted to being fire marshal for the Pittsburgh Civic Arena.\\r\\nWhile attending Game 7 of the Stanley Cup Finals between the Pittsburgh Penguins and the Chicago Blackhawks with his daughter Emily (Whittni Wright) and his son Tyler (Ross Malinger), he discovers a crime operation occurring in the arena. Soon a gang of terrorists led by former US government employee and fired CIA operative Joshua Foss (Powers Boothe) is holding U.S. Vice President Daniel Binder (Raymond J. Barry) and several other VIPs hostage in a luxury suite.\\r\\nFoss has the arena wired with explosives, and plans to blow it up at the end of the game while having hundreds of millions of dollars wired into several off shore accounts. Darren must not just stop Foss, but somehow send the game into overtime and rescue both his son and daughter simultaneously.\\r\\nDarren is pulled into the plot when Emily is kidnapped by Carla, the sole female member of the terrorists dressed as the mascot Iceburgh. Carla places Emily in the suite with the other hostages about to be executed. Darren heads up to the executive offices and finds a mobile phone, with which he gets in touch with Secret Service Agent Matthew Hallmark (Dorian Harewood), who advises Darren to stand by while the agents take charge. He angrily refuses, saying that he will handle this himself.\\r\\nThe Secret Service and the Pittsburgh Police team up to surround the arena and a standoff ensues. Meanwhile, Darren manages to find a few of the bombs and disarm them, whilst Foss goes about killing several hostages after the 2nd period ends. Agent Hallmark finally makes his way inside and meets with Darren, who explains where the rest of the bombs are most likely located. It is then revealed that Hallmark is in league with Foss, and tries to kidnap Tyler, but fails. Hallmark then reveals his true self to Darren, and Darren burns him alive. Darren then uses Hallmark's phone to contact Foss, who taunts him with the news that he is holding his daughter captive.\\r\\nAs time quickly ticks down, Darren manages to disable more bombs, but is severely slowed by confrontations with Foss's men. At one point, the fire marshal must pretend to be the Pittsburgh goalie to escape the thugs and ends up successfully defending a shot. The third period runs down, and with the Penguins down by one goal, Luc Robitaille scores the equalizer in the last second, bringing the game to sudden death and prolonging the game, but only until the next goal is scored. Darren decides that there's no time left to find the remaining bombs and climbs up to the roof of the Civic Arena. He advances upon the owner's box from above and forces his way in, rescuing Emily and the remaining hostages.\\r\\nMeanwhile, Foss manages to escape and blend in with the chaos that has ensued by one of Foss's henchmen falling from the roof through the score display and blowing it up. Foss sets off one of the bombs, flooding part of the arena, and recaptures Emily when she recognizes him. They head up towards the top of the arena, where a helicopter is waiting to lift Foss away. Darren intervenes and saves his daughter. Foss flees, and a wounded Darren shoots the pilot through the floor and a screaming Foss is killed as the chopper falls into the arena and explodes on impact with the ice.\\r\\nDarren is led to a waiting ambulance while and his son and daughter comment to the paramedics about how their father is a hero. A contented Darren is put inside the ambulance as the film ends.\",\n",
    "  7: 'The movie opens with Injun Joe (Eric Schweig) accepting a job position from Doctor Jonas Robinson (William Newman). Tom Sawyer (Jonathan Taylor Thomas) is then seen running away from home. He and his friends ride down the Mississippi River on a raft, but hit a sharp rock, which throws Tom into the water. His friends find him washed up on the shore, and Tom finds it was Huck Finn (Brad Renfro) who carried him to safety. Huck learns of an unusual way to remove warts - by taking a dead cat to the graveyard at night. There they witness Injun Joe and Muff Potter (Mike McShane), the town drunk, digging up the grave of Vic \"One-Eyed\" Murrell for Doctor Robinson. A treasure map is discovered and when Doc tries to betray the two men, Injun Joe murders him with Muff\\'s knife.\\r\\nThe next morning, Muff is charged for the murder. Unfortunately, Tom and Huck had signed an oath saying that if either of them came forward about it, they would drop dead and rot. The boys embark on a search for Injun Joe\\'s treasure map, so they can declare Muff innocent and still keep their oath. The only problem is, the map is in Injun Joe\\'s pocket. After Injun Joe finds the last treasure, he burns the map, leaving no evidence to claim Muff innocent. Joe then discovers that Tom was a witness to the crime. He finds Tom and threatens he will kill him if he ever tells anyone about the murder. However, at the time, the entire community believed that he was dead, and the friendship between Tom and Huck starts to decline because of the fact that their evidence (the map) to prove Muff innocent, while preserving their oath, is destroyed.\\r\\nAt Muff Potter\\'s trial, Tom decides that his friendship with Muff is more important than his oath with Huck and tells the truth. The court finds Muff innocent of all charges and goes after Injun Joe. As a result, Injun Joe decides to hold up his end of the bargain by killing Tom. When Injun Joe returns to the tavern, he kills his accomplice Emmett (Lanny Flaherty) for cheating him. Huck becomes angry with Tom for breaking their oath and leaves town. During a festival the next day, a group of children, including Tom and his love interest Becky Thatcher (Rachael Leigh Cook), enter the caves where Tom and Becky become lost. They stumble upon Injun Joe (who was looking for Tom) in McDougal\\'s Cave. He traps them, but Tom and Becky manage to escape. Then they find the treasure and Tom tells Becky to go get her father and bring him back.\\r\\nJust then, Injun Joe finds Tom, and again tries to kill him. But Huck returns to help save Tom, and battles Injun Joe. But Injun Joe easily overpowers Huck; just as he is about to kill him, Tom holds the treasure chest over a chasm. Injun Joe then tries to get the chest from Tom, only to fall into the chasm to his death (with the chest which was empty). The boys reconcile, and are declared heroes by the people. Tom is praised on the front page of the newspaper, and Widow Douglas (Marian Seldes) decides to adopt Huck Finn.',\n",
    "  8: \"In a world where toys are living things who pretend to be lifeless when humans are present, a group of toys, owned by six-year-old Andy Davis, are caught off-guard when Andy's birthday party is moved up a week, as Andy, his mother, and infant sister Molly, are preparing to move the following week. The toys' leader and Andy's favorite toy, a pull-string cowboy doll named Sheriff Woody, organizes the other toys, including Bo Peep the shepherdess, Mr. Potato Head, Rex the Dinosaur, Hamm the Piggy Bank, and Slinky Dog, into a scouting mission. Green army men, led by Sarge, spy on the party, and report the results to the others via baby monitors. The toys are relieved when the party appears to end with none of them having been replaced, but then Andy receives a surprise gift – an electronic toy space ranger action figure named Buzz Lightyear, who thinks he is an actual space ranger.\\r\\nBuzz impresses the other toys with his various features, and Andy begins to favor him, making Woody feel left out. As Andy prepares for a family outing at Pizza Planet, his mother allows him to bring one toy. Fearing Andy will choose Buzz, Woody attempts to trap Buzz behind a desk, but ends up accidentally knocking him out a window, and the other toys rebel against Woody by accusing him of knocking Buzz out of jealousy. Before they can exact revenge, Andy takes Woody instead and leaves for Pizza Planet. When the family stops for gas, Woody finds that Buzz has hitched a ride on the car as well, and fight, only to find the family has left without them. They manage to make their way to the restaurant by stowing away on a pizza delivery truck, where Buzz, still thinking he is a real space ranger, despite Woody's attempts to convince him otherwise, gets them stuck in a crane game, where they are salvaged by Andy's mischievous neighbor, Sid Phillips.\\r\\nWoody attempts to escape from Sid's house, but Buzz, finally realizing he is a toy after watching a Buzz Lightyear TV ad, sinks into despondency. Sid plans to launch Buzz on a firework rocket, but his plans are delayed by a thunderstorm. Woody tells Buzz about the joy he can bring to Andy as a toy, restoring his confidence. The next day, Woody and Sid's mutant toy creations rescue Buzz just as Sid is about to launch the rocket and scare Sid into no longer abusing toys by coming to life in front of him, and he runs into his house screaming in horror. Woody and Buzz then leave Sid's house just as Andy and his family drive away toward their new home.\\r\\nThe duo tries to make it to the moving truck, but Sid's dog, Scud, sees them, and gives chase. Buzz gets left behind while saving Woody from Scud, and Woody tries rescuing him with Andy's RC car, but the other toys, thinking Woody eliminated RC as well, attack and toss him off the truck. Having evaded Scud, Buzz and RC retrieve Woody, and continue after the truck. Upon seeing Woody and Buzz together on RC, the other toys realize their mistake, and try to help them get back aboard, but RC's batteries become depleted, stranding them. Woody ignites the rocket on Buzz's back and manages to throw RC into the truck before they soar into the air. Buzz opens his wings to free himself from the rocket before it explodes, gliding with Woody to land safely into a box in the car, right next to Andy.\\r\\nOn Christmas Day, at their new house, Woody and Buzz stage another reconnaissance mission to prepare for the new toy arrivals. As Woody jokingly asks what might be worse than Buzz, they discover Andy's new gift is a puppy, and the two share a worried smile.\",\n",
    "  9: '\"Friends are the People who let you be yourself—and Never let you forget it\"\\r\\nWaiting to Exhale is a story about four African-American women—Savannah, Robin, Bernadine, and Gloria—who go through different stages of love and life.\\r\\nSavannah \"’Vannah\" Jackson is a successful television producer who holds on to the belief that one day her married lover will leave his wife for her. She later comes to find that he will never leave his wife and she must find her own man who will love her for her and for who she is.\\r\\nBernadine \"Bernie\" Harris abandons her own career dreams and desire of having a catering business to raise a family and support her husband, who leaves her for a white woman.\\r\\nRobin Stokes is a high-powered executive and the long-time mistress of married Russell. She has problems finding a decent man of her own after dumping him.\\r\\nGloria \"Glo\" Matthews is a beauty salon owner and single mother. After years alone, and finding out that her ex-husband, who is also the father of her son, has come out of the closet as gay, she falls in love with a new neighbor, Marvin King.\\r\\nThe four friends get together to provide support, listen to each other vent about life and love, and have fun, as they go through life\\'s trials and tribulations.\\r\\nSavannah ends up dumping her married lover for good. Bernadine gets a large divorce settlement from her ex-husband and finds love with a widowed father who is a civil rights attorney. He encourages Bernie to pursue her catering dreams.\\r\\nRobin ends up pregnant by her married lover, but dumps him and decides to raise the baby on her own.\\r\\nGloria learns to not be so overprotective of her son, and lets him go on an \"Up With People\" trip to Spain. She apologizes to her neighbor for snapping at him when he suggested that she should let her son grow up and experience the world, and she finds love while learning to take care of herself rather than being overly self-sacrificing in her devotion to her son and her business.',\n",
    "  10: \"In 1986, at Arkhangelsk, MI6 agents James Bond and Alec Trevelyan infiltrate a Soviet chemical weapons facility and plant explosives. Trevelyan is captured and executed by Colonel Arkady Grigorovich Ourumov, but Bond flees as the facility explodes.\\r\\nNine years later, in Monte Carlo, Bond follows Xenia Onatopp, a member of the Janus crime syndicate, who has formed a suspicious relationship with Charles Farrel, a Canadian Navy admiral. As Onatopp crushes the admiral to death with her thighs during sex, his credentials are stolen by Ourumov, who uses them to board a French Navy destroyer with Onatopp to steal a Eurocopter Tiger helicopter. Ourumov and Onatopp later fly the helicopter to a bunker in Severnaya, Siberia, where they massacre the staff and steal the control disk for the GoldenEye satellites, two Soviet electromagnetic weapon satellites from the Cold War. They program the first GoldenEye (Petya) to destroy the complex, and escape with programmer Boris Grishenko. Natalya Simonova, the lone survivor, contacts Boris and arranges to meet him in Saint Petersburg, where he betrays her to Janus.\\r\\nIn London, M assigns Bond to investigate the attack. He flies to Saint Petersburg to meet CIA operative Jack Wade, who suggests that Bond meet with Valentin Zukovsky, a former KGB agent and business rival of Janus. Zukovsky arranges a meeting between Bond and Janus. Onatopp surprises Bond at the Grand Hotel Europe and attempts to kill him, but he overpowers her. She takes Bond to Janus, who reveals himself as Trevelyan; he faked his death at Arkhangelsk but was badly scarred by the explosion. A descendant of the Cossack clans who collaborated with the Nazi forces in the Second World War, Trevelyan had vowed revenge against the British after they betrayed the Cossacks, which drove his father to kill Trevelyan's mother and himself. Just as Bond is about to shoot Trevelyan, Bond is shot with a tranquilizer dart.\\r\\nBond awakens, tied up with Natalya in the helicopter, which has been programmed to self-destruct. They escape but are captured and transported to the Russian military archives, where Minister of Defence Dimitri Mishkin interrogates them. Just as Natalya reveals the existence of a second satellite and Ourumov's involvement in the Siberian massacre, Ourumov arrives and kills Mishkin. Intending to frame Bond for the murder, he calls the guards, but Bond and Natalya escape. In the ensuing firefight, Natalya is captured. Bond steals a tank and pursues Ourumov through St. Petersburg to Trevelyan's train, where he kills Ourumov. Trevelyan escapes and locks Bond in the train with Natalya, setting it to self-destruct. As Bond cuts through the floor with his laser watch, Natalya triangulates Grishenko's satellite dish to Cuba. The two escape just before the train explodes.\\r\\nBond and Natalya meet Wade in the Florida Keys and borrow his plane for the trip to Cuba, where the same night, they make love. The next day, while searching for GoldenEye's satellite dish, they are shot down. Onatopp rappels down from a helicopter and attacks Bond. After a fight ensues, Bond shoots down the helicopter, which snares Onatopp and crushes her to death against a tree. Bond and Natalya watch water draining out of a lake, uncovering the satellite dish. They infiltrate the control station, and Bond is captured. Trevelyan reveals his plan to rob the Bank of England before erasing all of its financial records with the second GoldenEye (Misha), concealing the theft and destroying Britain's economy.\\r\\nNatalya programs the satellite to initiate atmospheric re-entry and destroy itself. As Trevelyan captures Natalya and orders Grishenko to save the satellite, Grishenko unwittingly triggers an explosion with Bond's pen grenade (received earlier from Q), which allows Bond to escape to the antenna cradle. Bond sabotages the antenna, preventing Grishenko from regaining control of the satellite. Bond and Trevelyan fight on the antenna's suspended platform, which finishes with Bond holding a dangling Trevelyan by his foot. Bond releases Trevelyan, who plummets into the dish. Seconds later the cradle explodes, killing Trevelyan and Grishenko. Natalya commandeers a helicopter and rescues Bond. It drops them in a field, where the couple are rescued by Wade and a team of Marines.\",\n",
    "  11: \"MI6 agents James Bond and Eve Moneypenny pursue mercenary Patrice, who has stolen a hard drive containing details of undercover agents. As Bond and Patrice fight atop a train, M orders Moneypenny to shoot Patrice from long range. Moneypenny misses and inadvertently hits Bond, who falls into a river. Bond is presumed dead and Patrice escapes.\\r\\nThree months later M comes under pressure from Gareth Mallory, the chairman of the British parliament's Intelligence and Security Committee, to retire. MI6's servers are hacked and M receives a taunting computer message moments before the MI6 headquarters explode. Bond, who used his presumed death to retire, learns of the attack and returns to London. Although he fails a series of physical and psychological examinations, M approves his return to the field. Bond is ordered to identify Patrice's employer, recover the stolen hard drive, and kill Patrice. He meets Q, MI6's new quartermaster, who gives him a radio beacon and a Walther PPK pistol.\\r\\nIn Shanghai, Bond follows Patrice into a skyscraper but is unable to prevent him from killing a target. The two fight, but Patrice falls to his death before Bond can learn his employer's identity. Bond finds a casino token in Patrice's rifle case, which leads him to a casino in Macau. Bond is approached by Sévérine, Patrice's accomplice, and he asks to meet her employer. She warns him that he is about to be killed by her bodyguards, but promises to help Bond if he will kill her employer. Bond thwarts the attack and joins Sévérine on her yacht, where they have sex. They travel to an abandoned island off the coast of Macau where they are taken prisoner by the crew and delivered to Sévérine's employer, Raoul Silva. Silva, once an MI6 agent, has now turned to cyberterrorism and orchestrated the attack on MI6. Silva kills Sévérine, but Bond captures Silva for rendition to Britain.\\r\\nAt MI6's new underground headquarters, Q attempts to decrypt Silva's laptop. Q inadvertently gives the laptop access to the MI6 servers, which allows Silva to escape. Bond deduces that Silva wanted to be captured as part of a plan to kill M, whom he resents for disavowing him. Bond gives chase through the London Underground but loses Silva after a train crash. Silva attacks M during a public inquiry into her handling of the stolen hard drive but Bond arrives in time to repel the attack. M is saved from a bullet by Mallory and ends up in a car with Bond.\\r\\nBond and M travel to Skyfall, the Bond family estate in the Scottish Highlands. Bond instructs Q and Bill Tanner to leave an electronic trail for Silva to follow. Bond and M meet up with Skyfall's gamekeeper Kincade, and together the trio set up a series of booby traps throughout the house. When Silva's men arrive, Bond, M, and Kincade manage to kill most of them. M is wounded, but conceals it from Bond and Kincade. Silva himself arrives by helicopter with more men and heavy weapons, so Bond sends M and Kincade off through a priest hole to a chapel on the grounds. As the house is destroyed Bond escapes down the same tunnel and heads toward the chapel.\\r\\nSilva survives the destruction of the house and follows Kincade and M to the chapel. He forces his gun into M's hand and presses his temple to hers, begging her to kill them both. Bond arrives and kills Silva by throwing a knife into his back, but M succumbs to her wounds and dies in Bond's arms. Following M's funeral, Moneypenny formally introduces herself to Bond and tells him she is retiring from field work to become secretary for the newly appointed M. Bond is summoned to M's office and finds that Mallory is his new boss.\"}}    \n",
    ")"
   ]
  },
  {
   "cell_type": "code",
   "execution_count": null,
   "id": "575d9ed7-5353-4ea9-8133-bfa03ed27cd3",
   "metadata": {
    "execution": {
     "iopub.status.busy": "2023-03-10T23:43:26.629712Z",
     "iopub.status.idle": "2023-03-10T23:43:26.629712Z",
     "shell.execute_reply": "2023-03-10T23:43:26.629712Z",
     "shell.execute_reply.started": "2023-03-10T23:43:26.629712Z"
    },
    "tags": []
   },
   "outputs": [],
   "source": [
    "df"
   ]
  },
  {
   "cell_type": "markdown",
   "id": "cefb4e39-47d2-4459-b3bb-9963e0aa1749",
   "metadata": {
    "execution": {
     "iopub.execute_input": "2023-01-06T19:30:40.452090Z",
     "iopub.status.busy": "2023-01-06T19:30:40.452090Z",
     "iopub.status.idle": "2023-01-06T19:30:40.456941Z",
     "shell.execute_reply": "2023-01-06T19:30:40.456941Z",
     "shell.execute_reply.started": "2023-01-06T19:30:40.452090Z"
    },
    "tags": []
   },
   "source": [
    "#### Calculate all items ( Usual )"
   ]
  },
  {
   "cell_type": "code",
   "execution_count": null,
   "id": "2486c102-8919-41cc-9ba5-f359b37d5842",
   "metadata": {
    "execution": {
     "iopub.execute_input": "2023-01-06T20:54:38.612496Z",
     "iopub.status.busy": "2023-01-06T20:54:38.612496Z",
     "iopub.status.idle": "2023-01-06T20:54:38.628129Z",
     "shell.execute_reply": "2023-01-06T20:54:38.628129Z",
     "shell.execute_reply.started": "2023-01-06T20:54:38.612496Z"
    },
    "tags": []
   },
   "outputs": [],
   "source": [
    "from sklearn.feature_extraction.text import TfidfVectorizer\n",
    "\n",
    "# Instantiate the vectorizer object and transform the plot column\n",
    "vectorizer = TfidfVectorizer(max_df=0.7, min_df=2)\n",
    "vectorized_data = vectorizer.fit_transform(df['Plot']) \n",
    "\n"
   ]
  },
  {
   "cell_type": "code",
   "execution_count": null,
   "id": "dc0ff5f2-4a21-483f-845c-6dd2212d0746",
   "metadata": {
    "execution": {
     "iopub.execute_input": "2023-01-06T20:57:21.480906Z",
     "iopub.status.busy": "2023-01-06T20:57:21.480906Z",
     "iopub.status.idle": "2023-01-06T20:57:21.484907Z",
     "shell.execute_reply": "2023-01-06T20:57:21.484907Z",
     "shell.execute_reply.started": "2023-01-06T20:57:21.480906Z"
    },
    "tags": []
   },
   "outputs": [],
   "source": [
    "vectorized_data.toarray()"
   ]
  },
  {
   "cell_type": "code",
   "execution_count": null,
   "id": "11bea3d7-b963-480b-b9b5-371485d44444",
   "metadata": {
    "execution": {
     "iopub.execute_input": "2023-01-06T20:58:47.793460Z",
     "iopub.status.busy": "2023-01-06T20:58:47.793460Z",
     "iopub.status.idle": "2023-01-06T20:58:47.812664Z",
     "shell.execute_reply": "2023-01-06T20:58:47.812664Z",
     "shell.execute_reply.started": "2023-01-06T20:58:47.793460Z"
    },
    "tags": []
   },
   "outputs": [],
   "source": [
    "# Create Dataframe from TF-IDFarray\n",
    "tfidf_df = pd.DataFrame(vectorized_data.toarray(), columns=vectorizer.get_feature_names_out(),index=df['Title'])\n",
    "\n",
    "tfidf_df.head()"
   ]
  },
  {
   "cell_type": "code",
   "execution_count": null,
   "id": "09b6923c-39a5-49e7-a296-c77dc0e3f726",
   "metadata": {
    "execution": {
     "iopub.execute_input": "2023-01-06T21:07:21.069607Z",
     "iopub.status.busy": "2023-01-06T21:07:21.068607Z",
     "iopub.status.idle": "2023-01-06T21:07:21.091952Z",
     "shell.execute_reply": "2023-01-06T21:07:21.091952Z",
     "shell.execute_reply.started": "2023-01-06T21:07:21.069607Z"
    },
    "tags": []
   },
   "outputs": [],
   "source": [
    "# Import cosine_similarity measure\n",
    "from sklearn.metrics.pairwise import cosine_similarity\n",
    "\n",
    "# Create the array of cosine similarity values\n",
    "cosine_similarity_array = cosine_similarity(tfidf_df)\n",
    "\n",
    "# Wrap the array in a pandas DataFrame\n",
    "cosine_similarity_df = pd.DataFrame(cosine_similarity_array, index=tfidf_df.index, columns=tfidf_df.index)\n",
    "\n",
    "# Print the top 5 rows of the DataFrame\n",
    "cosine_similarity_df.head()"
   ]
  },
  {
   "cell_type": "markdown",
   "id": "7e34f53b-2c70-4395-b499-568fa0f8ee02",
   "metadata": {
    "execution": {
     "iopub.execute_input": "2023-01-06T21:22:37.504555Z",
     "iopub.status.busy": "2023-01-06T21:22:37.503563Z",
     "iopub.status.idle": "2023-01-06T21:22:37.510556Z",
     "shell.execute_reply": "2023-01-06T21:22:37.510556Z",
     "shell.execute_reply.started": "2023-01-06T21:22:37.504555Z"
    },
    "tags": []
   },
   "source": [
    "### Creating a User Profile - To recommend"
   ]
  },
  {
   "cell_type": "code",
   "execution_count": null,
   "id": "f963eed6-6284-43ad-be0d-ce5b3966df9d",
   "metadata": {
    "execution": {
     "iopub.execute_input": "2023-01-06T21:23:37.289601Z",
     "iopub.status.busy": "2023-01-06T21:23:37.288600Z",
     "iopub.status.idle": "2023-01-06T21:23:37.312395Z",
     "shell.execute_reply": "2023-01-06T21:23:37.312395Z",
     "shell.execute_reply.started": "2023-01-06T21:23:37.289601Z"
    },
    "tags": []
   },
   "outputs": [],
   "source": [
    "list_of_movies_enjoyed = ['Dracula: Dead and Loving It', 'Four Rooms', 'Father of the Bride Part II']\n",
    "\n",
    "# Create a subset of only the movies the user has enjoyed\n",
    "movies_enjoyed_df = tfidf_df.reindex(list_of_movies_enjoyed)\n",
    "\n",
    "# Inspect the DataFrame\n",
    "movies_enjoyed_df"
   ]
  },
  {
   "cell_type": "code",
   "execution_count": null,
   "id": "55adaae4-de1d-4936-94e2-a7965fe5156d",
   "metadata": {
    "execution": {
     "iopub.execute_input": "2023-01-06T21:24:23.450340Z",
     "iopub.status.busy": "2023-01-06T21:24:23.450340Z",
     "iopub.status.idle": "2023-01-06T21:24:23.456433Z",
     "shell.execute_reply": "2023-01-06T21:24:23.456433Z",
     "shell.execute_reply.started": "2023-01-06T21:24:23.450340Z"
    },
    "tags": []
   },
   "outputs": [],
   "source": [
    "user_prof = movies_enjoyed_df.mean()\n",
    "user_prof"
   ]
  },
  {
   "cell_type": "code",
   "execution_count": null,
   "id": "63beaa11-a69c-46ec-809f-3b636ee12b78",
   "metadata": {
    "execution": {
     "iopub.execute_input": "2023-01-06T21:26:46.790306Z",
     "iopub.status.busy": "2023-01-06T21:26:46.790306Z",
     "iopub.status.idle": "2023-01-06T21:26:46.803779Z",
     "shell.execute_reply": "2023-01-06T21:26:46.803779Z",
     "shell.execute_reply.started": "2023-01-06T21:26:46.790306Z"
    },
    "tags": []
   },
   "outputs": [],
   "source": [
    "from sklearn.metrics.pairwise import cosine_similarity\n",
    "\n",
    "# Find subset of tfidf_df that does not include movies in list_of_movies_enjoyed\n",
    "tfidf_subset_df = tfidf_df.drop(list_of_movies_enjoyed, axis=0)"
   ]
  },
  {
   "cell_type": "code",
   "execution_count": null,
   "id": "8f2d53a7-d3ad-4350-b4f2-ed3b1faf435f",
   "metadata": {
    "execution": {
     "iopub.execute_input": "2023-01-06T21:26:49.682384Z",
     "iopub.status.busy": "2023-01-06T21:26:49.682384Z",
     "iopub.status.idle": "2023-01-06T21:26:49.707241Z",
     "shell.execute_reply": "2023-01-06T21:26:49.707241Z",
     "shell.execute_reply.started": "2023-01-06T21:26:49.682384Z"
    },
    "tags": []
   },
   "outputs": [],
   "source": [
    "tfidf_subset_df # Apenas filmes não visto ainda por isso o drop"
   ]
  },
  {
   "cell_type": "code",
   "execution_count": null,
   "id": "7f274a20-ed27-4277-9164-cbffef617c86",
   "metadata": {
    "execution": {
     "iopub.execute_input": "2023-01-06T21:28:34.532513Z",
     "iopub.status.busy": "2023-01-06T21:28:34.532307Z",
     "iopub.status.idle": "2023-01-06T21:28:34.540678Z",
     "shell.execute_reply": "2023-01-06T21:28:34.540678Z",
     "shell.execute_reply.started": "2023-01-06T21:28:34.532513Z"
    },
    "tags": []
   },
   "outputs": [],
   "source": [
    "# Calculate the cosine_similarity and wrap it in a DataFrame\n",
    "similarity_array = cosine_similarity(user_prof.values.reshape(1, -1), tfidf_subset_df)"
   ]
  },
  {
   "cell_type": "code",
   "execution_count": null,
   "id": "b0a17c7a-d105-4dec-ba2b-bb04e9cecfcc",
   "metadata": {
    "execution": {
     "iopub.execute_input": "2023-01-06T21:29:25.461195Z",
     "iopub.status.busy": "2023-01-06T21:29:25.460194Z",
     "iopub.status.idle": "2023-01-06T21:29:25.469359Z",
     "shell.execute_reply": "2023-01-06T21:29:25.469359Z",
     "shell.execute_reply.started": "2023-01-06T21:29:25.461195Z"
    },
    "tags": []
   },
   "outputs": [],
   "source": [
    "similarity_df = pd.DataFrame(similarity_array.T, index=tfidf_subset_df.index, columns=[\"similarity_score\"])"
   ]
  },
  {
   "cell_type": "code",
   "execution_count": null,
   "id": "f008aaf9-fd11-4091-8fd5-75b47e47208e",
   "metadata": {
    "execution": {
     "iopub.execute_input": "2023-01-06T21:30:09.899092Z",
     "iopub.status.busy": "2023-01-06T21:30:09.898099Z",
     "iopub.status.idle": "2023-01-06T21:30:09.905582Z",
     "shell.execute_reply": "2023-01-06T21:30:09.905582Z",
     "shell.execute_reply.started": "2023-01-06T21:30:09.899092Z"
    },
    "tags": []
   },
   "outputs": [],
   "source": [
    "similarity_df.sort_values('similarity_score',ascending=False)"
   ]
  }
 ],
 "metadata": {
  "kernelspec": {
   "display_name": "Python 3 (ipykernel)",
   "language": "python",
   "name": "python3"
  },
  "language_info": {
   "codemirror_mode": {
    "name": "ipython",
    "version": 3
   },
   "file_extension": ".py",
   "mimetype": "text/x-python",
   "name": "python",
   "nbconvert_exporter": "python",
   "pygments_lexer": "ipython3",
   "version": "3.10.9"
  }
 },
 "nbformat": 4,
 "nbformat_minor": 5
}
