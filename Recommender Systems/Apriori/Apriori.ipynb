{
 "cells": [
  {
   "cell_type": "code",
   "execution_count": 24,
   "id": "9c0af6be-6b45-4e51-a599-2fcb4eec93d7",
   "metadata": {
    "execution": {
     "iopub.execute_input": "2023-03-07T23:58:53.114981Z",
     "iopub.status.busy": "2023-03-07T23:58:53.113981Z",
     "iopub.status.idle": "2023-03-07T23:58:53.131977Z",
     "shell.execute_reply": "2023-03-07T23:58:53.131977Z",
     "shell.execute_reply.started": "2023-03-07T23:58:53.114981Z"
    },
    "tags": []
   },
   "outputs": [],
   "source": [
    "import pandas as pd"
   ]
  },
  {
   "cell_type": "code",
   "execution_count": 38,
   "id": "821b8c18-bd1c-47d3-92c5-27c463bb292c",
   "metadata": {
    "execution": {
     "iopub.execute_input": "2023-03-08T00:04:08.702094Z",
     "iopub.status.busy": "2023-03-08T00:04:08.701094Z",
     "iopub.status.idle": "2023-03-08T00:04:09.179125Z",
     "shell.execute_reply": "2023-03-08T00:04:09.179125Z",
     "shell.execute_reply.started": "2023-03-08T00:04:08.702094Z"
    },
    "tags": []
   },
   "outputs": [
    {
     "name": "stderr",
     "output_type": "stream",
     "text": [
      "C:\\Users\\rodri\\AppData\\Local\\Temp\\ipykernel_22040\\1469006059.py:1: DtypeWarning: Columns (0) have mixed types. Specify dtype option on import or set low_memory=False.\n",
      "  df = pd.read_csv('market_basket.csv',sep=\";\")\n"
     ]
    }
   ],
   "source": [
    "df = pd.read_csv('market_basket.csv',sep=\";\")"
   ]
  },
  {
   "cell_type": "code",
   "execution_count": 39,
   "id": "cf78aba6-b6ad-4500-86da-0bde04a7d6a0",
   "metadata": {
    "execution": {
     "iopub.execute_input": "2023-03-08T00:04:09.181126Z",
     "iopub.status.busy": "2023-03-08T00:04:09.181126Z",
     "iopub.status.idle": "2023-03-08T00:04:09.211126Z",
     "shell.execute_reply": "2023-03-08T00:04:09.210126Z",
     "shell.execute_reply.started": "2023-03-08T00:04:09.181126Z"
    },
    "tags": []
   },
   "outputs": [],
   "source": [
    "df.Itemname = df.Itemname.astype('str')"
   ]
  },
  {
   "cell_type": "code",
   "execution_count": 40,
   "id": "38e1d330-7be4-4553-bb7e-6c22d9dac5dd",
   "metadata": {
    "execution": {
     "iopub.execute_input": "2023-03-08T00:04:09.212125Z",
     "iopub.status.busy": "2023-03-08T00:04:09.211126Z",
     "iopub.status.idle": "2023-03-08T00:04:10.120581Z",
     "shell.execute_reply": "2023-03-08T00:04:10.120581Z",
     "shell.execute_reply.started": "2023-03-08T00:04:09.212125Z"
    },
    "tags": []
   },
   "outputs": [],
   "source": [
    "items_by_basket = [list(group['Itemname']) for _, group in df.groupby('BillNo')]"
   ]
  },
  {
   "cell_type": "code",
   "execution_count": 50,
   "id": "f0ba636d-e6eb-45a1-af6f-3cfaf8ba69a1",
   "metadata": {
    "execution": {
     "iopub.execute_input": "2023-03-08T00:06:10.551881Z",
     "iopub.status.busy": "2023-03-08T00:06:10.551881Z",
     "iopub.status.idle": "2023-03-08T00:06:10.561884Z",
     "shell.execute_reply": "2023-03-08T00:06:10.561884Z",
     "shell.execute_reply.started": "2023-03-08T00:06:10.551881Z"
    },
    "tags": []
   },
   "outputs": [],
   "source": [
    "items_by_basket = [['Milk', 'Onion', 'Nutmeg', 'Kidney Beans', 'Eggs', 'Yogurt'],\n",
    "           ['Dill', 'Onion', 'Nutmeg', 'Kidney Beans', 'Eggs', 'Yogurt'],\n",
    "           ['Milk', 'Apple', 'Kidney Beans', 'Eggs'],\n",
    "           ['Milk', 'Unicorn', 'Corn', 'Kidney Beans', 'Yogurt'],\n",
    "           ['Corn', 'Onion', 'Onion', 'Kidney Beans', 'Ice cream', 'Eggs']]"
   ]
  },
  {
   "cell_type": "code",
   "execution_count": 57,
   "id": "25e3cf76-0c03-41b0-b921-8f80aa9701db",
   "metadata": {
    "execution": {
     "iopub.execute_input": "2023-03-08T00:09:25.700792Z",
     "iopub.status.busy": "2023-03-08T00:09:25.699792Z",
     "iopub.status.idle": "2023-03-08T00:09:25.720797Z",
     "shell.execute_reply": "2023-03-08T00:09:25.720797Z",
     "shell.execute_reply.started": "2023-03-08T00:09:25.700792Z"
    },
    "tags": []
   },
   "outputs": [],
   "source": [
    "import pandas as pd\n",
    "from mlxtend.preprocessing import TransactionEncoder\n",
    "from mlxtend.frequent_patterns import apriori\n",
    "from mlxtend.frequent_patterns import apriori, association_rules\n",
    "\n",
    "# convert list of transactions to a DataFrame\n",
    "te = TransactionEncoder()\n",
    "te_ary = te.fit_transform(items_by_basket)\n",
    "df = pd.DataFrame(te_ary, columns=te.columns_)\n",
    "\n",
    "# apply Apriori to find frequent itemsets\n",
    "frequent_itemsets = apriori(df, use_colnames=True)\n"
   ]
  },
  {
   "cell_type": "code",
   "execution_count": 58,
   "id": "cfe52aa3-91c2-4ed2-a048-5fcdf0fcc5c6",
   "metadata": {
    "execution": {
     "iopub.execute_input": "2023-03-08T00:09:26.828084Z",
     "iopub.status.busy": "2023-03-08T00:09:26.828084Z",
     "iopub.status.idle": "2023-03-08T00:09:26.845088Z",
     "shell.execute_reply": "2023-03-08T00:09:26.844088Z",
     "shell.execute_reply.started": "2023-03-08T00:09:26.828084Z"
    },
    "tags": []
   },
   "outputs": [
    {
     "data": {
      "text/html": [
       "<div>\n",
       "<style scoped>\n",
       "    .dataframe tbody tr th:only-of-type {\n",
       "        vertical-align: middle;\n",
       "    }\n",
       "\n",
       "    .dataframe tbody tr th {\n",
       "        vertical-align: top;\n",
       "    }\n",
       "\n",
       "    .dataframe thead th {\n",
       "        text-align: right;\n",
       "    }\n",
       "</style>\n",
       "<table border=\"1\" class=\"dataframe\">\n",
       "  <thead>\n",
       "    <tr style=\"text-align: right;\">\n",
       "      <th></th>\n",
       "      <th>support</th>\n",
       "      <th>itemsets</th>\n",
       "    </tr>\n",
       "  </thead>\n",
       "  <tbody>\n",
       "    <tr>\n",
       "      <th>0</th>\n",
       "      <td>0.8</td>\n",
       "      <td>(Eggs)</td>\n",
       "    </tr>\n",
       "    <tr>\n",
       "      <th>1</th>\n",
       "      <td>1.0</td>\n",
       "      <td>(Kidney Beans)</td>\n",
       "    </tr>\n",
       "    <tr>\n",
       "      <th>2</th>\n",
       "      <td>0.6</td>\n",
       "      <td>(Milk)</td>\n",
       "    </tr>\n",
       "    <tr>\n",
       "      <th>3</th>\n",
       "      <td>0.6</td>\n",
       "      <td>(Onion)</td>\n",
       "    </tr>\n",
       "    <tr>\n",
       "      <th>4</th>\n",
       "      <td>0.6</td>\n",
       "      <td>(Yogurt)</td>\n",
       "    </tr>\n",
       "    <tr>\n",
       "      <th>5</th>\n",
       "      <td>0.8</td>\n",
       "      <td>(Kidney Beans, Eggs)</td>\n",
       "    </tr>\n",
       "    <tr>\n",
       "      <th>6</th>\n",
       "      <td>0.6</td>\n",
       "      <td>(Eggs, Onion)</td>\n",
       "    </tr>\n",
       "    <tr>\n",
       "      <th>7</th>\n",
       "      <td>0.6</td>\n",
       "      <td>(Milk, Kidney Beans)</td>\n",
       "    </tr>\n",
       "    <tr>\n",
       "      <th>8</th>\n",
       "      <td>0.6</td>\n",
       "      <td>(Kidney Beans, Onion)</td>\n",
       "    </tr>\n",
       "    <tr>\n",
       "      <th>9</th>\n",
       "      <td>0.6</td>\n",
       "      <td>(Kidney Beans, Yogurt)</td>\n",
       "    </tr>\n",
       "    <tr>\n",
       "      <th>10</th>\n",
       "      <td>0.6</td>\n",
       "      <td>(Kidney Beans, Eggs, Onion)</td>\n",
       "    </tr>\n",
       "  </tbody>\n",
       "</table>\n",
       "</div>"
      ],
      "text/plain": [
       "    support                     itemsets\n",
       "0       0.8                       (Eggs)\n",
       "1       1.0               (Kidney Beans)\n",
       "2       0.6                       (Milk)\n",
       "3       0.6                      (Onion)\n",
       "4       0.6                     (Yogurt)\n",
       "5       0.8         (Kidney Beans, Eggs)\n",
       "6       0.6                (Eggs, Onion)\n",
       "7       0.6         (Milk, Kidney Beans)\n",
       "8       0.6        (Kidney Beans, Onion)\n",
       "9       0.6       (Kidney Beans, Yogurt)\n",
       "10      0.6  (Kidney Beans, Eggs, Onion)"
      ]
     },
     "execution_count": 58,
     "metadata": {},
     "output_type": "execute_result"
    }
   ],
   "source": [
    "frequent_itemsets"
   ]
  },
  {
   "cell_type": "code",
   "execution_count": 63,
   "id": "55cbe25e-d3a3-497d-96a6-128dee87c538",
   "metadata": {
    "execution": {
     "iopub.execute_input": "2023-03-08T00:23:14.400972Z",
     "iopub.status.busy": "2023-03-08T00:23:14.400972Z",
     "iopub.status.idle": "2023-03-08T00:23:14.413974Z",
     "shell.execute_reply": "2023-03-08T00:23:14.412975Z",
     "shell.execute_reply.started": "2023-03-08T00:23:14.400972Z"
    },
    "tags": []
   },
   "outputs": [],
   "source": [
    "rules = association_rules(frequent_itemsets, metric=\"confidence\", min_threshold=0.7)"
   ]
  },
  {
   "cell_type": "code",
   "execution_count": 64,
   "id": "1de76f29-7f6e-4f8f-bee7-3656dffe45b5",
   "metadata": {
    "execution": {
     "iopub.execute_input": "2023-03-08T00:23:17.192500Z",
     "iopub.status.busy": "2023-03-08T00:23:17.191499Z",
     "iopub.status.idle": "2023-03-08T00:23:17.207495Z",
     "shell.execute_reply": "2023-03-08T00:23:17.206495Z",
     "shell.execute_reply.started": "2023-03-08T00:23:17.192500Z"
    },
    "tags": []
   },
   "outputs": [],
   "source": [
    "# filter the rules to show only the ones with \"Eggs\" in the antecedent\n",
    "egg_rules = rules[rules['antecedents'].apply(lambda x: 'Eggs' in x)]\n",
    "\n",
    "# sort the rules by confidence in descending order\n",
    "egg_rules = egg_rules.sort_values(by='confidence', ascending=False)"
   ]
  },
  {
   "cell_type": "code",
   "execution_count": 65,
   "id": "903e1b56-9faf-4d1b-8c5e-5ee397cbd00c",
   "metadata": {
    "execution": {
     "iopub.execute_input": "2023-03-08T00:23:26.816230Z",
     "iopub.status.busy": "2023-03-08T00:23:26.815229Z",
     "iopub.status.idle": "2023-03-08T00:23:26.841236Z",
     "shell.execute_reply": "2023-03-08T00:23:26.840236Z",
     "shell.execute_reply.started": "2023-03-08T00:23:26.816230Z"
    },
    "tags": []
   },
   "outputs": [
    {
     "data": {
      "text/html": [
       "<div>\n",
       "<style scoped>\n",
       "    .dataframe tbody tr th:only-of-type {\n",
       "        vertical-align: middle;\n",
       "    }\n",
       "\n",
       "    .dataframe tbody tr th {\n",
       "        vertical-align: top;\n",
       "    }\n",
       "\n",
       "    .dataframe thead th {\n",
       "        text-align: right;\n",
       "    }\n",
       "</style>\n",
       "<table border=\"1\" class=\"dataframe\">\n",
       "  <thead>\n",
       "    <tr style=\"text-align: right;\">\n",
       "      <th></th>\n",
       "      <th>antecedents</th>\n",
       "      <th>consequents</th>\n",
       "      <th>antecedent support</th>\n",
       "      <th>consequent support</th>\n",
       "      <th>support</th>\n",
       "      <th>confidence</th>\n",
       "      <th>lift</th>\n",
       "      <th>leverage</th>\n",
       "      <th>conviction</th>\n",
       "    </tr>\n",
       "  </thead>\n",
       "  <tbody>\n",
       "    <tr>\n",
       "      <th>1</th>\n",
       "      <td>(Eggs)</td>\n",
       "      <td>(Kidney Beans)</td>\n",
       "      <td>0.8</td>\n",
       "      <td>1.0</td>\n",
       "      <td>0.8</td>\n",
       "      <td>1.00</td>\n",
       "      <td>1.00</td>\n",
       "      <td>0.00</td>\n",
       "      <td>inf</td>\n",
       "    </tr>\n",
       "    <tr>\n",
       "      <th>9</th>\n",
       "      <td>(Eggs, Onion)</td>\n",
       "      <td>(Kidney Beans)</td>\n",
       "      <td>0.6</td>\n",
       "      <td>1.0</td>\n",
       "      <td>0.6</td>\n",
       "      <td>1.00</td>\n",
       "      <td>1.00</td>\n",
       "      <td>0.00</td>\n",
       "      <td>inf</td>\n",
       "    </tr>\n",
       "    <tr>\n",
       "      <th>2</th>\n",
       "      <td>(Eggs)</td>\n",
       "      <td>(Onion)</td>\n",
       "      <td>0.8</td>\n",
       "      <td>0.6</td>\n",
       "      <td>0.6</td>\n",
       "      <td>0.75</td>\n",
       "      <td>1.25</td>\n",
       "      <td>0.12</td>\n",
       "      <td>1.6</td>\n",
       "    </tr>\n",
       "    <tr>\n",
       "      <th>7</th>\n",
       "      <td>(Kidney Beans, Eggs)</td>\n",
       "      <td>(Onion)</td>\n",
       "      <td>0.8</td>\n",
       "      <td>0.6</td>\n",
       "      <td>0.6</td>\n",
       "      <td>0.75</td>\n",
       "      <td>1.25</td>\n",
       "      <td>0.12</td>\n",
       "      <td>1.6</td>\n",
       "    </tr>\n",
       "    <tr>\n",
       "      <th>10</th>\n",
       "      <td>(Eggs)</td>\n",
       "      <td>(Kidney Beans, Onion)</td>\n",
       "      <td>0.8</td>\n",
       "      <td>0.6</td>\n",
       "      <td>0.6</td>\n",
       "      <td>0.75</td>\n",
       "      <td>1.25</td>\n",
       "      <td>0.12</td>\n",
       "      <td>1.6</td>\n",
       "    </tr>\n",
       "  </tbody>\n",
       "</table>\n",
       "</div>"
      ],
      "text/plain": [
       "             antecedents            consequents  antecedent support  \\\n",
       "1                 (Eggs)         (Kidney Beans)                 0.8   \n",
       "9          (Eggs, Onion)         (Kidney Beans)                 0.6   \n",
       "2                 (Eggs)                (Onion)                 0.8   \n",
       "7   (Kidney Beans, Eggs)                (Onion)                 0.8   \n",
       "10                (Eggs)  (Kidney Beans, Onion)                 0.8   \n",
       "\n",
       "    consequent support  support  confidence  lift  leverage  conviction  \n",
       "1                  1.0      0.8        1.00  1.00      0.00         inf  \n",
       "9                  1.0      0.6        1.00  1.00      0.00         inf  \n",
       "2                  0.6      0.6        0.75  1.25      0.12         1.6  \n",
       "7                  0.6      0.6        0.75  1.25      0.12         1.6  \n",
       "10                 0.6      0.6        0.75  1.25      0.12         1.6  "
      ]
     },
     "execution_count": 65,
     "metadata": {},
     "output_type": "execute_result"
    }
   ],
   "source": [
    "egg_rules"
   ]
  },
  {
   "cell_type": "markdown",
   "id": "6a8647d8-fed9-4bc5-a036-17b91f6bc1c6",
   "metadata": {
    "execution": {
     "iopub.execute_input": "2023-03-08T00:25:59.150165Z",
     "iopub.status.busy": "2023-03-08T00:25:59.150165Z",
     "iopub.status.idle": "2023-03-08T00:25:59.167161Z",
     "shell.execute_reply": "2023-03-08T00:25:59.166161Z",
     "shell.execute_reply.started": "2023-03-08T00:25:59.150165Z"
    },
    "tags": []
   },
   "source": [
    "The confidence measures the conditional probability of the consequent (right-hand side) given the antecedent (left-hand side) of a rule."
   ]
  },
  {
   "cell_type": "code",
   "execution_count": 66,
   "id": "978e5158-9646-4333-b29c-22ff40fd2f0c",
   "metadata": {
    "execution": {
     "iopub.execute_input": "2023-03-08T00:25:01.319696Z",
     "iopub.status.busy": "2023-03-08T00:25:01.318696Z",
     "iopub.status.idle": "2023-03-08T00:25:01.336692Z",
     "shell.execute_reply": "2023-03-08T00:25:01.335691Z",
     "shell.execute_reply.started": "2023-03-08T00:25:01.319696Z"
    },
    "tags": []
   },
   "outputs": [
    {
     "name": "stdout",
     "output_type": "stream",
     "text": [
      "Based on the purchase of 'Eggs', the most recommended item to buy is: Kidney Beans\n"
     ]
    }
   ],
   "source": [
    "# display the recommended items to buy\n",
    "recommended_items = list(egg_rules.iloc[0]['consequents'])\n",
    "print(f\"Based on the purchase of 'Eggs', the most recommended item to buy is: {recommended_items[0]}\")"
   ]
  }
 ],
 "metadata": {
  "kernelspec": {
   "display_name": "Python 3 (ipykernel)",
   "language": "python",
   "name": "python3"
  },
  "language_info": {
   "codemirror_mode": {
    "name": "ipython",
    "version": 3
   },
   "file_extension": ".py",
   "mimetype": "text/x-python",
   "name": "python",
   "nbconvert_exporter": "python",
   "pygments_lexer": "ipython3",
   "version": "3.10.9"
  }
 },
 "nbformat": 4,
 "nbformat_minor": 5
}
