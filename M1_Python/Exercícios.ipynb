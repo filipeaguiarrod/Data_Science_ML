{
 "cells": [
  {
   "cell_type": "markdown",
   "metadata": {},
   "source": [
    "# 1ª Questão"
   ]
  },
  {
   "cell_type": "code",
   "execution_count": 1,
   "metadata": {},
   "outputs": [],
   "source": [
    "x = \"42: The answer to life, the universe and everything\""
   ]
  },
  {
   "cell_type": "code",
   "execution_count": 2,
   "metadata": {},
   "outputs": [
    {
     "data": {
      "text/plain": [
       "21.0"
      ]
     },
     "execution_count": 2,
     "metadata": {},
     "output_type": "execute_result"
    }
   ],
   "source": [
    "# seu código aqui:\n",
    "int(x[:2])/2\n"
   ]
  },
  {
   "cell_type": "markdown",
   "metadata": {},
   "source": [
    "output: 21.0"
   ]
  },
  {
   "cell_type": "markdown",
   "metadata": {},
   "source": [
    "Clique duas vezes para ver a resposta\n",
    "\n",
    "<!--\n",
    "int(x[:2])/2\n",
    "-->"
   ]
  },
  {
   "cell_type": "markdown",
   "metadata": {},
   "source": [
    "# 2ª Questão"
   ]
  },
  {
   "cell_type": "code",
   "execution_count": 1,
   "metadata": {},
   "outputs": [],
   "source": [
    "lista1 = [1.2, 5]\n",
    "lista2 = ['1']\n",
    "lista3 = ['a']\n",
    "lista4 = ['b']\n",
    "lista5 = ['60', 60]"
   ]
  },
  {
   "cell_type": "code",
   "execution_count": 2,
   "metadata": {},
   "outputs": [
    {
     "name": "stdout",
     "output_type": "stream",
     "text": [
      "[120, 60]\n"
     ]
    }
   ],
   "source": [
    "lista5[0]=int(lista5[0])+lista5[1]\n",
    "print(lista5)"
   ]
  },
  {
   "cell_type": "code",
   "execution_count": 7,
   "metadata": {
    "scrolled": false
   },
   "outputs": [
    {
     "name": "stdout",
     "output_type": "stream",
     "text": [
      "[[1.2, 5, '1'], 'a', 'b', 120]\n"
     ]
    }
   ],
   "source": [
    "lista=[lista1+lista2]+lista3+lista4+lista5\n",
    "lista.remove(60)\n",
    "print(lista)"
   ]
  },
  {
   "cell_type": "code",
   "execution_count": null,
   "metadata": {},
   "outputs": [],
   "source": [
    "## Outra forma de achar o elemento lista.index(elemento)"
   ]
  },
  {
   "cell_type": "markdown",
   "metadata": {},
   "source": [
    "output: [[1.2, 5, '1'], 'a', 'b', 120]"
   ]
  },
  {
   "cell_type": "markdown",
   "metadata": {},
   "source": [
    "Clique duas vezes para ver a resposta\n",
    "\n",
    "<!--\n",
    "lista5[0] = int(lista5[0]) + lista5[1]\n",
    "lista = [lista1 + lista2] + lista3 + lista4 + lista5\n",
    "del(lista[lista.index(60)])\n",
    "lista\n",
    "-->"
   ]
  },
  {
   "cell_type": "markdown",
   "metadata": {},
   "source": [
    "# 3ª Questão"
   ]
  },
  {
   "cell_type": "code",
   "execution_count": 17,
   "metadata": {},
   "outputs": [],
   "source": [
    "lista = [[1.2, 5, '1'], 'a', 'b', 180] "
   ]
  },
  {
   "cell_type": "code",
   "execution_count": 18,
   "metadata": {},
   "outputs": [
    {
     "name": "stdout",
     "output_type": "stream",
     "text": [
      "[180, 'b', 'a', [1.2, 5, 1]]\n"
     ]
    }
   ],
   "source": [
    "# seu código aqui:\n",
    "lista[0][2]=int(lista[0][2])\n",
    "lista.reverse()\n",
    "print(lista)"
   ]
  },
  {
   "cell_type": "markdown",
   "metadata": {},
   "source": [
    "output: [180, 'b', 'a', [1.2, 5, 1]]"
   ]
  },
  {
   "cell_type": "markdown",
   "metadata": {},
   "source": [
    "Clique duas vezes para ver a resposta\n",
    "dropdown\n",
    "<!--\n",
    "lista[0][2] = int(lista[0][2])\n",
    "lista.reverse()\n",
    "lista\n",
    "-->"
   ]
  },
  {
   "cell_type": "markdown",
   "metadata": {},
   "source": [
    "# 4ª Questão"
   ]
  },
  {
   "cell_type": "code",
   "execution_count": 29,
   "metadata": {},
   "outputs": [],
   "source": [
    "lista1 = [10,10,10,10,'a','b','c','d']\n",
    "lista2 = ['f','g','h',20,20,20,'20.5']\n",
    "lista = []"
   ]
  },
  {
   "cell_type": "code",
   "execution_count": 36,
   "metadata": {},
   "outputs": [
    {
     "name": "stdout",
     "output_type": "stream",
     "text": [
      " A soma de todos os números é igual a 120.5\n"
     ]
    }
   ],
   "source": [
    "# seu código aqui: # porque e\n",
    "\n",
    "lista = lista1[:4]+lista2[3:]\n",
    "lista[-1]=float(lista[-1]) # menos 1 é o ultimo que estava como string\n",
    "print(' A soma de todos os números é igual a {}'.format(sum(lista)))\n"
   ]
  },
  {
   "cell_type": "markdown",
   "metadata": {},
   "source": [
    "output: A soma de todos os números é igual a 120.5"
   ]
  },
  {
   "cell_type": "markdown",
   "metadata": {},
   "source": [
    "dropdown\n",
    "Clique duas vezes para ver a resposta\n",
    "\n",
    "<!--\n",
    "lista = lista1[:4]+lista2[3:]\n",
    "lista[-1] = float(lista[-1])\n",
    "print('A soma de todos os números é igual a {}'.format(sum(lista)))\n",
    "-->"
   ]
  },
  {
   "cell_type": "code",
   "execution_count": null,
   "metadata": {},
   "outputs": [],
   "source": []
  }
 ],
 "metadata": {
  "kernelspec": {
   "display_name": "Python 3",
   "language": "python",
   "name": "python3"
  },
  "language_info": {
   "codemirror_mode": {
    "name": "ipython",
    "version": 3
   },
   "file_extension": ".py",
   "mimetype": "text/x-python",
   "name": "python",
   "nbconvert_exporter": "python",
   "pygments_lexer": "ipython3",
   "version": "3.7.6"
  }
 },
 "nbformat": 4,
 "nbformat_minor": 2
}
