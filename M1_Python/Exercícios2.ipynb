{
 "cells": [
  {
   "cell_type": "markdown",
   "metadata": {},
   "source": [
    "# 1 - Crie uma função que recebe dois valores e checa se eles são maiores ou menores que 100 ( não muito explicado) eles juntos ? os dois ?"
   ]
  },
  {
   "cell_type": "code",
   "execution_count": 1,
   "metadata": {},
   "outputs": [],
   "source": [
    "x = 54\n",
    "y = 33"
   ]
  },
  {
   "cell_type": "code",
   "execution_count": 3,
   "metadata": {},
   "outputs": [
    {
     "data": {
      "text/plain": [
       "True"
      ]
     },
     "execution_count": 3,
     "metadata": {},
     "output_type": "execute_result"
    }
   ],
   "source": [
    "# seu código aqui:\n",
    "def checking(x,y):\n",
    "    return (x<100 and y<100)\n",
    "\n",
    "checking(x,y)\n"
   ]
  },
  {
   "cell_type": "markdown",
   "metadata": {},
   "source": [
    "output: True"
   ]
  },
  {
   "cell_type": "code",
   "execution_count": null,
   "metadata": {},
   "outputs": [],
   "source": [
    "Clique duas vezes para ver a resposta\n",
    "\n",
    "<!--\n",
    "def menor_que_100(a, b):\n",
    "    return (a + b) < 100\n",
    "menor_que_100(x, y)\n",
    "-->"
   ]
  },
  {
   "cell_type": "markdown",
   "metadata": {},
   "source": [
    "# 2 - Crie uma função que conta o número de vogais de uma string"
   ]
  },
  {
   "cell_type": "code",
   "execution_count": 1,
   "metadata": {},
   "outputs": [],
   "source": [
    "x = \"paralelepipedo\""
   ]
  },
  {
   "cell_type": "code",
   "execution_count": 7,
   "metadata": {},
   "outputs": [
    {
     "data": {
      "text/plain": [
       "7"
      ]
     },
     "execution_count": 7,
     "metadata": {},
     "output_type": "execute_result"
    }
   ],
   "source": [
    "# seu código aqui:\n",
    "def countingvogal(x):\n",
    "    count = 0\n",
    "    for i in x:\n",
    "        #print(i)\n",
    "        if i==\"a\"or i==\"e\"or i==\"i\"or i==\"o\"or i==\"u\":\n",
    "            count+=1\n",
    "            #print(count)\n",
    "    return count\n",
    "\n",
    "countingvogal(\"paralelepipedo\")\n",
    "            \n",
    "        "
   ]
  },
  {
   "cell_type": "markdown",
   "metadata": {},
   "source": [
    "output: 7"
   ]
  },
  {
   "cell_type": "markdown",
   "metadata": {},
   "source": [
    "Clique duas vezes para ver a resposta\n",
    "\n",
    "<!--\n",
    "def contar_vogais(string):\n",
    "    vogais = ['a','e','i','o','u']\n",
    "    total = 0\n",
    "    for s in string:\n",
    "        if s in vogais:\n",
    "            total += 1\n",
    "    return total\n",
    "contar_vogais(x)\n",
    "-->"
   ]
  },
  {
   "cell_type": "markdown",
   "metadata": {},
   "source": [
    "# 3 - Temos uma lista com números de 1 a 10, porém existe um número faltando. Crie uma função que recebe essa lista e retorna o número faltante."
   ]
  },
  {
   "cell_type": "code",
   "execution_count": 4,
   "metadata": {},
   "outputs": [],
   "source": [
    "lista  = [7, 2, 3, 6, 5, 10, 1, 4, 8]"
   ]
  },
  {
   "cell_type": "code",
   "execution_count": 7,
   "metadata": {},
   "outputs": [
    {
     "data": {
      "text/plain": [
       "9"
      ]
     },
     "execution_count": 7,
     "metadata": {},
     "output_type": "execute_result"
    }
   ],
   "source": [
    "def faltando(x):\n",
    "    ref=[1,2,3,4,5,6,7,8,9,10]\n",
    "    for i in ref:\n",
    "        if i not in x:\n",
    "            return i\n",
    "        \n",
    "faltando(lista)\n",
    "\n",
    "    \n",
    "    "
   ]
  },
  {
   "cell_type": "markdown",
   "metadata": {},
   "source": [
    "output: 9"
   ]
  },
  {
   "cell_type": "markdown",
   "metadata": {},
   "source": [
    "Clique duas vezes para ver a resposta\n",
    "\n",
    "<!--\n",
    "def numero_faltante(x):\n",
    "    for i in range(1,11):\n",
    "        if i not in x:\n",
    "            return i\n",
    "numero_faltante(lista)\n",
    "-->"
   ]
  },
  {
   "cell_type": "markdown",
   "metadata": {},
   "source": [
    "# 4 - Crie uma função que recebe uma lista de integers, a função deve retornar o número que aparece uma quantidade ímpar de vezes"
   ]
  },
  {
   "cell_type": "code",
   "execution_count": 2,
   "metadata": {},
   "outputs": [],
   "source": [
    "lista  = [20, 1, 1, 2, 2, 3, 3, 5, 5, 4, 20, 4, 5]"
   ]
  },
  {
   "cell_type": "code",
   "execution_count": 3,
   "metadata": {},
   "outputs": [
    {
     "data": {
      "text/plain": [
       "2"
      ]
     },
     "execution_count": 3,
     "metadata": {},
     "output_type": "execute_result"
    }
   ],
   "source": [
    "lista.count(20)"
   ]
  },
  {
   "cell_type": "code",
   "execution_count": 10,
   "metadata": {},
   "outputs": [
    {
     "data": {
      "text/plain": [
       "5"
      ]
     },
     "execution_count": 10,
     "metadata": {},
     "output_type": "execute_result"
    }
   ],
   "source": [
    "# seu código aqui:\n",
    "def impardistinct(x):\n",
    "    for i in x:\n",
    "        if x.count(i)%2!=0:\n",
    "            return(i)\n",
    "        \n",
    "\n",
    "            \n",
    "impardistinct(lista)"
   ]
  },
  {
   "cell_type": "markdown",
   "metadata": {},
   "source": [
    "output: 5"
   ]
  },
  {
   "cell_type": "markdown",
   "metadata": {},
   "source": [
    "Clique duas vezes para ver a resposta\n",
    "\n",
    "<!--\n",
    "def encontrar_impar(y):\n",
    "    for i in y:\n",
    "        if y.count(i) % 2 != 0:\n",
    "            return i\n",
    "encontrar_impar(lista)\n",
    "-->"
   ]
  },
  {
   "cell_type": "markdown",
   "metadata": {},
   "source": [
    "# 5 - Escreva um código que retire valores de uma lista, com base nos valores de outra lista e imprima o texto do output"
   ]
  },
  {
   "cell_type": "code",
   "execution_count": 1,
   "metadata": {},
   "outputs": [],
   "source": [
    "#lista base:\n",
    "lista1 = [1, 7, 5, 2, 10, 34, 621, 45, 7, 76, 23, 14, \"a\", 6]\n",
    "\n",
    "#excluir da lista base os valores que aparecem na lista abaixo:\n",
    "lista2 = ['a', 'b', 'c', 7, 10, 23, 14]"
   ]
  },
  {
   "cell_type": "code",
   "execution_count": 4,
   "metadata": {},
   "outputs": [
    {
     "name": "stdout",
     "output_type": "stream",
     "text": [
      "A lista1 perdeu 6 elementos e agora possui 8 elementos\n"
     ]
    }
   ],
   "source": [
    "x=len(lista1)\n",
    "lista1=[i for i in lista1 if i not in lista2]\n",
    "y=len(lista1)\n",
    "print('A lista1 perdeu {} elementos e agora possui {} elementos'.format(x-y,y))"
   ]
  },
  {
   "cell_type": "code",
   "execution_count": 4,
   "metadata": {
    "scrolled": false
   },
   "outputs": [
    {
     "name": "stdout",
     "output_type": "stream",
     "text": [
      "A lista1 perdeu 6 elementos e agora possui 8 elementos\n"
     ]
    }
   ],
   "source": [
    "# seu código aqui:\n",
    "x=len(lista1)\n",
    "lista3=[]\n",
    "for i in lista1:\n",
    "    #print(x)\n",
    "    if i not in lista2:\n",
    "        lista3.append(i)\n",
    "        #print(i)\n",
    "y=len(lista3)\n",
    "z=x-y\n",
    "    \n",
    "        \n",
    "#print(lista1,perdeu)\n",
    "\n",
    "# por algum motivo o 'a' nao esta saindo da lista\n",
    "\n",
    "print(\"A lista1 perdeu {} elementos e agora possui {} elementos\".format(z,len(lista3)))"
   ]
  },
  {
   "cell_type": "code",
   "execution_count": 27,
   "metadata": {},
   "outputs": [
    {
     "name": "stdout",
     "output_type": "stream",
     "text": [
      "[1, 5, 2, 34, 621, 45, 76, 6]\n"
     ]
    }
   ],
   "source": [
    "print(lista3)"
   ]
  },
  {
   "cell_type": "markdown",
   "metadata": {},
   "source": [
    "output: A lista1 perdeu 6 elementos e agora possui 8 elementos"
   ]
  },
  {
   "cell_type": "markdown",
   "metadata": {},
   "source": [
    "Clique duas vezes para ver a resposta\n",
    "\n",
    "<!--\n",
    "x = len(lista1)\n",
    "lista1 = [x for x in lista1 if x not in lista2]\n",
    "y = len(lista1)\n",
    "print('A lista1 perdeu {} elementos e agora possui {} elementos'.format(x-y,y))\n",
    "-->"
   ]
  },
  {
   "cell_type": "code",
   "execution_count": 35,
   "metadata": {},
   "outputs": [
    {
     "name": "stdout",
     "output_type": "stream",
     "text": [
      "A lista1 perdeu 6 elementos e agora possui 8 elementos\n"
     ]
    }
   ],
   "source": [
    "x = len(lista1)\n",
    "lista1 = [x for x in lista1 if x not in lista2]\n",
    "y = len(lista1)\n",
    "print('A lista1 perdeu {} elementos e agora possui {} elementos'.format(x-y,y))"
   ]
  },
  {
   "cell_type": "markdown",
   "metadata": {},
   "source": [
    "# 6 - Escreva um código que imprima os valores pares do resultantes de: range(20)"
   ]
  },
  {
   "cell_type": "code",
   "execution_count": 11,
   "metadata": {},
   "outputs": [],
   "source": [
    "x = range(20)"
   ]
  },
  {
   "cell_type": "code",
   "execution_count": 1,
   "metadata": {},
   "outputs": [
    {
     "name": "stdout",
     "output_type": "stream",
     "text": [
      "0\n",
      "2\n",
      "4\n",
      "6\n",
      "8\n",
      "10\n",
      "12\n",
      "14\n",
      "16\n",
      "18\n"
     ]
    }
   ],
   "source": [
    "# seu código aqui:\n",
    "for i in range(20):\n",
    "    if i%2==0:\n",
    "        print(i)\n"
   ]
  },
  {
   "cell_type": "markdown",
   "metadata": {},
   "source": [
    "output: [0, 2, 4, 6, 8, 10, 12, 14, 16, 18]"
   ]
  },
  {
   "cell_type": "markdown",
   "metadata": {},
   "source": [
    "Clique duas vezes para ver a resposta\n",
    "\n",
    "<!--\n",
    "lista = [ i for i in x if i % 2 == 0]\n",
    "print(lista)\n",
    "-->"
   ]
  },
  {
   "cell_type": "markdown",
   "metadata": {},
   "source": [
    "# 7 - Escreva uma função recebe o número inputado via função input (), e retorna se esse número é positivo, negativo ou igual a zero"
   ]
  },
  {
   "cell_type": "code",
   "execution_count": 3,
   "metadata": {},
   "outputs": [
    {
     "name": "stdout",
     "output_type": "stream",
     "text": [
      "Digite algum número aqui :-2\n",
      "Negativo\n"
     ]
    }
   ],
   "source": [
    "# seu código\n",
    "\n",
    "y=float(input(\"Digite algum número aqui :\"))\n",
    "\n",
    "if y>0:\n",
    "    print(\"Positivo\")\n",
    "elif y==0:\n",
    "    print(\"Zero\")\n",
    "else:\n",
    "    print(\"Negativo\")\n"
   ]
  },
  {
   "cell_type": "code",
   "execution_count": 14,
   "metadata": {},
   "outputs": [
    {
     "name": "stdout",
     "output_type": "stream",
     "text": [
      "O número é positivo\n"
     ]
    }
   ],
   "source": [
    "# seu código aqui:\n"
   ]
  },
  {
   "cell_type": "markdown",
   "metadata": {},
   "source": [
    "output: vai depender do valor da primeira célula, mas o resultado pode variar entre \"Zero\", \"O número é positivo\" e \"O número é negativo\""
   ]
  },
  {
   "cell_type": "markdown",
   "metadata": {},
   "source": [
    "Clique duas vezes para ver a resposta\n",
    "\n",
    "<!--\n",
    "def checar_numero (x):\n",
    "    if x >= 0:\n",
    "        if x == 0:\n",
    "            return print(\"Zero\")\n",
    "        else:\n",
    "            return print(\"O número é positivo\")\n",
    "    else:\n",
    "        return print(\"O número é negativo\")\n",
    "checar_numero (y)\n",
    "-->"
   ]
  }
 ],
 "metadata": {
  "kernelspec": {
   "display_name": "Python 3",
   "language": "python",
   "name": "python3"
  },
  "language_info": {
   "codemirror_mode": {
    "name": "ipython",
    "version": 3
   },
   "file_extension": ".py",
   "mimetype": "text/x-python",
   "name": "python",
   "nbconvert_exporter": "python",
   "pygments_lexer": "ipython3",
   "version": "3.7.6"
  }
 },
 "nbformat": 4,
 "nbformat_minor": 2
}
